{
  "nbformat": 4,
  "nbformat_minor": 0,
  "metadata": {
    "colab": {
      "provenance": [],
      "toc_visible": true,
      "include_colab_link": true
    },
    "kernelspec": {
      "name": "python3",
      "display_name": "Python 3"
    },
    "language_info": {
      "name": "python"
    }
  },
  "cells": [
    {
      "cell_type": "markdown",
      "metadata": {
        "id": "view-in-github",
        "colab_type": "text"
      },
      "source": [
        "<a href=\"https://colab.research.google.com/github/jimmynkim/drivingcourse/blob/main/DAEM23_02.ipynb\" target=\"_parent\"><img src=\"https://colab.research.google.com/assets/colab-badge.svg\" alt=\"Open In Colab\"/></a>"
      ]
    },
    {
      "cell_type": "markdown",
      "source": [
        "![seoultech logo small.png](data:image/png;base64,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)"
      ],
      "metadata": {
        "id": "GToIZEsxEqpS"
      }
    },
    {
      "cell_type": "markdown",
      "source": [
        "# Lab Session \\# 02\n",
        "---\n",
        "\n",
        "by Prof. Josué Obregón <br>\n",
        "Data Analysis for Electronic Manufacturing <br>\n",
        "Department of Data Science - SeoulTech<br>\n",
        "\n",
        "## Objective\n",
        "\n",
        "The objectives of this lab session are as follows:\n",
        "\n",
        "1.   Introduce additional Pandas functions useful for data manipulation and exploration\n",
        "2.   To introduce Pandas ability to create simple plots that are useful for data visualization"
      ],
      "metadata": {
        "id": "Ezhlc9pxD0YK"
      }
    },
    {
      "cell_type": "markdown",
      "metadata": {
        "id": "RHptltNi1dkw"
      },
      "source": [
        "# Combining Datasets: concat\n"
      ]
    },
    {
      "cell_type": "markdown",
      "metadata": {
        "id": "aj8kAN1t1dk0"
      },
      "source": [
        "Some of the most interesting studies of data come from combining different data sources.\n",
        "These operations can involve anything from very straightforward concatenation of two different datasets to more complicated database-style joins and merges that correctly handle any overlaps between the datasets.\n",
        "`Series` and ``DataFrame``s are built with this type of operation in mind, and Pandas includes functions and methods that make this sort of data wrangling fast and straightforward.\n",
        "\n",
        "Here we'll take a look at simple concatenation of `Series` and ``DataFrame``s with the `pd.concat` function in Pandas.\n",
        "\n",
        "We begin with the standard imports:"
      ]
    },
    {
      "cell_type": "code",
      "execution_count": 1,
      "metadata": {
        "tags": [],
        "id": "bij4I36R1dk0"
      },
      "outputs": [],
      "source": [
        "import numpy as np\n",
        "import pandas as pd"
      ]
    },
    {
      "cell_type": "markdown",
      "metadata": {
        "id": "721NjtCB1dk2"
      },
      "source": [
        "For convenience, we'll define this function, which creates a `DataFrame` of a particular form that will be useful in the following examples:"
      ]
    },
    {
      "cell_type": "code",
      "execution_count": 2,
      "metadata": {
        "jupyter": {
          "outputs_hidden": false
        },
        "id": "qvc7RF-J1dk2",
        "colab": {
          "base_uri": "https://localhost:8080/",
          "height": 143
        },
        "outputId": "398cbd83-d8a7-46b5-9af0-299c05aa82ab"
      },
      "outputs": [
        {
          "output_type": "execute_result",
          "data": {
            "text/plain": [
              "    A   B   C\n",
              "0  A0  B0  C0\n",
              "1  A1  B1  C1\n",
              "2  A2  B2  C2"
            ],
            "text/html": [
              "\n",
              "  <div id=\"df-9aa96a3f-6ea9-477b-9bc5-5fa3f9e0dbc1\" class=\"colab-df-container\">\n",
              "    <div>\n",
              "<style scoped>\n",
              "    .dataframe tbody tr th:only-of-type {\n",
              "        vertical-align: middle;\n",
              "    }\n",
              "\n",
              "    .dataframe tbody tr th {\n",
              "        vertical-align: top;\n",
              "    }\n",
              "\n",
              "    .dataframe thead th {\n",
              "        text-align: right;\n",
              "    }\n",
              "</style>\n",
              "<table border=\"1\" class=\"dataframe\">\n",
              "  <thead>\n",
              "    <tr style=\"text-align: right;\">\n",
              "      <th></th>\n",
              "      <th>A</th>\n",
              "      <th>B</th>\n",
              "      <th>C</th>\n",
              "    </tr>\n",
              "  </thead>\n",
              "  <tbody>\n",
              "    <tr>\n",
              "      <th>0</th>\n",
              "      <td>A0</td>\n",
              "      <td>B0</td>\n",
              "      <td>C0</td>\n",
              "    </tr>\n",
              "    <tr>\n",
              "      <th>1</th>\n",
              "      <td>A1</td>\n",
              "      <td>B1</td>\n",
              "      <td>C1</td>\n",
              "    </tr>\n",
              "    <tr>\n",
              "      <th>2</th>\n",
              "      <td>A2</td>\n",
              "      <td>B2</td>\n",
              "      <td>C2</td>\n",
              "    </tr>\n",
              "  </tbody>\n",
              "</table>\n",
              "</div>\n",
              "    <div class=\"colab-df-buttons\">\n",
              "\n",
              "  <div class=\"colab-df-container\">\n",
              "    <button class=\"colab-df-convert\" onclick=\"convertToInteractive('df-9aa96a3f-6ea9-477b-9bc5-5fa3f9e0dbc1')\"\n",
              "            title=\"Convert this dataframe to an interactive table.\"\n",
              "            style=\"display:none;\">\n",
              "\n",
              "  <svg xmlns=\"http://www.w3.org/2000/svg\" height=\"24px\" viewBox=\"0 -960 960 960\">\n",
              "    <path d=\"M120-120v-720h720v720H120Zm60-500h600v-160H180v160Zm220 220h160v-160H400v160Zm0 220h160v-160H400v160ZM180-400h160v-160H180v160Zm440 0h160v-160H620v160ZM180-180h160v-160H180v160Zm440 0h160v-160H620v160Z\"/>\n",
              "  </svg>\n",
              "    </button>\n",
              "\n",
              "  <style>\n",
              "    .colab-df-container {\n",
              "      display:flex;\n",
              "      gap: 12px;\n",
              "    }\n",
              "\n",
              "    .colab-df-convert {\n",
              "      background-color: #E8F0FE;\n",
              "      border: none;\n",
              "      border-radius: 50%;\n",
              "      cursor: pointer;\n",
              "      display: none;\n",
              "      fill: #1967D2;\n",
              "      height: 32px;\n",
              "      padding: 0 0 0 0;\n",
              "      width: 32px;\n",
              "    }\n",
              "\n",
              "    .colab-df-convert:hover {\n",
              "      background-color: #E2EBFA;\n",
              "      box-shadow: 0px 1px 2px rgba(60, 64, 67, 0.3), 0px 1px 3px 1px rgba(60, 64, 67, 0.15);\n",
              "      fill: #174EA6;\n",
              "    }\n",
              "\n",
              "    .colab-df-buttons div {\n",
              "      margin-bottom: 4px;\n",
              "    }\n",
              "\n",
              "    [theme=dark] .colab-df-convert {\n",
              "      background-color: #3B4455;\n",
              "      fill: #D2E3FC;\n",
              "    }\n",
              "\n",
              "    [theme=dark] .colab-df-convert:hover {\n",
              "      background-color: #434B5C;\n",
              "      box-shadow: 0px 1px 3px 1px rgba(0, 0, 0, 0.15);\n",
              "      filter: drop-shadow(0px 1px 2px rgba(0, 0, 0, 0.3));\n",
              "      fill: #FFFFFF;\n",
              "    }\n",
              "  </style>\n",
              "\n",
              "    <script>\n",
              "      const buttonEl =\n",
              "        document.querySelector('#df-9aa96a3f-6ea9-477b-9bc5-5fa3f9e0dbc1 button.colab-df-convert');\n",
              "      buttonEl.style.display =\n",
              "        google.colab.kernel.accessAllowed ? 'block' : 'none';\n",
              "\n",
              "      async function convertToInteractive(key) {\n",
              "        const element = document.querySelector('#df-9aa96a3f-6ea9-477b-9bc5-5fa3f9e0dbc1');\n",
              "        const dataTable =\n",
              "          await google.colab.kernel.invokeFunction('convertToInteractive',\n",
              "                                                    [key], {});\n",
              "        if (!dataTable) return;\n",
              "\n",
              "        const docLinkHtml = 'Like what you see? Visit the ' +\n",
              "          '<a target=\"_blank\" href=https://colab.research.google.com/notebooks/data_table.ipynb>data table notebook</a>'\n",
              "          + ' to learn more about interactive tables.';\n",
              "        element.innerHTML = '';\n",
              "        dataTable['output_type'] = 'display_data';\n",
              "        await google.colab.output.renderOutput(dataTable, element);\n",
              "        const docLink = document.createElement('div');\n",
              "        docLink.innerHTML = docLinkHtml;\n",
              "        element.appendChild(docLink);\n",
              "      }\n",
              "    </script>\n",
              "  </div>\n",
              "\n",
              "\n",
              "<div id=\"df-c120e50b-1aea-4c11-a7cb-4a211400b4b4\">\n",
              "  <button class=\"colab-df-quickchart\" onclick=\"quickchart('df-c120e50b-1aea-4c11-a7cb-4a211400b4b4')\"\n",
              "            title=\"Suggest charts.\"\n",
              "            style=\"display:none;\">\n",
              "\n",
              "<svg xmlns=\"http://www.w3.org/2000/svg\" height=\"24px\"viewBox=\"0 0 24 24\"\n",
              "     width=\"24px\">\n",
              "    <g>\n",
              "        <path d=\"M19 3H5c-1.1 0-2 .9-2 2v14c0 1.1.9 2 2 2h14c1.1 0 2-.9 2-2V5c0-1.1-.9-2-2-2zM9 17H7v-7h2v7zm4 0h-2V7h2v10zm4 0h-2v-4h2v4z\"/>\n",
              "    </g>\n",
              "</svg>\n",
              "  </button>\n",
              "\n",
              "<style>\n",
              "  .colab-df-quickchart {\n",
              "      --bg-color: #E8F0FE;\n",
              "      --fill-color: #1967D2;\n",
              "      --hover-bg-color: #E2EBFA;\n",
              "      --hover-fill-color: #174EA6;\n",
              "      --disabled-fill-color: #AAA;\n",
              "      --disabled-bg-color: #DDD;\n",
              "  }\n",
              "\n",
              "  [theme=dark] .colab-df-quickchart {\n",
              "      --bg-color: #3B4455;\n",
              "      --fill-color: #D2E3FC;\n",
              "      --hover-bg-color: #434B5C;\n",
              "      --hover-fill-color: #FFFFFF;\n",
              "      --disabled-bg-color: #3B4455;\n",
              "      --disabled-fill-color: #666;\n",
              "  }\n",
              "\n",
              "  .colab-df-quickchart {\n",
              "    background-color: var(--bg-color);\n",
              "    border: none;\n",
              "    border-radius: 50%;\n",
              "    cursor: pointer;\n",
              "    display: none;\n",
              "    fill: var(--fill-color);\n",
              "    height: 32px;\n",
              "    padding: 0;\n",
              "    width: 32px;\n",
              "  }\n",
              "\n",
              "  .colab-df-quickchart:hover {\n",
              "    background-color: var(--hover-bg-color);\n",
              "    box-shadow: 0 1px 2px rgba(60, 64, 67, 0.3), 0 1px 3px 1px rgba(60, 64, 67, 0.15);\n",
              "    fill: var(--button-hover-fill-color);\n",
              "  }\n",
              "\n",
              "  .colab-df-quickchart-complete:disabled,\n",
              "  .colab-df-quickchart-complete:disabled:hover {\n",
              "    background-color: var(--disabled-bg-color);\n",
              "    fill: var(--disabled-fill-color);\n",
              "    box-shadow: none;\n",
              "  }\n",
              "\n",
              "  .colab-df-spinner {\n",
              "    border: 2px solid var(--fill-color);\n",
              "    border-color: transparent;\n",
              "    border-bottom-color: var(--fill-color);\n",
              "    animation:\n",
              "      spin 1s steps(1) infinite;\n",
              "  }\n",
              "\n",
              "  @keyframes spin {\n",
              "    0% {\n",
              "      border-color: transparent;\n",
              "      border-bottom-color: var(--fill-color);\n",
              "      border-left-color: var(--fill-color);\n",
              "    }\n",
              "    20% {\n",
              "      border-color: transparent;\n",
              "      border-left-color: var(--fill-color);\n",
              "      border-top-color: var(--fill-color);\n",
              "    }\n",
              "    30% {\n",
              "      border-color: transparent;\n",
              "      border-left-color: var(--fill-color);\n",
              "      border-top-color: var(--fill-color);\n",
              "      border-right-color: var(--fill-color);\n",
              "    }\n",
              "    40% {\n",
              "      border-color: transparent;\n",
              "      border-right-color: var(--fill-color);\n",
              "      border-top-color: var(--fill-color);\n",
              "    }\n",
              "    60% {\n",
              "      border-color: transparent;\n",
              "      border-right-color: var(--fill-color);\n",
              "    }\n",
              "    80% {\n",
              "      border-color: transparent;\n",
              "      border-right-color: var(--fill-color);\n",
              "      border-bottom-color: var(--fill-color);\n",
              "    }\n",
              "    90% {\n",
              "      border-color: transparent;\n",
              "      border-bottom-color: var(--fill-color);\n",
              "    }\n",
              "  }\n",
              "</style>\n",
              "\n",
              "  <script>\n",
              "    async function quickchart(key) {\n",
              "      const quickchartButtonEl =\n",
              "        document.querySelector('#' + key + ' button');\n",
              "      quickchartButtonEl.disabled = true;  // To prevent multiple clicks.\n",
              "      quickchartButtonEl.classList.add('colab-df-spinner');\n",
              "      try {\n",
              "        const charts = await google.colab.kernel.invokeFunction(\n",
              "            'suggestCharts', [key], {});\n",
              "      } catch (error) {\n",
              "        console.error('Error during call to suggestCharts:', error);\n",
              "      }\n",
              "      quickchartButtonEl.classList.remove('colab-df-spinner');\n",
              "      quickchartButtonEl.classList.add('colab-df-quickchart-complete');\n",
              "    }\n",
              "    (() => {\n",
              "      let quickchartButtonEl =\n",
              "        document.querySelector('#df-c120e50b-1aea-4c11-a7cb-4a211400b4b4 button');\n",
              "      quickchartButtonEl.style.display =\n",
              "        google.colab.kernel.accessAllowed ? 'block' : 'none';\n",
              "    })();\n",
              "  </script>\n",
              "</div>\n",
              "    </div>\n",
              "  </div>\n"
            ]
          },
          "metadata": {},
          "execution_count": 2
        }
      ],
      "source": [
        "def make_df(cols, ind):\n",
        "    \"\"\"Quickly make a DataFrame\"\"\"\n",
        "    data = {c: [str(c) + str(i) for i in ind]\n",
        "            for c in cols}\n",
        "    return pd.DataFrame(data, ind)\n",
        "\n",
        "# example DataFrame\n",
        "make_df('ABC', range(3))"
      ]
    },
    {
      "cell_type": "markdown",
      "metadata": {
        "id": "LWtyc8CA1dk3"
      },
      "source": [
        "In addition, we'll create a quick class that allows us to display multiple ``DataFrame``s side by side. The code makes use of the special `_repr_html_` method, which IPython/Jupyter uses to implement its rich object display:"
      ]
    },
    {
      "cell_type": "code",
      "execution_count": 3,
      "metadata": {
        "tags": [],
        "id": "oitDY1ak1dk3"
      },
      "outputs": [],
      "source": [
        "class display(object):\n",
        "    \"\"\"Display HTML representation of multiple objects\"\"\"\n",
        "    template = \"\"\"<div style=\"float: left; padding: 10px;\">\n",
        "    <p style='font-family:\"Courier New\", Courier, monospace'>{0}</p>{1}\n",
        "    </div>\"\"\"\n",
        "    def __init__(self, *args):\n",
        "        self.args = args\n",
        "\n",
        "    def _repr_html_(self):\n",
        "        return '\\n'.join(self.template.format(a, eval(a)._repr_html_())\n",
        "                         for a in self.args)\n",
        "\n",
        "    def __repr__(self):\n",
        "        return '\\n\\n'.join(a + '\\n' + repr(eval(a))\n",
        "                           for a in self.args)\n"
      ]
    },
    {
      "cell_type": "markdown",
      "metadata": {
        "id": "bj3W88Tb1dk4"
      },
      "source": [
        "The use of this will become clearer as we continue our discussion in the following section."
      ]
    },
    {
      "cell_type": "markdown",
      "metadata": {
        "id": "n_2rYY1K1dk4"
      },
      "source": [
        "## Recall: Concatenation of NumPy Arrays\n",
        "\n",
        "Concatenation of `Series` and `DataFrame` objects behaves similarly to concatenation of NumPy arrays, which can be done via the `np.concatenate` function.\n",
        "Recall that with it, you can combine the contents of two or more arrays into a single array:"
      ]
    },
    {
      "cell_type": "code",
      "source": [
        "np.concatenate?"
      ],
      "metadata": {
        "id": "2VmaSzjYjSCh"
      },
      "execution_count": 5,
      "outputs": []
    },
    {
      "cell_type": "code",
      "execution_count": 6,
      "metadata": {
        "jupyter": {
          "outputs_hidden": false
        },
        "id": "Bq6lhCz21dk4",
        "colab": {
          "base_uri": "https://localhost:8080/"
        },
        "outputId": "36263ba1-84dc-4196-fd4d-7952744730cd"
      },
      "outputs": [
        {
          "output_type": "execute_result",
          "data": {
            "text/plain": [
              "array([1, 2, 3, 4, 5, 6, 7, 8, 9])"
            ]
          },
          "metadata": {},
          "execution_count": 6
        }
      ],
      "source": [
        "x = [1, 2, 3]\n",
        "y = [4, 5, 6]\n",
        "z = [7, 8, 9]\n",
        "#concatenate x, y and z\n",
        "np.concatenate([x,y,z])"
      ]
    },
    {
      "cell_type": "markdown",
      "metadata": {
        "id": "w-NIyRmJ1dk5"
      },
      "source": [
        "The first argument is a list or tuple of arrays to concatenate.\n",
        "Additionally, in the case of multidimensional arrays, it takes an `axis` keyword that allows you to specify the axis along which the result will be concatenated:"
      ]
    },
    {
      "cell_type": "code",
      "execution_count": 8,
      "metadata": {
        "jupyter": {
          "outputs_hidden": false
        },
        "id": "CoeyhJzh1dk5",
        "colab": {
          "base_uri": "https://localhost:8080/"
        },
        "outputId": "59494482-5fe0-406e-fa1d-864dcaff7758"
      },
      "outputs": [
        {
          "output_type": "execute_result",
          "data": {
            "text/plain": [
              "array([[1, 2, 1, 2],\n",
              "       [3, 4, 3, 4]])"
            ]
          },
          "metadata": {},
          "execution_count": 8
        }
      ],
      "source": [
        "x = [[1, 2],\n",
        "     [3, 4]]\n",
        "#concatenate x and x\n",
        "np.concatenate([x,x], axis=1) # by column"
      ]
    },
    {
      "cell_type": "code",
      "source": [
        "np.concatenate([x,x], axis=0) # by row"
      ],
      "metadata": {
        "colab": {
          "base_uri": "https://localhost:8080/"
        },
        "id": "KJheNI9zjZv2",
        "outputId": "c34d29b5-c080-4f57-9e0a-09a1c708cb3a"
      },
      "execution_count": 10,
      "outputs": [
        {
          "output_type": "execute_result",
          "data": {
            "text/plain": [
              "array([[1, 2],\n",
              "       [3, 4],\n",
              "       [1, 2],\n",
              "       [3, 4]])"
            ]
          },
          "metadata": {},
          "execution_count": 10
        }
      ]
    },
    {
      "cell_type": "markdown",
      "metadata": {
        "id": "rJcUPVoF1dk5"
      },
      "source": [
        "## Simple Concatenation with pd.concat"
      ]
    },
    {
      "cell_type": "markdown",
      "metadata": {
        "id": "x1Tf6bKA1dk5"
      },
      "source": [
        "The `pd.concat` function provides a similar syntax to `np.concatenate` but contains a number of options that we'll discuss momentarily:\n",
        "\n",
        "```python\n",
        "# Signature in Pandas v1.3.5\n",
        "pd.concat(objs, axis=0, join='outer', ignore_index=False, keys=None,\n",
        "          levels=None, names=None, verify_integrity=False,\n",
        "          sort=False, copy=True)\n",
        "```\n",
        "\n",
        "`pd.concat` can be used for a simple concatenation of `Series` or `DataFrame` objects, just as `np.concatenate` can be used for simple concatenations of arrays:"
      ]
    },
    {
      "cell_type": "code",
      "execution_count": 11,
      "metadata": {
        "jupyter": {
          "outputs_hidden": false
        },
        "id": "wjN1M1av1dk5",
        "colab": {
          "base_uri": "https://localhost:8080/"
        },
        "outputId": "51f9a3c6-92de-404d-87eb-853c2f0939ed"
      },
      "outputs": [
        {
          "output_type": "execute_result",
          "data": {
            "text/plain": [
              "1    A\n",
              "2    B\n",
              "3    C\n",
              "4    D\n",
              "5    E\n",
              "6    F\n",
              "dtype: object"
            ]
          },
          "metadata": {},
          "execution_count": 11
        }
      ],
      "source": [
        "ser1 = pd.Series(['A', 'B', 'C'], index=[1, 2, 3])\n",
        "ser2 = pd.Series(['D', 'E', 'F'], index=[4, 5, 6])\n",
        "#concatenate ser1 and ser2\n",
        "pd.concat([ser1,ser2])"
      ]
    },
    {
      "cell_type": "markdown",
      "metadata": {
        "id": "pxlk5UcX1dk5"
      },
      "source": [
        "It also works to concatenate higher-dimensional objects, such as ``DataFrame``s:"
      ]
    },
    {
      "cell_type": "code",
      "execution_count": 12,
      "metadata": {
        "jupyter": {
          "outputs_hidden": false
        },
        "id": "Stvf37b21dk5",
        "colab": {
          "base_uri": "https://localhost:8080/",
          "height": 224
        },
        "outputId": "a664b252-8e78-44ae-febb-d567ad206d73"
      },
      "outputs": [
        {
          "output_type": "execute_result",
          "data": {
            "text/plain": [
              "df1\n",
              "    A   B\n",
              "1  A1  B1\n",
              "2  A2  B2\n",
              "\n",
              "df2\n",
              "    A   B\n",
              "3  A3  B3\n",
              "4  A4  B4\n",
              "\n",
              "pd.concat([df1, df2])\n",
              "    A   B\n",
              "1  A1  B1\n",
              "2  A2  B2\n",
              "3  A3  B3\n",
              "4  A4  B4"
            ],
            "text/html": [
              "<div style=\"float: left; padding: 10px;\">\n",
              "    <p style='font-family:\"Courier New\", Courier, monospace'>df1</p><div>\n",
              "<style scoped>\n",
              "    .dataframe tbody tr th:only-of-type {\n",
              "        vertical-align: middle;\n",
              "    }\n",
              "\n",
              "    .dataframe tbody tr th {\n",
              "        vertical-align: top;\n",
              "    }\n",
              "\n",
              "    .dataframe thead th {\n",
              "        text-align: right;\n",
              "    }\n",
              "</style>\n",
              "<table border=\"1\" class=\"dataframe\">\n",
              "  <thead>\n",
              "    <tr style=\"text-align: right;\">\n",
              "      <th></th>\n",
              "      <th>A</th>\n",
              "      <th>B</th>\n",
              "    </tr>\n",
              "  </thead>\n",
              "  <tbody>\n",
              "    <tr>\n",
              "      <th>1</th>\n",
              "      <td>A1</td>\n",
              "      <td>B1</td>\n",
              "    </tr>\n",
              "    <tr>\n",
              "      <th>2</th>\n",
              "      <td>A2</td>\n",
              "      <td>B2</td>\n",
              "    </tr>\n",
              "  </tbody>\n",
              "</table>\n",
              "</div>\n",
              "    </div>\n",
              "<div style=\"float: left; padding: 10px;\">\n",
              "    <p style='font-family:\"Courier New\", Courier, monospace'>df2</p><div>\n",
              "<style scoped>\n",
              "    .dataframe tbody tr th:only-of-type {\n",
              "        vertical-align: middle;\n",
              "    }\n",
              "\n",
              "    .dataframe tbody tr th {\n",
              "        vertical-align: top;\n",
              "    }\n",
              "\n",
              "    .dataframe thead th {\n",
              "        text-align: right;\n",
              "    }\n",
              "</style>\n",
              "<table border=\"1\" class=\"dataframe\">\n",
              "  <thead>\n",
              "    <tr style=\"text-align: right;\">\n",
              "      <th></th>\n",
              "      <th>A</th>\n",
              "      <th>B</th>\n",
              "    </tr>\n",
              "  </thead>\n",
              "  <tbody>\n",
              "    <tr>\n",
              "      <th>3</th>\n",
              "      <td>A3</td>\n",
              "      <td>B3</td>\n",
              "    </tr>\n",
              "    <tr>\n",
              "      <th>4</th>\n",
              "      <td>A4</td>\n",
              "      <td>B4</td>\n",
              "    </tr>\n",
              "  </tbody>\n",
              "</table>\n",
              "</div>\n",
              "    </div>\n",
              "<div style=\"float: left; padding: 10px;\">\n",
              "    <p style='font-family:\"Courier New\", Courier, monospace'>pd.concat([df1, df2])</p><div>\n",
              "<style scoped>\n",
              "    .dataframe tbody tr th:only-of-type {\n",
              "        vertical-align: middle;\n",
              "    }\n",
              "\n",
              "    .dataframe tbody tr th {\n",
              "        vertical-align: top;\n",
              "    }\n",
              "\n",
              "    .dataframe thead th {\n",
              "        text-align: right;\n",
              "    }\n",
              "</style>\n",
              "<table border=\"1\" class=\"dataframe\">\n",
              "  <thead>\n",
              "    <tr style=\"text-align: right;\">\n",
              "      <th></th>\n",
              "      <th>A</th>\n",
              "      <th>B</th>\n",
              "    </tr>\n",
              "  </thead>\n",
              "  <tbody>\n",
              "    <tr>\n",
              "      <th>1</th>\n",
              "      <td>A1</td>\n",
              "      <td>B1</td>\n",
              "    </tr>\n",
              "    <tr>\n",
              "      <th>2</th>\n",
              "      <td>A2</td>\n",
              "      <td>B2</td>\n",
              "    </tr>\n",
              "    <tr>\n",
              "      <th>3</th>\n",
              "      <td>A3</td>\n",
              "      <td>B3</td>\n",
              "    </tr>\n",
              "    <tr>\n",
              "      <th>4</th>\n",
              "      <td>A4</td>\n",
              "      <td>B4</td>\n",
              "    </tr>\n",
              "  </tbody>\n",
              "</table>\n",
              "</div>\n",
              "    </div>"
            ]
          },
          "metadata": {},
          "execution_count": 12
        }
      ],
      "source": [
        "df1 = make_df('AB', [1, 2])\n",
        "df2 = make_df('AB', [3, 4])\n",
        "display('df1', 'df2', 'pd.concat([df1, df2])')"
      ]
    },
    {
      "cell_type": "code",
      "source": [
        "display('df1','df2',\"pd.concat([df1,df2], axis=1)\")"
      ],
      "metadata": {
        "colab": {
          "base_uri": "https://localhost:8080/",
          "height": 224
        },
        "id": "_Q9HF7yLkLJW",
        "outputId": "bbb8e4f8-035a-4fa6-8efd-857b7a48671e"
      },
      "execution_count": 16,
      "outputs": [
        {
          "output_type": "execute_result",
          "data": {
            "text/plain": [
              "df1\n",
              "    A   B\n",
              "1  A1  B1\n",
              "2  A2  B2\n",
              "\n",
              "df2\n",
              "    A   B\n",
              "3  A3  B3\n",
              "4  A4  B4\n",
              "\n",
              "pd.concat([df1,df2], axis=1)\n",
              "     A    B    A    B\n",
              "1   A1   B1  NaN  NaN\n",
              "2   A2   B2  NaN  NaN\n",
              "3  NaN  NaN   A3   B3\n",
              "4  NaN  NaN   A4   B4"
            ],
            "text/html": [
              "<div style=\"float: left; padding: 10px;\">\n",
              "    <p style='font-family:\"Courier New\", Courier, monospace'>df1</p><div>\n",
              "<style scoped>\n",
              "    .dataframe tbody tr th:only-of-type {\n",
              "        vertical-align: middle;\n",
              "    }\n",
              "\n",
              "    .dataframe tbody tr th {\n",
              "        vertical-align: top;\n",
              "    }\n",
              "\n",
              "    .dataframe thead th {\n",
              "        text-align: right;\n",
              "    }\n",
              "</style>\n",
              "<table border=\"1\" class=\"dataframe\">\n",
              "  <thead>\n",
              "    <tr style=\"text-align: right;\">\n",
              "      <th></th>\n",
              "      <th>A</th>\n",
              "      <th>B</th>\n",
              "    </tr>\n",
              "  </thead>\n",
              "  <tbody>\n",
              "    <tr>\n",
              "      <th>1</th>\n",
              "      <td>A1</td>\n",
              "      <td>B1</td>\n",
              "    </tr>\n",
              "    <tr>\n",
              "      <th>2</th>\n",
              "      <td>A2</td>\n",
              "      <td>B2</td>\n",
              "    </tr>\n",
              "  </tbody>\n",
              "</table>\n",
              "</div>\n",
              "    </div>\n",
              "<div style=\"float: left; padding: 10px;\">\n",
              "    <p style='font-family:\"Courier New\", Courier, monospace'>df2</p><div>\n",
              "<style scoped>\n",
              "    .dataframe tbody tr th:only-of-type {\n",
              "        vertical-align: middle;\n",
              "    }\n",
              "\n",
              "    .dataframe tbody tr th {\n",
              "        vertical-align: top;\n",
              "    }\n",
              "\n",
              "    .dataframe thead th {\n",
              "        text-align: right;\n",
              "    }\n",
              "</style>\n",
              "<table border=\"1\" class=\"dataframe\">\n",
              "  <thead>\n",
              "    <tr style=\"text-align: right;\">\n",
              "      <th></th>\n",
              "      <th>A</th>\n",
              "      <th>B</th>\n",
              "    </tr>\n",
              "  </thead>\n",
              "  <tbody>\n",
              "    <tr>\n",
              "      <th>3</th>\n",
              "      <td>A3</td>\n",
              "      <td>B3</td>\n",
              "    </tr>\n",
              "    <tr>\n",
              "      <th>4</th>\n",
              "      <td>A4</td>\n",
              "      <td>B4</td>\n",
              "    </tr>\n",
              "  </tbody>\n",
              "</table>\n",
              "</div>\n",
              "    </div>\n",
              "<div style=\"float: left; padding: 10px;\">\n",
              "    <p style='font-family:\"Courier New\", Courier, monospace'>pd.concat([df1,df2], axis=1)</p><div>\n",
              "<style scoped>\n",
              "    .dataframe tbody tr th:only-of-type {\n",
              "        vertical-align: middle;\n",
              "    }\n",
              "\n",
              "    .dataframe tbody tr th {\n",
              "        vertical-align: top;\n",
              "    }\n",
              "\n",
              "    .dataframe thead th {\n",
              "        text-align: right;\n",
              "    }\n",
              "</style>\n",
              "<table border=\"1\" class=\"dataframe\">\n",
              "  <thead>\n",
              "    <tr style=\"text-align: right;\">\n",
              "      <th></th>\n",
              "      <th>A</th>\n",
              "      <th>B</th>\n",
              "      <th>A</th>\n",
              "      <th>B</th>\n",
              "    </tr>\n",
              "  </thead>\n",
              "  <tbody>\n",
              "    <tr>\n",
              "      <th>1</th>\n",
              "      <td>A1</td>\n",
              "      <td>B1</td>\n",
              "      <td>NaN</td>\n",
              "      <td>NaN</td>\n",
              "    </tr>\n",
              "    <tr>\n",
              "      <th>2</th>\n",
              "      <td>A2</td>\n",
              "      <td>B2</td>\n",
              "      <td>NaN</td>\n",
              "      <td>NaN</td>\n",
              "    </tr>\n",
              "    <tr>\n",
              "      <th>3</th>\n",
              "      <td>NaN</td>\n",
              "      <td>NaN</td>\n",
              "      <td>A3</td>\n",
              "      <td>B3</td>\n",
              "    </tr>\n",
              "    <tr>\n",
              "      <th>4</th>\n",
              "      <td>NaN</td>\n",
              "      <td>NaN</td>\n",
              "      <td>A4</td>\n",
              "      <td>B4</td>\n",
              "    </tr>\n",
              "  </tbody>\n",
              "</table>\n",
              "</div>\n",
              "    </div>"
            ]
          },
          "metadata": {},
          "execution_count": 16
        }
      ]
    },
    {
      "cell_type": "markdown",
      "metadata": {
        "id": "KmJnxU1q1dk5"
      },
      "source": [
        "It's default behavior is to concatenate row-wise within the `DataFrame` (i.e., `axis=0`).\n",
        "Like `np.concatenate`, `pd.concat` allows specification of an axis along which concatenation will take place.\n",
        "Consider the following example:"
      ]
    },
    {
      "cell_type": "code",
      "execution_count": 13,
      "metadata": {
        "jupyter": {
          "outputs_hidden": false
        },
        "id": "DIFi7tjY1dk6",
        "colab": {
          "base_uri": "https://localhost:8080/",
          "height": 161
        },
        "outputId": "02c77131-a885-4930-b25e-4bdb242bd9b0"
      },
      "outputs": [
        {
          "output_type": "execute_result",
          "data": {
            "text/plain": [
              "df3\n",
              "    A   B\n",
              "0  A0  B0\n",
              "1  A1  B1\n",
              "\n",
              "df4\n",
              "    C   D\n",
              "0  C0  D0\n",
              "1  C1  D1\n",
              "\n",
              "pd.concat([df3, df4], axis='columns')\n",
              "    A   B   C   D\n",
              "0  A0  B0  C0  D0\n",
              "1  A1  B1  C1  D1"
            ],
            "text/html": [
              "<div style=\"float: left; padding: 10px;\">\n",
              "    <p style='font-family:\"Courier New\", Courier, monospace'>df3</p><div>\n",
              "<style scoped>\n",
              "    .dataframe tbody tr th:only-of-type {\n",
              "        vertical-align: middle;\n",
              "    }\n",
              "\n",
              "    .dataframe tbody tr th {\n",
              "        vertical-align: top;\n",
              "    }\n",
              "\n",
              "    .dataframe thead th {\n",
              "        text-align: right;\n",
              "    }\n",
              "</style>\n",
              "<table border=\"1\" class=\"dataframe\">\n",
              "  <thead>\n",
              "    <tr style=\"text-align: right;\">\n",
              "      <th></th>\n",
              "      <th>A</th>\n",
              "      <th>B</th>\n",
              "    </tr>\n",
              "  </thead>\n",
              "  <tbody>\n",
              "    <tr>\n",
              "      <th>0</th>\n",
              "      <td>A0</td>\n",
              "      <td>B0</td>\n",
              "    </tr>\n",
              "    <tr>\n",
              "      <th>1</th>\n",
              "      <td>A1</td>\n",
              "      <td>B1</td>\n",
              "    </tr>\n",
              "  </tbody>\n",
              "</table>\n",
              "</div>\n",
              "    </div>\n",
              "<div style=\"float: left; padding: 10px;\">\n",
              "    <p style='font-family:\"Courier New\", Courier, monospace'>df4</p><div>\n",
              "<style scoped>\n",
              "    .dataframe tbody tr th:only-of-type {\n",
              "        vertical-align: middle;\n",
              "    }\n",
              "\n",
              "    .dataframe tbody tr th {\n",
              "        vertical-align: top;\n",
              "    }\n",
              "\n",
              "    .dataframe thead th {\n",
              "        text-align: right;\n",
              "    }\n",
              "</style>\n",
              "<table border=\"1\" class=\"dataframe\">\n",
              "  <thead>\n",
              "    <tr style=\"text-align: right;\">\n",
              "      <th></th>\n",
              "      <th>C</th>\n",
              "      <th>D</th>\n",
              "    </tr>\n",
              "  </thead>\n",
              "  <tbody>\n",
              "    <tr>\n",
              "      <th>0</th>\n",
              "      <td>C0</td>\n",
              "      <td>D0</td>\n",
              "    </tr>\n",
              "    <tr>\n",
              "      <th>1</th>\n",
              "      <td>C1</td>\n",
              "      <td>D1</td>\n",
              "    </tr>\n",
              "  </tbody>\n",
              "</table>\n",
              "</div>\n",
              "    </div>\n",
              "<div style=\"float: left; padding: 10px;\">\n",
              "    <p style='font-family:\"Courier New\", Courier, monospace'>pd.concat([df3, df4], axis='columns')</p><div>\n",
              "<style scoped>\n",
              "    .dataframe tbody tr th:only-of-type {\n",
              "        vertical-align: middle;\n",
              "    }\n",
              "\n",
              "    .dataframe tbody tr th {\n",
              "        vertical-align: top;\n",
              "    }\n",
              "\n",
              "    .dataframe thead th {\n",
              "        text-align: right;\n",
              "    }\n",
              "</style>\n",
              "<table border=\"1\" class=\"dataframe\">\n",
              "  <thead>\n",
              "    <tr style=\"text-align: right;\">\n",
              "      <th></th>\n",
              "      <th>A</th>\n",
              "      <th>B</th>\n",
              "      <th>C</th>\n",
              "      <th>D</th>\n",
              "    </tr>\n",
              "  </thead>\n",
              "  <tbody>\n",
              "    <tr>\n",
              "      <th>0</th>\n",
              "      <td>A0</td>\n",
              "      <td>B0</td>\n",
              "      <td>C0</td>\n",
              "      <td>D0</td>\n",
              "    </tr>\n",
              "    <tr>\n",
              "      <th>1</th>\n",
              "      <td>A1</td>\n",
              "      <td>B1</td>\n",
              "      <td>C1</td>\n",
              "      <td>D1</td>\n",
              "    </tr>\n",
              "  </tbody>\n",
              "</table>\n",
              "</div>\n",
              "    </div>"
            ]
          },
          "metadata": {},
          "execution_count": 13
        }
      ],
      "source": [
        "df3 = make_df('AB', [0, 1])\n",
        "df4 = make_df('CD', [0, 1])\n",
        "display('df3', 'df4', \"pd.concat([df3, df4], axis='columns')\")"
      ]
    },
    {
      "cell_type": "markdown",
      "metadata": {
        "id": "7k4hjhhA1dk6"
      },
      "source": [
        "We could have equivalently specified ``axis=1``; here we've used the more intuitive ``axis='columns'``."
      ]
    },
    {
      "cell_type": "markdown",
      "metadata": {
        "id": "6tkrcfj91dk6"
      },
      "source": [
        "### Duplicate Indices\n",
        "\n",
        "One important difference between `np.concatenate` and `pd.concat` is that Pandas concatenation *preserves indices*, even if the result will have duplicate indices!\n",
        "Consider this short example:"
      ]
    },
    {
      "cell_type": "code",
      "execution_count": 17,
      "metadata": {
        "jupyter": {
          "outputs_hidden": false
        },
        "id": "f6z0CB0I1dk6",
        "colab": {
          "base_uri": "https://localhost:8080/",
          "height": 224
        },
        "outputId": "5f402179-558a-4b3e-9e3a-4ceb7218e199"
      },
      "outputs": [
        {
          "output_type": "execute_result",
          "data": {
            "text/plain": [
              "x\n",
              "    A   B\n",
              "0  A0  B0\n",
              "1  A1  B1\n",
              "\n",
              "y\n",
              "    A   B\n",
              "0  A2  B2\n",
              "1  A3  B3\n",
              "\n",
              "pd.concat([x, y])\n",
              "    A   B\n",
              "0  A0  B0\n",
              "1  A1  B1\n",
              "0  A2  B2\n",
              "1  A3  B3"
            ],
            "text/html": [
              "<div style=\"float: left; padding: 10px;\">\n",
              "    <p style='font-family:\"Courier New\", Courier, monospace'>x</p><div>\n",
              "<style scoped>\n",
              "    .dataframe tbody tr th:only-of-type {\n",
              "        vertical-align: middle;\n",
              "    }\n",
              "\n",
              "    .dataframe tbody tr th {\n",
              "        vertical-align: top;\n",
              "    }\n",
              "\n",
              "    .dataframe thead th {\n",
              "        text-align: right;\n",
              "    }\n",
              "</style>\n",
              "<table border=\"1\" class=\"dataframe\">\n",
              "  <thead>\n",
              "    <tr style=\"text-align: right;\">\n",
              "      <th></th>\n",
              "      <th>A</th>\n",
              "      <th>B</th>\n",
              "    </tr>\n",
              "  </thead>\n",
              "  <tbody>\n",
              "    <tr>\n",
              "      <th>0</th>\n",
              "      <td>A0</td>\n",
              "      <td>B0</td>\n",
              "    </tr>\n",
              "    <tr>\n",
              "      <th>1</th>\n",
              "      <td>A1</td>\n",
              "      <td>B1</td>\n",
              "    </tr>\n",
              "  </tbody>\n",
              "</table>\n",
              "</div>\n",
              "    </div>\n",
              "<div style=\"float: left; padding: 10px;\">\n",
              "    <p style='font-family:\"Courier New\", Courier, monospace'>y</p><div>\n",
              "<style scoped>\n",
              "    .dataframe tbody tr th:only-of-type {\n",
              "        vertical-align: middle;\n",
              "    }\n",
              "\n",
              "    .dataframe tbody tr th {\n",
              "        vertical-align: top;\n",
              "    }\n",
              "\n",
              "    .dataframe thead th {\n",
              "        text-align: right;\n",
              "    }\n",
              "</style>\n",
              "<table border=\"1\" class=\"dataframe\">\n",
              "  <thead>\n",
              "    <tr style=\"text-align: right;\">\n",
              "      <th></th>\n",
              "      <th>A</th>\n",
              "      <th>B</th>\n",
              "    </tr>\n",
              "  </thead>\n",
              "  <tbody>\n",
              "    <tr>\n",
              "      <th>0</th>\n",
              "      <td>A2</td>\n",
              "      <td>B2</td>\n",
              "    </tr>\n",
              "    <tr>\n",
              "      <th>1</th>\n",
              "      <td>A3</td>\n",
              "      <td>B3</td>\n",
              "    </tr>\n",
              "  </tbody>\n",
              "</table>\n",
              "</div>\n",
              "    </div>\n",
              "<div style=\"float: left; padding: 10px;\">\n",
              "    <p style='font-family:\"Courier New\", Courier, monospace'>pd.concat([x, y])</p><div>\n",
              "<style scoped>\n",
              "    .dataframe tbody tr th:only-of-type {\n",
              "        vertical-align: middle;\n",
              "    }\n",
              "\n",
              "    .dataframe tbody tr th {\n",
              "        vertical-align: top;\n",
              "    }\n",
              "\n",
              "    .dataframe thead th {\n",
              "        text-align: right;\n",
              "    }\n",
              "</style>\n",
              "<table border=\"1\" class=\"dataframe\">\n",
              "  <thead>\n",
              "    <tr style=\"text-align: right;\">\n",
              "      <th></th>\n",
              "      <th>A</th>\n",
              "      <th>B</th>\n",
              "    </tr>\n",
              "  </thead>\n",
              "  <tbody>\n",
              "    <tr>\n",
              "      <th>0</th>\n",
              "      <td>A0</td>\n",
              "      <td>B0</td>\n",
              "    </tr>\n",
              "    <tr>\n",
              "      <th>1</th>\n",
              "      <td>A1</td>\n",
              "      <td>B1</td>\n",
              "    </tr>\n",
              "    <tr>\n",
              "      <th>0</th>\n",
              "      <td>A2</td>\n",
              "      <td>B2</td>\n",
              "    </tr>\n",
              "    <tr>\n",
              "      <th>1</th>\n",
              "      <td>A3</td>\n",
              "      <td>B3</td>\n",
              "    </tr>\n",
              "  </tbody>\n",
              "</table>\n",
              "</div>\n",
              "    </div>"
            ]
          },
          "metadata": {},
          "execution_count": 17
        }
      ],
      "source": [
        "x = make_df('AB', [0, 1])\n",
        "y = make_df('AB', [2, 3])\n",
        "y.index = x.index  # make indices match\n",
        "display('x', 'y', 'pd.concat([x, y])')"
      ]
    },
    {
      "cell_type": "markdown",
      "metadata": {
        "id": "Im7HRL-L1dk6"
      },
      "source": [
        "Notice the repeated indices in the result.\n",
        "While this is valid within ``DataFrame``s, the outcome is often undesirable.\n",
        "`pd.concat` gives us a few ways to handle it."
      ]
    },
    {
      "cell_type": "markdown",
      "metadata": {
        "id": "dJcGORrD1dk6"
      },
      "source": [
        "#### Treating repeated indices as an error\n",
        "\n",
        "If you'd like to simply verify that the indices in the result of `pd.concat` do not overlap, you can include the `verify_integrity` flag.\n",
        "With this set to `True`, the concatenation will raise an exception if there are duplicate indices.\n",
        "Here is an example, where for clarity we'll catch and print the error message:"
      ]
    },
    {
      "cell_type": "code",
      "execution_count": 20,
      "metadata": {
        "jupyter": {
          "outputs_hidden": false
        },
        "id": "Pzr7ESZH1dk6",
        "colab": {
          "base_uri": "https://localhost:8080/"
        },
        "outputId": "db64fb05-2f13-4c35-fe85-bb5d52741ef7"
      },
      "outputs": [
        {
          "output_type": "stream",
          "name": "stdout",
          "text": [
            "ValueError: Indexes have overlapping values: Int64Index([0, 1], dtype='int64')\n"
          ]
        }
      ],
      "source": [
        "try:\n",
        "    #concatenate x and y DataFrames while verifying integrity\n",
        "    pd.concat([x, y],verify_integrity=True)\n",
        "except ValueError as e:\n",
        "    print(\"ValueError:\", e)"
      ]
    },
    {
      "cell_type": "markdown",
      "metadata": {
        "id": "pe7dU0EL1dk7"
      },
      "source": [
        "#### Ignoring the index\n",
        "\n",
        "Sometimes the index itself does not matter, and you would prefer it to simply be ignored.\n",
        "This option can be specified using the `ignore_index` flag.\n",
        "With this set to `True`, the concatenation will create a new integer index for the resulting `DataFrame`:"
      ]
    },
    {
      "cell_type": "code",
      "execution_count": 21,
      "metadata": {
        "jupyter": {
          "outputs_hidden": false
        },
        "id": "9M00r2zl1dk7",
        "colab": {
          "base_uri": "https://localhost:8080/",
          "height": 175
        },
        "outputId": "32aadc23-1dac-4a70-da8c-41d0aecb98d9"
      },
      "outputs": [
        {
          "output_type": "execute_result",
          "data": {
            "text/plain": [
              "    A   B\n",
              "0  A0  B0\n",
              "1  A1  B1\n",
              "2  A2  B2\n",
              "3  A3  B3"
            ],
            "text/html": [
              "\n",
              "  <div id=\"df-324b79fe-04ca-4fb9-a647-86f93e77ba3f\" class=\"colab-df-container\">\n",
              "    <div>\n",
              "<style scoped>\n",
              "    .dataframe tbody tr th:only-of-type {\n",
              "        vertical-align: middle;\n",
              "    }\n",
              "\n",
              "    .dataframe tbody tr th {\n",
              "        vertical-align: top;\n",
              "    }\n",
              "\n",
              "    .dataframe thead th {\n",
              "        text-align: right;\n",
              "    }\n",
              "</style>\n",
              "<table border=\"1\" class=\"dataframe\">\n",
              "  <thead>\n",
              "    <tr style=\"text-align: right;\">\n",
              "      <th></th>\n",
              "      <th>A</th>\n",
              "      <th>B</th>\n",
              "    </tr>\n",
              "  </thead>\n",
              "  <tbody>\n",
              "    <tr>\n",
              "      <th>0</th>\n",
              "      <td>A0</td>\n",
              "      <td>B0</td>\n",
              "    </tr>\n",
              "    <tr>\n",
              "      <th>1</th>\n",
              "      <td>A1</td>\n",
              "      <td>B1</td>\n",
              "    </tr>\n",
              "    <tr>\n",
              "      <th>2</th>\n",
              "      <td>A2</td>\n",
              "      <td>B2</td>\n",
              "    </tr>\n",
              "    <tr>\n",
              "      <th>3</th>\n",
              "      <td>A3</td>\n",
              "      <td>B3</td>\n",
              "    </tr>\n",
              "  </tbody>\n",
              "</table>\n",
              "</div>\n",
              "    <div class=\"colab-df-buttons\">\n",
              "\n",
              "  <div class=\"colab-df-container\">\n",
              "    <button class=\"colab-df-convert\" onclick=\"convertToInteractive('df-324b79fe-04ca-4fb9-a647-86f93e77ba3f')\"\n",
              "            title=\"Convert this dataframe to an interactive table.\"\n",
              "            style=\"display:none;\">\n",
              "\n",
              "  <svg xmlns=\"http://www.w3.org/2000/svg\" height=\"24px\" viewBox=\"0 -960 960 960\">\n",
              "    <path d=\"M120-120v-720h720v720H120Zm60-500h600v-160H180v160Zm220 220h160v-160H400v160Zm0 220h160v-160H400v160ZM180-400h160v-160H180v160Zm440 0h160v-160H620v160ZM180-180h160v-160H180v160Zm440 0h160v-160H620v160Z\"/>\n",
              "  </svg>\n",
              "    </button>\n",
              "\n",
              "  <style>\n",
              "    .colab-df-container {\n",
              "      display:flex;\n",
              "      gap: 12px;\n",
              "    }\n",
              "\n",
              "    .colab-df-convert {\n",
              "      background-color: #E8F0FE;\n",
              "      border: none;\n",
              "      border-radius: 50%;\n",
              "      cursor: pointer;\n",
              "      display: none;\n",
              "      fill: #1967D2;\n",
              "      height: 32px;\n",
              "      padding: 0 0 0 0;\n",
              "      width: 32px;\n",
              "    }\n",
              "\n",
              "    .colab-df-convert:hover {\n",
              "      background-color: #E2EBFA;\n",
              "      box-shadow: 0px 1px 2px rgba(60, 64, 67, 0.3), 0px 1px 3px 1px rgba(60, 64, 67, 0.15);\n",
              "      fill: #174EA6;\n",
              "    }\n",
              "\n",
              "    .colab-df-buttons div {\n",
              "      margin-bottom: 4px;\n",
              "    }\n",
              "\n",
              "    [theme=dark] .colab-df-convert {\n",
              "      background-color: #3B4455;\n",
              "      fill: #D2E3FC;\n",
              "    }\n",
              "\n",
              "    [theme=dark] .colab-df-convert:hover {\n",
              "      background-color: #434B5C;\n",
              "      box-shadow: 0px 1px 3px 1px rgba(0, 0, 0, 0.15);\n",
              "      filter: drop-shadow(0px 1px 2px rgba(0, 0, 0, 0.3));\n",
              "      fill: #FFFFFF;\n",
              "    }\n",
              "  </style>\n",
              "\n",
              "    <script>\n",
              "      const buttonEl =\n",
              "        document.querySelector('#df-324b79fe-04ca-4fb9-a647-86f93e77ba3f button.colab-df-convert');\n",
              "      buttonEl.style.display =\n",
              "        google.colab.kernel.accessAllowed ? 'block' : 'none';\n",
              "\n",
              "      async function convertToInteractive(key) {\n",
              "        const element = document.querySelector('#df-324b79fe-04ca-4fb9-a647-86f93e77ba3f');\n",
              "        const dataTable =\n",
              "          await google.colab.kernel.invokeFunction('convertToInteractive',\n",
              "                                                    [key], {});\n",
              "        if (!dataTable) return;\n",
              "\n",
              "        const docLinkHtml = 'Like what you see? Visit the ' +\n",
              "          '<a target=\"_blank\" href=https://colab.research.google.com/notebooks/data_table.ipynb>data table notebook</a>'\n",
              "          + ' to learn more about interactive tables.';\n",
              "        element.innerHTML = '';\n",
              "        dataTable['output_type'] = 'display_data';\n",
              "        await google.colab.output.renderOutput(dataTable, element);\n",
              "        const docLink = document.createElement('div');\n",
              "        docLink.innerHTML = docLinkHtml;\n",
              "        element.appendChild(docLink);\n",
              "      }\n",
              "    </script>\n",
              "  </div>\n",
              "\n",
              "\n",
              "<div id=\"df-5121a4e9-9326-494b-93a4-cc293088a0b2\">\n",
              "  <button class=\"colab-df-quickchart\" onclick=\"quickchart('df-5121a4e9-9326-494b-93a4-cc293088a0b2')\"\n",
              "            title=\"Suggest charts.\"\n",
              "            style=\"display:none;\">\n",
              "\n",
              "<svg xmlns=\"http://www.w3.org/2000/svg\" height=\"24px\"viewBox=\"0 0 24 24\"\n",
              "     width=\"24px\">\n",
              "    <g>\n",
              "        <path d=\"M19 3H5c-1.1 0-2 .9-2 2v14c0 1.1.9 2 2 2h14c1.1 0 2-.9 2-2V5c0-1.1-.9-2-2-2zM9 17H7v-7h2v7zm4 0h-2V7h2v10zm4 0h-2v-4h2v4z\"/>\n",
              "    </g>\n",
              "</svg>\n",
              "  </button>\n",
              "\n",
              "<style>\n",
              "  .colab-df-quickchart {\n",
              "      --bg-color: #E8F0FE;\n",
              "      --fill-color: #1967D2;\n",
              "      --hover-bg-color: #E2EBFA;\n",
              "      --hover-fill-color: #174EA6;\n",
              "      --disabled-fill-color: #AAA;\n",
              "      --disabled-bg-color: #DDD;\n",
              "  }\n",
              "\n",
              "  [theme=dark] .colab-df-quickchart {\n",
              "      --bg-color: #3B4455;\n",
              "      --fill-color: #D2E3FC;\n",
              "      --hover-bg-color: #434B5C;\n",
              "      --hover-fill-color: #FFFFFF;\n",
              "      --disabled-bg-color: #3B4455;\n",
              "      --disabled-fill-color: #666;\n",
              "  }\n",
              "\n",
              "  .colab-df-quickchart {\n",
              "    background-color: var(--bg-color);\n",
              "    border: none;\n",
              "    border-radius: 50%;\n",
              "    cursor: pointer;\n",
              "    display: none;\n",
              "    fill: var(--fill-color);\n",
              "    height: 32px;\n",
              "    padding: 0;\n",
              "    width: 32px;\n",
              "  }\n",
              "\n",
              "  .colab-df-quickchart:hover {\n",
              "    background-color: var(--hover-bg-color);\n",
              "    box-shadow: 0 1px 2px rgba(60, 64, 67, 0.3), 0 1px 3px 1px rgba(60, 64, 67, 0.15);\n",
              "    fill: var(--button-hover-fill-color);\n",
              "  }\n",
              "\n",
              "  .colab-df-quickchart-complete:disabled,\n",
              "  .colab-df-quickchart-complete:disabled:hover {\n",
              "    background-color: var(--disabled-bg-color);\n",
              "    fill: var(--disabled-fill-color);\n",
              "    box-shadow: none;\n",
              "  }\n",
              "\n",
              "  .colab-df-spinner {\n",
              "    border: 2px solid var(--fill-color);\n",
              "    border-color: transparent;\n",
              "    border-bottom-color: var(--fill-color);\n",
              "    animation:\n",
              "      spin 1s steps(1) infinite;\n",
              "  }\n",
              "\n",
              "  @keyframes spin {\n",
              "    0% {\n",
              "      border-color: transparent;\n",
              "      border-bottom-color: var(--fill-color);\n",
              "      border-left-color: var(--fill-color);\n",
              "    }\n",
              "    20% {\n",
              "      border-color: transparent;\n",
              "      border-left-color: var(--fill-color);\n",
              "      border-top-color: var(--fill-color);\n",
              "    }\n",
              "    30% {\n",
              "      border-color: transparent;\n",
              "      border-left-color: var(--fill-color);\n",
              "      border-top-color: var(--fill-color);\n",
              "      border-right-color: var(--fill-color);\n",
              "    }\n",
              "    40% {\n",
              "      border-color: transparent;\n",
              "      border-right-color: var(--fill-color);\n",
              "      border-top-color: var(--fill-color);\n",
              "    }\n",
              "    60% {\n",
              "      border-color: transparent;\n",
              "      border-right-color: var(--fill-color);\n",
              "    }\n",
              "    80% {\n",
              "      border-color: transparent;\n",
              "      border-right-color: var(--fill-color);\n",
              "      border-bottom-color: var(--fill-color);\n",
              "    }\n",
              "    90% {\n",
              "      border-color: transparent;\n",
              "      border-bottom-color: var(--fill-color);\n",
              "    }\n",
              "  }\n",
              "</style>\n",
              "\n",
              "  <script>\n",
              "    async function quickchart(key) {\n",
              "      const quickchartButtonEl =\n",
              "        document.querySelector('#' + key + ' button');\n",
              "      quickchartButtonEl.disabled = true;  // To prevent multiple clicks.\n",
              "      quickchartButtonEl.classList.add('colab-df-spinner');\n",
              "      try {\n",
              "        const charts = await google.colab.kernel.invokeFunction(\n",
              "            'suggestCharts', [key], {});\n",
              "      } catch (error) {\n",
              "        console.error('Error during call to suggestCharts:', error);\n",
              "      }\n",
              "      quickchartButtonEl.classList.remove('colab-df-spinner');\n",
              "      quickchartButtonEl.classList.add('colab-df-quickchart-complete');\n",
              "    }\n",
              "    (() => {\n",
              "      let quickchartButtonEl =\n",
              "        document.querySelector('#df-5121a4e9-9326-494b-93a4-cc293088a0b2 button');\n",
              "      quickchartButtonEl.style.display =\n",
              "        google.colab.kernel.accessAllowed ? 'block' : 'none';\n",
              "    })();\n",
              "  </script>\n",
              "</div>\n",
              "    </div>\n",
              "  </div>\n"
            ]
          },
          "metadata": {},
          "execution_count": 21
        }
      ],
      "source": [
        "#concatenate x and y DataFrames while ignoring the index\n",
        "pd.concat([x,y], ignore_index=True)"
      ]
    },
    {
      "cell_type": "code",
      "source": [
        "pd.concat([x,y], ignore_index=False)"
      ],
      "metadata": {
        "colab": {
          "base_uri": "https://localhost:8080/",
          "height": 175
        },
        "id": "Bnqb_mwQnsqu",
        "outputId": "a9107b71-222d-4ce6-cf2a-40eb7976734f"
      },
      "execution_count": 22,
      "outputs": [
        {
          "output_type": "execute_result",
          "data": {
            "text/plain": [
              "    A   B\n",
              "0  A0  B0\n",
              "1  A1  B1\n",
              "0  A2  B2\n",
              "1  A3  B3"
            ],
            "text/html": [
              "\n",
              "  <div id=\"df-59a5f66d-f503-42da-915d-c79e49729d5f\" class=\"colab-df-container\">\n",
              "    <div>\n",
              "<style scoped>\n",
              "    .dataframe tbody tr th:only-of-type {\n",
              "        vertical-align: middle;\n",
              "    }\n",
              "\n",
              "    .dataframe tbody tr th {\n",
              "        vertical-align: top;\n",
              "    }\n",
              "\n",
              "    .dataframe thead th {\n",
              "        text-align: right;\n",
              "    }\n",
              "</style>\n",
              "<table border=\"1\" class=\"dataframe\">\n",
              "  <thead>\n",
              "    <tr style=\"text-align: right;\">\n",
              "      <th></th>\n",
              "      <th>A</th>\n",
              "      <th>B</th>\n",
              "    </tr>\n",
              "  </thead>\n",
              "  <tbody>\n",
              "    <tr>\n",
              "      <th>0</th>\n",
              "      <td>A0</td>\n",
              "      <td>B0</td>\n",
              "    </tr>\n",
              "    <tr>\n",
              "      <th>1</th>\n",
              "      <td>A1</td>\n",
              "      <td>B1</td>\n",
              "    </tr>\n",
              "    <tr>\n",
              "      <th>0</th>\n",
              "      <td>A2</td>\n",
              "      <td>B2</td>\n",
              "    </tr>\n",
              "    <tr>\n",
              "      <th>1</th>\n",
              "      <td>A3</td>\n",
              "      <td>B3</td>\n",
              "    </tr>\n",
              "  </tbody>\n",
              "</table>\n",
              "</div>\n",
              "    <div class=\"colab-df-buttons\">\n",
              "\n",
              "  <div class=\"colab-df-container\">\n",
              "    <button class=\"colab-df-convert\" onclick=\"convertToInteractive('df-59a5f66d-f503-42da-915d-c79e49729d5f')\"\n",
              "            title=\"Convert this dataframe to an interactive table.\"\n",
              "            style=\"display:none;\">\n",
              "\n",
              "  <svg xmlns=\"http://www.w3.org/2000/svg\" height=\"24px\" viewBox=\"0 -960 960 960\">\n",
              "    <path d=\"M120-120v-720h720v720H120Zm60-500h600v-160H180v160Zm220 220h160v-160H400v160Zm0 220h160v-160H400v160ZM180-400h160v-160H180v160Zm440 0h160v-160H620v160ZM180-180h160v-160H180v160Zm440 0h160v-160H620v160Z\"/>\n",
              "  </svg>\n",
              "    </button>\n",
              "\n",
              "  <style>\n",
              "    .colab-df-container {\n",
              "      display:flex;\n",
              "      gap: 12px;\n",
              "    }\n",
              "\n",
              "    .colab-df-convert {\n",
              "      background-color: #E8F0FE;\n",
              "      border: none;\n",
              "      border-radius: 50%;\n",
              "      cursor: pointer;\n",
              "      display: none;\n",
              "      fill: #1967D2;\n",
              "      height: 32px;\n",
              "      padding: 0 0 0 0;\n",
              "      width: 32px;\n",
              "    }\n",
              "\n",
              "    .colab-df-convert:hover {\n",
              "      background-color: #E2EBFA;\n",
              "      box-shadow: 0px 1px 2px rgba(60, 64, 67, 0.3), 0px 1px 3px 1px rgba(60, 64, 67, 0.15);\n",
              "      fill: #174EA6;\n",
              "    }\n",
              "\n",
              "    .colab-df-buttons div {\n",
              "      margin-bottom: 4px;\n",
              "    }\n",
              "\n",
              "    [theme=dark] .colab-df-convert {\n",
              "      background-color: #3B4455;\n",
              "      fill: #D2E3FC;\n",
              "    }\n",
              "\n",
              "    [theme=dark] .colab-df-convert:hover {\n",
              "      background-color: #434B5C;\n",
              "      box-shadow: 0px 1px 3px 1px rgba(0, 0, 0, 0.15);\n",
              "      filter: drop-shadow(0px 1px 2px rgba(0, 0, 0, 0.3));\n",
              "      fill: #FFFFFF;\n",
              "    }\n",
              "  </style>\n",
              "\n",
              "    <script>\n",
              "      const buttonEl =\n",
              "        document.querySelector('#df-59a5f66d-f503-42da-915d-c79e49729d5f button.colab-df-convert');\n",
              "      buttonEl.style.display =\n",
              "        google.colab.kernel.accessAllowed ? 'block' : 'none';\n",
              "\n",
              "      async function convertToInteractive(key) {\n",
              "        const element = document.querySelector('#df-59a5f66d-f503-42da-915d-c79e49729d5f');\n",
              "        const dataTable =\n",
              "          await google.colab.kernel.invokeFunction('convertToInteractive',\n",
              "                                                    [key], {});\n",
              "        if (!dataTable) return;\n",
              "\n",
              "        const docLinkHtml = 'Like what you see? Visit the ' +\n",
              "          '<a target=\"_blank\" href=https://colab.research.google.com/notebooks/data_table.ipynb>data table notebook</a>'\n",
              "          + ' to learn more about interactive tables.';\n",
              "        element.innerHTML = '';\n",
              "        dataTable['output_type'] = 'display_data';\n",
              "        await google.colab.output.renderOutput(dataTable, element);\n",
              "        const docLink = document.createElement('div');\n",
              "        docLink.innerHTML = docLinkHtml;\n",
              "        element.appendChild(docLink);\n",
              "      }\n",
              "    </script>\n",
              "  </div>\n",
              "\n",
              "\n",
              "<div id=\"df-4409a134-70af-4a05-ab41-8c0dca4592fc\">\n",
              "  <button class=\"colab-df-quickchart\" onclick=\"quickchart('df-4409a134-70af-4a05-ab41-8c0dca4592fc')\"\n",
              "            title=\"Suggest charts.\"\n",
              "            style=\"display:none;\">\n",
              "\n",
              "<svg xmlns=\"http://www.w3.org/2000/svg\" height=\"24px\"viewBox=\"0 0 24 24\"\n",
              "     width=\"24px\">\n",
              "    <g>\n",
              "        <path d=\"M19 3H5c-1.1 0-2 .9-2 2v14c0 1.1.9 2 2 2h14c1.1 0 2-.9 2-2V5c0-1.1-.9-2-2-2zM9 17H7v-7h2v7zm4 0h-2V7h2v10zm4 0h-2v-4h2v4z\"/>\n",
              "    </g>\n",
              "</svg>\n",
              "  </button>\n",
              "\n",
              "<style>\n",
              "  .colab-df-quickchart {\n",
              "      --bg-color: #E8F0FE;\n",
              "      --fill-color: #1967D2;\n",
              "      --hover-bg-color: #E2EBFA;\n",
              "      --hover-fill-color: #174EA6;\n",
              "      --disabled-fill-color: #AAA;\n",
              "      --disabled-bg-color: #DDD;\n",
              "  }\n",
              "\n",
              "  [theme=dark] .colab-df-quickchart {\n",
              "      --bg-color: #3B4455;\n",
              "      --fill-color: #D2E3FC;\n",
              "      --hover-bg-color: #434B5C;\n",
              "      --hover-fill-color: #FFFFFF;\n",
              "      --disabled-bg-color: #3B4455;\n",
              "      --disabled-fill-color: #666;\n",
              "  }\n",
              "\n",
              "  .colab-df-quickchart {\n",
              "    background-color: var(--bg-color);\n",
              "    border: none;\n",
              "    border-radius: 50%;\n",
              "    cursor: pointer;\n",
              "    display: none;\n",
              "    fill: var(--fill-color);\n",
              "    height: 32px;\n",
              "    padding: 0;\n",
              "    width: 32px;\n",
              "  }\n",
              "\n",
              "  .colab-df-quickchart:hover {\n",
              "    background-color: var(--hover-bg-color);\n",
              "    box-shadow: 0 1px 2px rgba(60, 64, 67, 0.3), 0 1px 3px 1px rgba(60, 64, 67, 0.15);\n",
              "    fill: var(--button-hover-fill-color);\n",
              "  }\n",
              "\n",
              "  .colab-df-quickchart-complete:disabled,\n",
              "  .colab-df-quickchart-complete:disabled:hover {\n",
              "    background-color: var(--disabled-bg-color);\n",
              "    fill: var(--disabled-fill-color);\n",
              "    box-shadow: none;\n",
              "  }\n",
              "\n",
              "  .colab-df-spinner {\n",
              "    border: 2px solid var(--fill-color);\n",
              "    border-color: transparent;\n",
              "    border-bottom-color: var(--fill-color);\n",
              "    animation:\n",
              "      spin 1s steps(1) infinite;\n",
              "  }\n",
              "\n",
              "  @keyframes spin {\n",
              "    0% {\n",
              "      border-color: transparent;\n",
              "      border-bottom-color: var(--fill-color);\n",
              "      border-left-color: var(--fill-color);\n",
              "    }\n",
              "    20% {\n",
              "      border-color: transparent;\n",
              "      border-left-color: var(--fill-color);\n",
              "      border-top-color: var(--fill-color);\n",
              "    }\n",
              "    30% {\n",
              "      border-color: transparent;\n",
              "      border-left-color: var(--fill-color);\n",
              "      border-top-color: var(--fill-color);\n",
              "      border-right-color: var(--fill-color);\n",
              "    }\n",
              "    40% {\n",
              "      border-color: transparent;\n",
              "      border-right-color: var(--fill-color);\n",
              "      border-top-color: var(--fill-color);\n",
              "    }\n",
              "    60% {\n",
              "      border-color: transparent;\n",
              "      border-right-color: var(--fill-color);\n",
              "    }\n",
              "    80% {\n",
              "      border-color: transparent;\n",
              "      border-right-color: var(--fill-color);\n",
              "      border-bottom-color: var(--fill-color);\n",
              "    }\n",
              "    90% {\n",
              "      border-color: transparent;\n",
              "      border-bottom-color: var(--fill-color);\n",
              "    }\n",
              "  }\n",
              "</style>\n",
              "\n",
              "  <script>\n",
              "    async function quickchart(key) {\n",
              "      const quickchartButtonEl =\n",
              "        document.querySelector('#' + key + ' button');\n",
              "      quickchartButtonEl.disabled = true;  // To prevent multiple clicks.\n",
              "      quickchartButtonEl.classList.add('colab-df-spinner');\n",
              "      try {\n",
              "        const charts = await google.colab.kernel.invokeFunction(\n",
              "            'suggestCharts', [key], {});\n",
              "      } catch (error) {\n",
              "        console.error('Error during call to suggestCharts:', error);\n",
              "      }\n",
              "      quickchartButtonEl.classList.remove('colab-df-spinner');\n",
              "      quickchartButtonEl.classList.add('colab-df-quickchart-complete');\n",
              "    }\n",
              "    (() => {\n",
              "      let quickchartButtonEl =\n",
              "        document.querySelector('#df-4409a134-70af-4a05-ab41-8c0dca4592fc button');\n",
              "      quickchartButtonEl.style.display =\n",
              "        google.colab.kernel.accessAllowed ? 'block' : 'none';\n",
              "    })();\n",
              "  </script>\n",
              "</div>\n",
              "    </div>\n",
              "  </div>\n"
            ]
          },
          "metadata": {},
          "execution_count": 22
        }
      ]
    },
    {
      "cell_type": "markdown",
      "metadata": {
        "id": "kTXiQcCO1dk7"
      },
      "source": [
        "### Concatenation with Joins\n",
        "\n",
        "In the short examples we just looked at, we were mainly concatenating ``DataFrame``s with shared column names.\n",
        "In practice, data from different sources might have different sets of column names, and `pd.concat` offers several options in this case.\n",
        "Consider the concatenation of the following two ``DataFrame``s, which have some (but not all!) columns in common:"
      ]
    },
    {
      "cell_type": "code",
      "execution_count": 23,
      "metadata": {
        "jupyter": {
          "outputs_hidden": false
        },
        "id": "d9L5bxC41dk7",
        "colab": {
          "base_uri": "https://localhost:8080/",
          "height": 224
        },
        "outputId": "a96fd894-6f4f-4da6-f6fd-bb25028baff6"
      },
      "outputs": [
        {
          "output_type": "execute_result",
          "data": {
            "text/plain": [
              "df5\n",
              "    A   B   C\n",
              "1  A1  B1  C1\n",
              "2  A2  B2  C2\n",
              "\n",
              "df6\n",
              "    B   C   D\n",
              "3  B3  C3  D3\n",
              "4  B4  C4  D4\n",
              "\n",
              "pd.concat([df5, df6])\n",
              "     A   B   C    D\n",
              "1   A1  B1  C1  NaN\n",
              "2   A2  B2  C2  NaN\n",
              "3  NaN  B3  C3   D3\n",
              "4  NaN  B4  C4   D4"
            ],
            "text/html": [
              "<div style=\"float: left; padding: 10px;\">\n",
              "    <p style='font-family:\"Courier New\", Courier, monospace'>df5</p><div>\n",
              "<style scoped>\n",
              "    .dataframe tbody tr th:only-of-type {\n",
              "        vertical-align: middle;\n",
              "    }\n",
              "\n",
              "    .dataframe tbody tr th {\n",
              "        vertical-align: top;\n",
              "    }\n",
              "\n",
              "    .dataframe thead th {\n",
              "        text-align: right;\n",
              "    }\n",
              "</style>\n",
              "<table border=\"1\" class=\"dataframe\">\n",
              "  <thead>\n",
              "    <tr style=\"text-align: right;\">\n",
              "      <th></th>\n",
              "      <th>A</th>\n",
              "      <th>B</th>\n",
              "      <th>C</th>\n",
              "    </tr>\n",
              "  </thead>\n",
              "  <tbody>\n",
              "    <tr>\n",
              "      <th>1</th>\n",
              "      <td>A1</td>\n",
              "      <td>B1</td>\n",
              "      <td>C1</td>\n",
              "    </tr>\n",
              "    <tr>\n",
              "      <th>2</th>\n",
              "      <td>A2</td>\n",
              "      <td>B2</td>\n",
              "      <td>C2</td>\n",
              "    </tr>\n",
              "  </tbody>\n",
              "</table>\n",
              "</div>\n",
              "    </div>\n",
              "<div style=\"float: left; padding: 10px;\">\n",
              "    <p style='font-family:\"Courier New\", Courier, monospace'>df6</p><div>\n",
              "<style scoped>\n",
              "    .dataframe tbody tr th:only-of-type {\n",
              "        vertical-align: middle;\n",
              "    }\n",
              "\n",
              "    .dataframe tbody tr th {\n",
              "        vertical-align: top;\n",
              "    }\n",
              "\n",
              "    .dataframe thead th {\n",
              "        text-align: right;\n",
              "    }\n",
              "</style>\n",
              "<table border=\"1\" class=\"dataframe\">\n",
              "  <thead>\n",
              "    <tr style=\"text-align: right;\">\n",
              "      <th></th>\n",
              "      <th>B</th>\n",
              "      <th>C</th>\n",
              "      <th>D</th>\n",
              "    </tr>\n",
              "  </thead>\n",
              "  <tbody>\n",
              "    <tr>\n",
              "      <th>3</th>\n",
              "      <td>B3</td>\n",
              "      <td>C3</td>\n",
              "      <td>D3</td>\n",
              "    </tr>\n",
              "    <tr>\n",
              "      <th>4</th>\n",
              "      <td>B4</td>\n",
              "      <td>C4</td>\n",
              "      <td>D4</td>\n",
              "    </tr>\n",
              "  </tbody>\n",
              "</table>\n",
              "</div>\n",
              "    </div>\n",
              "<div style=\"float: left; padding: 10px;\">\n",
              "    <p style='font-family:\"Courier New\", Courier, monospace'>pd.concat([df5, df6])</p><div>\n",
              "<style scoped>\n",
              "    .dataframe tbody tr th:only-of-type {\n",
              "        vertical-align: middle;\n",
              "    }\n",
              "\n",
              "    .dataframe tbody tr th {\n",
              "        vertical-align: top;\n",
              "    }\n",
              "\n",
              "    .dataframe thead th {\n",
              "        text-align: right;\n",
              "    }\n",
              "</style>\n",
              "<table border=\"1\" class=\"dataframe\">\n",
              "  <thead>\n",
              "    <tr style=\"text-align: right;\">\n",
              "      <th></th>\n",
              "      <th>A</th>\n",
              "      <th>B</th>\n",
              "      <th>C</th>\n",
              "      <th>D</th>\n",
              "    </tr>\n",
              "  </thead>\n",
              "  <tbody>\n",
              "    <tr>\n",
              "      <th>1</th>\n",
              "      <td>A1</td>\n",
              "      <td>B1</td>\n",
              "      <td>C1</td>\n",
              "      <td>NaN</td>\n",
              "    </tr>\n",
              "    <tr>\n",
              "      <th>2</th>\n",
              "      <td>A2</td>\n",
              "      <td>B2</td>\n",
              "      <td>C2</td>\n",
              "      <td>NaN</td>\n",
              "    </tr>\n",
              "    <tr>\n",
              "      <th>3</th>\n",
              "      <td>NaN</td>\n",
              "      <td>B3</td>\n",
              "      <td>C3</td>\n",
              "      <td>D3</td>\n",
              "    </tr>\n",
              "    <tr>\n",
              "      <th>4</th>\n",
              "      <td>NaN</td>\n",
              "      <td>B4</td>\n",
              "      <td>C4</td>\n",
              "      <td>D4</td>\n",
              "    </tr>\n",
              "  </tbody>\n",
              "</table>\n",
              "</div>\n",
              "    </div>"
            ]
          },
          "metadata": {},
          "execution_count": 23
        }
      ],
      "source": [
        "df5 = make_df('ABC', [1, 2])\n",
        "df6 = make_df('BCD', [3, 4])\n",
        "display('df5', 'df6', 'pd.concat([df5, df6])')"
      ]
    },
    {
      "cell_type": "markdown",
      "metadata": {
        "id": "NFFH5zZr1dk8"
      },
      "source": [
        "The default behavior is to fill entries for which no data is available with NA values.\n",
        "To change this, we can adjust the `join` parameter of the `concat` function.\n",
        "By default, the join is a union of the input columns (`join='outer'`), but we can change this to an intersection of the columns using `join='inner'`:"
      ]
    },
    {
      "cell_type": "code",
      "source": [
        "pd.concat([df5, df6],join='inner')"
      ],
      "metadata": {
        "colab": {
          "base_uri": "https://localhost:8080/",
          "height": 175
        },
        "id": "BCEmpeZLowVY",
        "outputId": "21cf1afd-c321-4f84-c574-a32e595375aa"
      },
      "execution_count": 24,
      "outputs": [
        {
          "output_type": "execute_result",
          "data": {
            "text/plain": [
              "    B   C\n",
              "1  B1  C1\n",
              "2  B2  C2\n",
              "3  B3  C3\n",
              "4  B4  C4"
            ],
            "text/html": [
              "\n",
              "  <div id=\"df-8c881434-5f51-47a0-bf5b-0066c1d230a3\" class=\"colab-df-container\">\n",
              "    <div>\n",
              "<style scoped>\n",
              "    .dataframe tbody tr th:only-of-type {\n",
              "        vertical-align: middle;\n",
              "    }\n",
              "\n",
              "    .dataframe tbody tr th {\n",
              "        vertical-align: top;\n",
              "    }\n",
              "\n",
              "    .dataframe thead th {\n",
              "        text-align: right;\n",
              "    }\n",
              "</style>\n",
              "<table border=\"1\" class=\"dataframe\">\n",
              "  <thead>\n",
              "    <tr style=\"text-align: right;\">\n",
              "      <th></th>\n",
              "      <th>B</th>\n",
              "      <th>C</th>\n",
              "    </tr>\n",
              "  </thead>\n",
              "  <tbody>\n",
              "    <tr>\n",
              "      <th>1</th>\n",
              "      <td>B1</td>\n",
              "      <td>C1</td>\n",
              "    </tr>\n",
              "    <tr>\n",
              "      <th>2</th>\n",
              "      <td>B2</td>\n",
              "      <td>C2</td>\n",
              "    </tr>\n",
              "    <tr>\n",
              "      <th>3</th>\n",
              "      <td>B3</td>\n",
              "      <td>C3</td>\n",
              "    </tr>\n",
              "    <tr>\n",
              "      <th>4</th>\n",
              "      <td>B4</td>\n",
              "      <td>C4</td>\n",
              "    </tr>\n",
              "  </tbody>\n",
              "</table>\n",
              "</div>\n",
              "    <div class=\"colab-df-buttons\">\n",
              "\n",
              "  <div class=\"colab-df-container\">\n",
              "    <button class=\"colab-df-convert\" onclick=\"convertToInteractive('df-8c881434-5f51-47a0-bf5b-0066c1d230a3')\"\n",
              "            title=\"Convert this dataframe to an interactive table.\"\n",
              "            style=\"display:none;\">\n",
              "\n",
              "  <svg xmlns=\"http://www.w3.org/2000/svg\" height=\"24px\" viewBox=\"0 -960 960 960\">\n",
              "    <path d=\"M120-120v-720h720v720H120Zm60-500h600v-160H180v160Zm220 220h160v-160H400v160Zm0 220h160v-160H400v160ZM180-400h160v-160H180v160Zm440 0h160v-160H620v160ZM180-180h160v-160H180v160Zm440 0h160v-160H620v160Z\"/>\n",
              "  </svg>\n",
              "    </button>\n",
              "\n",
              "  <style>\n",
              "    .colab-df-container {\n",
              "      display:flex;\n",
              "      gap: 12px;\n",
              "    }\n",
              "\n",
              "    .colab-df-convert {\n",
              "      background-color: #E8F0FE;\n",
              "      border: none;\n",
              "      border-radius: 50%;\n",
              "      cursor: pointer;\n",
              "      display: none;\n",
              "      fill: #1967D2;\n",
              "      height: 32px;\n",
              "      padding: 0 0 0 0;\n",
              "      width: 32px;\n",
              "    }\n",
              "\n",
              "    .colab-df-convert:hover {\n",
              "      background-color: #E2EBFA;\n",
              "      box-shadow: 0px 1px 2px rgba(60, 64, 67, 0.3), 0px 1px 3px 1px rgba(60, 64, 67, 0.15);\n",
              "      fill: #174EA6;\n",
              "    }\n",
              "\n",
              "    .colab-df-buttons div {\n",
              "      margin-bottom: 4px;\n",
              "    }\n",
              "\n",
              "    [theme=dark] .colab-df-convert {\n",
              "      background-color: #3B4455;\n",
              "      fill: #D2E3FC;\n",
              "    }\n",
              "\n",
              "    [theme=dark] .colab-df-convert:hover {\n",
              "      background-color: #434B5C;\n",
              "      box-shadow: 0px 1px 3px 1px rgba(0, 0, 0, 0.15);\n",
              "      filter: drop-shadow(0px 1px 2px rgba(0, 0, 0, 0.3));\n",
              "      fill: #FFFFFF;\n",
              "    }\n",
              "  </style>\n",
              "\n",
              "    <script>\n",
              "      const buttonEl =\n",
              "        document.querySelector('#df-8c881434-5f51-47a0-bf5b-0066c1d230a3 button.colab-df-convert');\n",
              "      buttonEl.style.display =\n",
              "        google.colab.kernel.accessAllowed ? 'block' : 'none';\n",
              "\n",
              "      async function convertToInteractive(key) {\n",
              "        const element = document.querySelector('#df-8c881434-5f51-47a0-bf5b-0066c1d230a3');\n",
              "        const dataTable =\n",
              "          await google.colab.kernel.invokeFunction('convertToInteractive',\n",
              "                                                    [key], {});\n",
              "        if (!dataTable) return;\n",
              "\n",
              "        const docLinkHtml = 'Like what you see? Visit the ' +\n",
              "          '<a target=\"_blank\" href=https://colab.research.google.com/notebooks/data_table.ipynb>data table notebook</a>'\n",
              "          + ' to learn more about interactive tables.';\n",
              "        element.innerHTML = '';\n",
              "        dataTable['output_type'] = 'display_data';\n",
              "        await google.colab.output.renderOutput(dataTable, element);\n",
              "        const docLink = document.createElement('div');\n",
              "        docLink.innerHTML = docLinkHtml;\n",
              "        element.appendChild(docLink);\n",
              "      }\n",
              "    </script>\n",
              "  </div>\n",
              "\n",
              "\n",
              "<div id=\"df-a1df89b6-5246-4ae9-96a3-644b1e1832c0\">\n",
              "  <button class=\"colab-df-quickchart\" onclick=\"quickchart('df-a1df89b6-5246-4ae9-96a3-644b1e1832c0')\"\n",
              "            title=\"Suggest charts.\"\n",
              "            style=\"display:none;\">\n",
              "\n",
              "<svg xmlns=\"http://www.w3.org/2000/svg\" height=\"24px\"viewBox=\"0 0 24 24\"\n",
              "     width=\"24px\">\n",
              "    <g>\n",
              "        <path d=\"M19 3H5c-1.1 0-2 .9-2 2v14c0 1.1.9 2 2 2h14c1.1 0 2-.9 2-2V5c0-1.1-.9-2-2-2zM9 17H7v-7h2v7zm4 0h-2V7h2v10zm4 0h-2v-4h2v4z\"/>\n",
              "    </g>\n",
              "</svg>\n",
              "  </button>\n",
              "\n",
              "<style>\n",
              "  .colab-df-quickchart {\n",
              "      --bg-color: #E8F0FE;\n",
              "      --fill-color: #1967D2;\n",
              "      --hover-bg-color: #E2EBFA;\n",
              "      --hover-fill-color: #174EA6;\n",
              "      --disabled-fill-color: #AAA;\n",
              "      --disabled-bg-color: #DDD;\n",
              "  }\n",
              "\n",
              "  [theme=dark] .colab-df-quickchart {\n",
              "      --bg-color: #3B4455;\n",
              "      --fill-color: #D2E3FC;\n",
              "      --hover-bg-color: #434B5C;\n",
              "      --hover-fill-color: #FFFFFF;\n",
              "      --disabled-bg-color: #3B4455;\n",
              "      --disabled-fill-color: #666;\n",
              "  }\n",
              "\n",
              "  .colab-df-quickchart {\n",
              "    background-color: var(--bg-color);\n",
              "    border: none;\n",
              "    border-radius: 50%;\n",
              "    cursor: pointer;\n",
              "    display: none;\n",
              "    fill: var(--fill-color);\n",
              "    height: 32px;\n",
              "    padding: 0;\n",
              "    width: 32px;\n",
              "  }\n",
              "\n",
              "  .colab-df-quickchart:hover {\n",
              "    background-color: var(--hover-bg-color);\n",
              "    box-shadow: 0 1px 2px rgba(60, 64, 67, 0.3), 0 1px 3px 1px rgba(60, 64, 67, 0.15);\n",
              "    fill: var(--button-hover-fill-color);\n",
              "  }\n",
              "\n",
              "  .colab-df-quickchart-complete:disabled,\n",
              "  .colab-df-quickchart-complete:disabled:hover {\n",
              "    background-color: var(--disabled-bg-color);\n",
              "    fill: var(--disabled-fill-color);\n",
              "    box-shadow: none;\n",
              "  }\n",
              "\n",
              "  .colab-df-spinner {\n",
              "    border: 2px solid var(--fill-color);\n",
              "    border-color: transparent;\n",
              "    border-bottom-color: var(--fill-color);\n",
              "    animation:\n",
              "      spin 1s steps(1) infinite;\n",
              "  }\n",
              "\n",
              "  @keyframes spin {\n",
              "    0% {\n",
              "      border-color: transparent;\n",
              "      border-bottom-color: var(--fill-color);\n",
              "      border-left-color: var(--fill-color);\n",
              "    }\n",
              "    20% {\n",
              "      border-color: transparent;\n",
              "      border-left-color: var(--fill-color);\n",
              "      border-top-color: var(--fill-color);\n",
              "    }\n",
              "    30% {\n",
              "      border-color: transparent;\n",
              "      border-left-color: var(--fill-color);\n",
              "      border-top-color: var(--fill-color);\n",
              "      border-right-color: var(--fill-color);\n",
              "    }\n",
              "    40% {\n",
              "      border-color: transparent;\n",
              "      border-right-color: var(--fill-color);\n",
              "      border-top-color: var(--fill-color);\n",
              "    }\n",
              "    60% {\n",
              "      border-color: transparent;\n",
              "      border-right-color: var(--fill-color);\n",
              "    }\n",
              "    80% {\n",
              "      border-color: transparent;\n",
              "      border-right-color: var(--fill-color);\n",
              "      border-bottom-color: var(--fill-color);\n",
              "    }\n",
              "    90% {\n",
              "      border-color: transparent;\n",
              "      border-bottom-color: var(--fill-color);\n",
              "    }\n",
              "  }\n",
              "</style>\n",
              "\n",
              "  <script>\n",
              "    async function quickchart(key) {\n",
              "      const quickchartButtonEl =\n",
              "        document.querySelector('#' + key + ' button');\n",
              "      quickchartButtonEl.disabled = true;  // To prevent multiple clicks.\n",
              "      quickchartButtonEl.classList.add('colab-df-spinner');\n",
              "      try {\n",
              "        const charts = await google.colab.kernel.invokeFunction(\n",
              "            'suggestCharts', [key], {});\n",
              "      } catch (error) {\n",
              "        console.error('Error during call to suggestCharts:', error);\n",
              "      }\n",
              "      quickchartButtonEl.classList.remove('colab-df-spinner');\n",
              "      quickchartButtonEl.classList.add('colab-df-quickchart-complete');\n",
              "    }\n",
              "    (() => {\n",
              "      let quickchartButtonEl =\n",
              "        document.querySelector('#df-a1df89b6-5246-4ae9-96a3-644b1e1832c0 button');\n",
              "      quickchartButtonEl.style.display =\n",
              "        google.colab.kernel.accessAllowed ? 'block' : 'none';\n",
              "    })();\n",
              "  </script>\n",
              "</div>\n",
              "    </div>\n",
              "  </div>\n"
            ]
          },
          "metadata": {},
          "execution_count": 24
        }
      ]
    },
    {
      "cell_type": "code",
      "source": [
        "pd.concat([df5, df6],join='outer')"
      ],
      "metadata": {
        "id": "loP9-drg2o8C",
        "colab": {
          "base_uri": "https://localhost:8080/",
          "height": 175
        },
        "outputId": "5c1c61e5-c50f-435e-d932-69c2142f98a5"
      },
      "execution_count": 25,
      "outputs": [
        {
          "output_type": "execute_result",
          "data": {
            "text/plain": [
              "     A   B   C    D\n",
              "1   A1  B1  C1  NaN\n",
              "2   A2  B2  C2  NaN\n",
              "3  NaN  B3  C3   D3\n",
              "4  NaN  B4  C4   D4"
            ],
            "text/html": [
              "\n",
              "  <div id=\"df-f8e46f99-440a-42ef-9178-7f0aae327b5b\" class=\"colab-df-container\">\n",
              "    <div>\n",
              "<style scoped>\n",
              "    .dataframe tbody tr th:only-of-type {\n",
              "        vertical-align: middle;\n",
              "    }\n",
              "\n",
              "    .dataframe tbody tr th {\n",
              "        vertical-align: top;\n",
              "    }\n",
              "\n",
              "    .dataframe thead th {\n",
              "        text-align: right;\n",
              "    }\n",
              "</style>\n",
              "<table border=\"1\" class=\"dataframe\">\n",
              "  <thead>\n",
              "    <tr style=\"text-align: right;\">\n",
              "      <th></th>\n",
              "      <th>A</th>\n",
              "      <th>B</th>\n",
              "      <th>C</th>\n",
              "      <th>D</th>\n",
              "    </tr>\n",
              "  </thead>\n",
              "  <tbody>\n",
              "    <tr>\n",
              "      <th>1</th>\n",
              "      <td>A1</td>\n",
              "      <td>B1</td>\n",
              "      <td>C1</td>\n",
              "      <td>NaN</td>\n",
              "    </tr>\n",
              "    <tr>\n",
              "      <th>2</th>\n",
              "      <td>A2</td>\n",
              "      <td>B2</td>\n",
              "      <td>C2</td>\n",
              "      <td>NaN</td>\n",
              "    </tr>\n",
              "    <tr>\n",
              "      <th>3</th>\n",
              "      <td>NaN</td>\n",
              "      <td>B3</td>\n",
              "      <td>C3</td>\n",
              "      <td>D3</td>\n",
              "    </tr>\n",
              "    <tr>\n",
              "      <th>4</th>\n",
              "      <td>NaN</td>\n",
              "      <td>B4</td>\n",
              "      <td>C4</td>\n",
              "      <td>D4</td>\n",
              "    </tr>\n",
              "  </tbody>\n",
              "</table>\n",
              "</div>\n",
              "    <div class=\"colab-df-buttons\">\n",
              "\n",
              "  <div class=\"colab-df-container\">\n",
              "    <button class=\"colab-df-convert\" onclick=\"convertToInteractive('df-f8e46f99-440a-42ef-9178-7f0aae327b5b')\"\n",
              "            title=\"Convert this dataframe to an interactive table.\"\n",
              "            style=\"display:none;\">\n",
              "\n",
              "  <svg xmlns=\"http://www.w3.org/2000/svg\" height=\"24px\" viewBox=\"0 -960 960 960\">\n",
              "    <path d=\"M120-120v-720h720v720H120Zm60-500h600v-160H180v160Zm220 220h160v-160H400v160Zm0 220h160v-160H400v160ZM180-400h160v-160H180v160Zm440 0h160v-160H620v160ZM180-180h160v-160H180v160Zm440 0h160v-160H620v160Z\"/>\n",
              "  </svg>\n",
              "    </button>\n",
              "\n",
              "  <style>\n",
              "    .colab-df-container {\n",
              "      display:flex;\n",
              "      gap: 12px;\n",
              "    }\n",
              "\n",
              "    .colab-df-convert {\n",
              "      background-color: #E8F0FE;\n",
              "      border: none;\n",
              "      border-radius: 50%;\n",
              "      cursor: pointer;\n",
              "      display: none;\n",
              "      fill: #1967D2;\n",
              "      height: 32px;\n",
              "      padding: 0 0 0 0;\n",
              "      width: 32px;\n",
              "    }\n",
              "\n",
              "    .colab-df-convert:hover {\n",
              "      background-color: #E2EBFA;\n",
              "      box-shadow: 0px 1px 2px rgba(60, 64, 67, 0.3), 0px 1px 3px 1px rgba(60, 64, 67, 0.15);\n",
              "      fill: #174EA6;\n",
              "    }\n",
              "\n",
              "    .colab-df-buttons div {\n",
              "      margin-bottom: 4px;\n",
              "    }\n",
              "\n",
              "    [theme=dark] .colab-df-convert {\n",
              "      background-color: #3B4455;\n",
              "      fill: #D2E3FC;\n",
              "    }\n",
              "\n",
              "    [theme=dark] .colab-df-convert:hover {\n",
              "      background-color: #434B5C;\n",
              "      box-shadow: 0px 1px 3px 1px rgba(0, 0, 0, 0.15);\n",
              "      filter: drop-shadow(0px 1px 2px rgba(0, 0, 0, 0.3));\n",
              "      fill: #FFFFFF;\n",
              "    }\n",
              "  </style>\n",
              "\n",
              "    <script>\n",
              "      const buttonEl =\n",
              "        document.querySelector('#df-f8e46f99-440a-42ef-9178-7f0aae327b5b button.colab-df-convert');\n",
              "      buttonEl.style.display =\n",
              "        google.colab.kernel.accessAllowed ? 'block' : 'none';\n",
              "\n",
              "      async function convertToInteractive(key) {\n",
              "        const element = document.querySelector('#df-f8e46f99-440a-42ef-9178-7f0aae327b5b');\n",
              "        const dataTable =\n",
              "          await google.colab.kernel.invokeFunction('convertToInteractive',\n",
              "                                                    [key], {});\n",
              "        if (!dataTable) return;\n",
              "\n",
              "        const docLinkHtml = 'Like what you see? Visit the ' +\n",
              "          '<a target=\"_blank\" href=https://colab.research.google.com/notebooks/data_table.ipynb>data table notebook</a>'\n",
              "          + ' to learn more about interactive tables.';\n",
              "        element.innerHTML = '';\n",
              "        dataTable['output_type'] = 'display_data';\n",
              "        await google.colab.output.renderOutput(dataTable, element);\n",
              "        const docLink = document.createElement('div');\n",
              "        docLink.innerHTML = docLinkHtml;\n",
              "        element.appendChild(docLink);\n",
              "      }\n",
              "    </script>\n",
              "  </div>\n",
              "\n",
              "\n",
              "<div id=\"df-118a57ef-4632-499c-8a13-af67c2f11a6d\">\n",
              "  <button class=\"colab-df-quickchart\" onclick=\"quickchart('df-118a57ef-4632-499c-8a13-af67c2f11a6d')\"\n",
              "            title=\"Suggest charts.\"\n",
              "            style=\"display:none;\">\n",
              "\n",
              "<svg xmlns=\"http://www.w3.org/2000/svg\" height=\"24px\"viewBox=\"0 0 24 24\"\n",
              "     width=\"24px\">\n",
              "    <g>\n",
              "        <path d=\"M19 3H5c-1.1 0-2 .9-2 2v14c0 1.1.9 2 2 2h14c1.1 0 2-.9 2-2V5c0-1.1-.9-2-2-2zM9 17H7v-7h2v7zm4 0h-2V7h2v10zm4 0h-2v-4h2v4z\"/>\n",
              "    </g>\n",
              "</svg>\n",
              "  </button>\n",
              "\n",
              "<style>\n",
              "  .colab-df-quickchart {\n",
              "      --bg-color: #E8F0FE;\n",
              "      --fill-color: #1967D2;\n",
              "      --hover-bg-color: #E2EBFA;\n",
              "      --hover-fill-color: #174EA6;\n",
              "      --disabled-fill-color: #AAA;\n",
              "      --disabled-bg-color: #DDD;\n",
              "  }\n",
              "\n",
              "  [theme=dark] .colab-df-quickchart {\n",
              "      --bg-color: #3B4455;\n",
              "      --fill-color: #D2E3FC;\n",
              "      --hover-bg-color: #434B5C;\n",
              "      --hover-fill-color: #FFFFFF;\n",
              "      --disabled-bg-color: #3B4455;\n",
              "      --disabled-fill-color: #666;\n",
              "  }\n",
              "\n",
              "  .colab-df-quickchart {\n",
              "    background-color: var(--bg-color);\n",
              "    border: none;\n",
              "    border-radius: 50%;\n",
              "    cursor: pointer;\n",
              "    display: none;\n",
              "    fill: var(--fill-color);\n",
              "    height: 32px;\n",
              "    padding: 0;\n",
              "    width: 32px;\n",
              "  }\n",
              "\n",
              "  .colab-df-quickchart:hover {\n",
              "    background-color: var(--hover-bg-color);\n",
              "    box-shadow: 0 1px 2px rgba(60, 64, 67, 0.3), 0 1px 3px 1px rgba(60, 64, 67, 0.15);\n",
              "    fill: var(--button-hover-fill-color);\n",
              "  }\n",
              "\n",
              "  .colab-df-quickchart-complete:disabled,\n",
              "  .colab-df-quickchart-complete:disabled:hover {\n",
              "    background-color: var(--disabled-bg-color);\n",
              "    fill: var(--disabled-fill-color);\n",
              "    box-shadow: none;\n",
              "  }\n",
              "\n",
              "  .colab-df-spinner {\n",
              "    border: 2px solid var(--fill-color);\n",
              "    border-color: transparent;\n",
              "    border-bottom-color: var(--fill-color);\n",
              "    animation:\n",
              "      spin 1s steps(1) infinite;\n",
              "  }\n",
              "\n",
              "  @keyframes spin {\n",
              "    0% {\n",
              "      border-color: transparent;\n",
              "      border-bottom-color: var(--fill-color);\n",
              "      border-left-color: var(--fill-color);\n",
              "    }\n",
              "    20% {\n",
              "      border-color: transparent;\n",
              "      border-left-color: var(--fill-color);\n",
              "      border-top-color: var(--fill-color);\n",
              "    }\n",
              "    30% {\n",
              "      border-color: transparent;\n",
              "      border-left-color: var(--fill-color);\n",
              "      border-top-color: var(--fill-color);\n",
              "      border-right-color: var(--fill-color);\n",
              "    }\n",
              "    40% {\n",
              "      border-color: transparent;\n",
              "      border-right-color: var(--fill-color);\n",
              "      border-top-color: var(--fill-color);\n",
              "    }\n",
              "    60% {\n",
              "      border-color: transparent;\n",
              "      border-right-color: var(--fill-color);\n",
              "    }\n",
              "    80% {\n",
              "      border-color: transparent;\n",
              "      border-right-color: var(--fill-color);\n",
              "      border-bottom-color: var(--fill-color);\n",
              "    }\n",
              "    90% {\n",
              "      border-color: transparent;\n",
              "      border-bottom-color: var(--fill-color);\n",
              "    }\n",
              "  }\n",
              "</style>\n",
              "\n",
              "  <script>\n",
              "    async function quickchart(key) {\n",
              "      const quickchartButtonEl =\n",
              "        document.querySelector('#' + key + ' button');\n",
              "      quickchartButtonEl.disabled = true;  // To prevent multiple clicks.\n",
              "      quickchartButtonEl.classList.add('colab-df-spinner');\n",
              "      try {\n",
              "        const charts = await google.colab.kernel.invokeFunction(\n",
              "            'suggestCharts', [key], {});\n",
              "      } catch (error) {\n",
              "        console.error('Error during call to suggestCharts:', error);\n",
              "      }\n",
              "      quickchartButtonEl.classList.remove('colab-df-spinner');\n",
              "      quickchartButtonEl.classList.add('colab-df-quickchart-complete');\n",
              "    }\n",
              "    (() => {\n",
              "      let quickchartButtonEl =\n",
              "        document.querySelector('#df-118a57ef-4632-499c-8a13-af67c2f11a6d button');\n",
              "      quickchartButtonEl.style.display =\n",
              "        google.colab.kernel.accessAllowed ? 'block' : 'none';\n",
              "    })();\n",
              "  </script>\n",
              "</div>\n",
              "    </div>\n",
              "  </div>\n"
            ]
          },
          "metadata": {},
          "execution_count": 25
        }
      ]
    },
    {
      "cell_type": "markdown",
      "metadata": {
        "id": "6MFv7g1f1eLq"
      },
      "source": [
        "# Aggregation and Grouping"
      ]
    },
    {
      "cell_type": "markdown",
      "metadata": {
        "id": "2Yc-eExs1eLu"
      },
      "source": [
        "A fundamental piece of many data analysis tasks is efficient summarization: computing aggregations like `sum`, `mean`, `median`, `min`, and `max`, in which a single number summarizes aspects of a potentially large dataset.\n",
        "In this chapter, we'll explore aggregations in Pandas, from simple operations akin to what we've seen on NumPy arrays to more sophisticated operations based on the concept of a `groupby`."
      ]
    },
    {
      "cell_type": "markdown",
      "metadata": {
        "id": "cx1T6Cnb1eL1"
      },
      "source": [
        "## Planets Data\n",
        "\n",
        "Here we will use the Planets dataset, available via the [Seaborn package](http://seaborn.pydata.org/).\n",
        "It gives information on planets that astronomers have discovered around other stars (known as *extrasolar planets*, or *exoplanets* for short). It can be downloaded with a simple Seaborn command:"
      ]
    },
    {
      "cell_type": "code",
      "execution_count": 27,
      "metadata": {
        "jupyter": {
          "outputs_hidden": false
        },
        "id": "tUby-yAm1eL1",
        "colab": {
          "base_uri": "https://localhost:8080/"
        },
        "outputId": "3362c539-6c4d-4abe-95c0-3d03d574240d"
      },
      "outputs": [
        {
          "output_type": "execute_result",
          "data": {
            "text/plain": [
              "(1035, 6)"
            ]
          },
          "metadata": {},
          "execution_count": 27
        }
      ],
      "source": [
        "import seaborn as sns\n",
        "planets=sns.load_dataset('planets')\n",
        "planets.shape"
      ]
    },
    {
      "cell_type": "code",
      "execution_count": 29,
      "metadata": {
        "jupyter": {
          "outputs_hidden": false
        },
        "id": "cZXYnqt31eL2",
        "colab": {
          "base_uri": "https://localhost:8080/",
          "height": 143
        },
        "outputId": "9d2e32f3-f154-4d35-ef88-3f33168aecea"
      },
      "outputs": [
        {
          "output_type": "execute_result",
          "data": {
            "text/plain": [
              "            method  number  orbital_period  mass  distance  year\n",
              "0  Radial Velocity       1         269.300  7.10     77.40  2006\n",
              "1  Radial Velocity       1         874.774  2.21     56.95  2008\n",
              "2  Radial Velocity       1         763.000  2.60     19.84  2011"
            ],
            "text/html": [
              "\n",
              "  <div id=\"df-666039c2-f867-44ef-b38b-5a94cc9911d9\" class=\"colab-df-container\">\n",
              "    <div>\n",
              "<style scoped>\n",
              "    .dataframe tbody tr th:only-of-type {\n",
              "        vertical-align: middle;\n",
              "    }\n",
              "\n",
              "    .dataframe tbody tr th {\n",
              "        vertical-align: top;\n",
              "    }\n",
              "\n",
              "    .dataframe thead th {\n",
              "        text-align: right;\n",
              "    }\n",
              "</style>\n",
              "<table border=\"1\" class=\"dataframe\">\n",
              "  <thead>\n",
              "    <tr style=\"text-align: right;\">\n",
              "      <th></th>\n",
              "      <th>method</th>\n",
              "      <th>number</th>\n",
              "      <th>orbital_period</th>\n",
              "      <th>mass</th>\n",
              "      <th>distance</th>\n",
              "      <th>year</th>\n",
              "    </tr>\n",
              "  </thead>\n",
              "  <tbody>\n",
              "    <tr>\n",
              "      <th>0</th>\n",
              "      <td>Radial Velocity</td>\n",
              "      <td>1</td>\n",
              "      <td>269.300</td>\n",
              "      <td>7.10</td>\n",
              "      <td>77.40</td>\n",
              "      <td>2006</td>\n",
              "    </tr>\n",
              "    <tr>\n",
              "      <th>1</th>\n",
              "      <td>Radial Velocity</td>\n",
              "      <td>1</td>\n",
              "      <td>874.774</td>\n",
              "      <td>2.21</td>\n",
              "      <td>56.95</td>\n",
              "      <td>2008</td>\n",
              "    </tr>\n",
              "    <tr>\n",
              "      <th>2</th>\n",
              "      <td>Radial Velocity</td>\n",
              "      <td>1</td>\n",
              "      <td>763.000</td>\n",
              "      <td>2.60</td>\n",
              "      <td>19.84</td>\n",
              "      <td>2011</td>\n",
              "    </tr>\n",
              "  </tbody>\n",
              "</table>\n",
              "</div>\n",
              "    <div class=\"colab-df-buttons\">\n",
              "\n",
              "  <div class=\"colab-df-container\">\n",
              "    <button class=\"colab-df-convert\" onclick=\"convertToInteractive('df-666039c2-f867-44ef-b38b-5a94cc9911d9')\"\n",
              "            title=\"Convert this dataframe to an interactive table.\"\n",
              "            style=\"display:none;\">\n",
              "\n",
              "  <svg xmlns=\"http://www.w3.org/2000/svg\" height=\"24px\" viewBox=\"0 -960 960 960\">\n",
              "    <path d=\"M120-120v-720h720v720H120Zm60-500h600v-160H180v160Zm220 220h160v-160H400v160Zm0 220h160v-160H400v160ZM180-400h160v-160H180v160Zm440 0h160v-160H620v160ZM180-180h160v-160H180v160Zm440 0h160v-160H620v160Z\"/>\n",
              "  </svg>\n",
              "    </button>\n",
              "\n",
              "  <style>\n",
              "    .colab-df-container {\n",
              "      display:flex;\n",
              "      gap: 12px;\n",
              "    }\n",
              "\n",
              "    .colab-df-convert {\n",
              "      background-color: #E8F0FE;\n",
              "      border: none;\n",
              "      border-radius: 50%;\n",
              "      cursor: pointer;\n",
              "      display: none;\n",
              "      fill: #1967D2;\n",
              "      height: 32px;\n",
              "      padding: 0 0 0 0;\n",
              "      width: 32px;\n",
              "    }\n",
              "\n",
              "    .colab-df-convert:hover {\n",
              "      background-color: #E2EBFA;\n",
              "      box-shadow: 0px 1px 2px rgba(60, 64, 67, 0.3), 0px 1px 3px 1px rgba(60, 64, 67, 0.15);\n",
              "      fill: #174EA6;\n",
              "    }\n",
              "\n",
              "    .colab-df-buttons div {\n",
              "      margin-bottom: 4px;\n",
              "    }\n",
              "\n",
              "    [theme=dark] .colab-df-convert {\n",
              "      background-color: #3B4455;\n",
              "      fill: #D2E3FC;\n",
              "    }\n",
              "\n",
              "    [theme=dark] .colab-df-convert:hover {\n",
              "      background-color: #434B5C;\n",
              "      box-shadow: 0px 1px 3px 1px rgba(0, 0, 0, 0.15);\n",
              "      filter: drop-shadow(0px 1px 2px rgba(0, 0, 0, 0.3));\n",
              "      fill: #FFFFFF;\n",
              "    }\n",
              "  </style>\n",
              "\n",
              "    <script>\n",
              "      const buttonEl =\n",
              "        document.querySelector('#df-666039c2-f867-44ef-b38b-5a94cc9911d9 button.colab-df-convert');\n",
              "      buttonEl.style.display =\n",
              "        google.colab.kernel.accessAllowed ? 'block' : 'none';\n",
              "\n",
              "      async function convertToInteractive(key) {\n",
              "        const element = document.querySelector('#df-666039c2-f867-44ef-b38b-5a94cc9911d9');\n",
              "        const dataTable =\n",
              "          await google.colab.kernel.invokeFunction('convertToInteractive',\n",
              "                                                    [key], {});\n",
              "        if (!dataTable) return;\n",
              "\n",
              "        const docLinkHtml = 'Like what you see? Visit the ' +\n",
              "          '<a target=\"_blank\" href=https://colab.research.google.com/notebooks/data_table.ipynb>data table notebook</a>'\n",
              "          + ' to learn more about interactive tables.';\n",
              "        element.innerHTML = '';\n",
              "        dataTable['output_type'] = 'display_data';\n",
              "        await google.colab.output.renderOutput(dataTable, element);\n",
              "        const docLink = document.createElement('div');\n",
              "        docLink.innerHTML = docLinkHtml;\n",
              "        element.appendChild(docLink);\n",
              "      }\n",
              "    </script>\n",
              "  </div>\n",
              "\n",
              "\n",
              "<div id=\"df-d0bb7685-8741-4dec-b89b-6ecbe34041ba\">\n",
              "  <button class=\"colab-df-quickchart\" onclick=\"quickchart('df-d0bb7685-8741-4dec-b89b-6ecbe34041ba')\"\n",
              "            title=\"Suggest charts.\"\n",
              "            style=\"display:none;\">\n",
              "\n",
              "<svg xmlns=\"http://www.w3.org/2000/svg\" height=\"24px\"viewBox=\"0 0 24 24\"\n",
              "     width=\"24px\">\n",
              "    <g>\n",
              "        <path d=\"M19 3H5c-1.1 0-2 .9-2 2v14c0 1.1.9 2 2 2h14c1.1 0 2-.9 2-2V5c0-1.1-.9-2-2-2zM9 17H7v-7h2v7zm4 0h-2V7h2v10zm4 0h-2v-4h2v4z\"/>\n",
              "    </g>\n",
              "</svg>\n",
              "  </button>\n",
              "\n",
              "<style>\n",
              "  .colab-df-quickchart {\n",
              "      --bg-color: #E8F0FE;\n",
              "      --fill-color: #1967D2;\n",
              "      --hover-bg-color: #E2EBFA;\n",
              "      --hover-fill-color: #174EA6;\n",
              "      --disabled-fill-color: #AAA;\n",
              "      --disabled-bg-color: #DDD;\n",
              "  }\n",
              "\n",
              "  [theme=dark] .colab-df-quickchart {\n",
              "      --bg-color: #3B4455;\n",
              "      --fill-color: #D2E3FC;\n",
              "      --hover-bg-color: #434B5C;\n",
              "      --hover-fill-color: #FFFFFF;\n",
              "      --disabled-bg-color: #3B4455;\n",
              "      --disabled-fill-color: #666;\n",
              "  }\n",
              "\n",
              "  .colab-df-quickchart {\n",
              "    background-color: var(--bg-color);\n",
              "    border: none;\n",
              "    border-radius: 50%;\n",
              "    cursor: pointer;\n",
              "    display: none;\n",
              "    fill: var(--fill-color);\n",
              "    height: 32px;\n",
              "    padding: 0;\n",
              "    width: 32px;\n",
              "  }\n",
              "\n",
              "  .colab-df-quickchart:hover {\n",
              "    background-color: var(--hover-bg-color);\n",
              "    box-shadow: 0 1px 2px rgba(60, 64, 67, 0.3), 0 1px 3px 1px rgba(60, 64, 67, 0.15);\n",
              "    fill: var(--button-hover-fill-color);\n",
              "  }\n",
              "\n",
              "  .colab-df-quickchart-complete:disabled,\n",
              "  .colab-df-quickchart-complete:disabled:hover {\n",
              "    background-color: var(--disabled-bg-color);\n",
              "    fill: var(--disabled-fill-color);\n",
              "    box-shadow: none;\n",
              "  }\n",
              "\n",
              "  .colab-df-spinner {\n",
              "    border: 2px solid var(--fill-color);\n",
              "    border-color: transparent;\n",
              "    border-bottom-color: var(--fill-color);\n",
              "    animation:\n",
              "      spin 1s steps(1) infinite;\n",
              "  }\n",
              "\n",
              "  @keyframes spin {\n",
              "    0% {\n",
              "      border-color: transparent;\n",
              "      border-bottom-color: var(--fill-color);\n",
              "      border-left-color: var(--fill-color);\n",
              "    }\n",
              "    20% {\n",
              "      border-color: transparent;\n",
              "      border-left-color: var(--fill-color);\n",
              "      border-top-color: var(--fill-color);\n",
              "    }\n",
              "    30% {\n",
              "      border-color: transparent;\n",
              "      border-left-color: var(--fill-color);\n",
              "      border-top-color: var(--fill-color);\n",
              "      border-right-color: var(--fill-color);\n",
              "    }\n",
              "    40% {\n",
              "      border-color: transparent;\n",
              "      border-right-color: var(--fill-color);\n",
              "      border-top-color: var(--fill-color);\n",
              "    }\n",
              "    60% {\n",
              "      border-color: transparent;\n",
              "      border-right-color: var(--fill-color);\n",
              "    }\n",
              "    80% {\n",
              "      border-color: transparent;\n",
              "      border-right-color: var(--fill-color);\n",
              "      border-bottom-color: var(--fill-color);\n",
              "    }\n",
              "    90% {\n",
              "      border-color: transparent;\n",
              "      border-bottom-color: var(--fill-color);\n",
              "    }\n",
              "  }\n",
              "</style>\n",
              "\n",
              "  <script>\n",
              "    async function quickchart(key) {\n",
              "      const quickchartButtonEl =\n",
              "        document.querySelector('#' + key + ' button');\n",
              "      quickchartButtonEl.disabled = true;  // To prevent multiple clicks.\n",
              "      quickchartButtonEl.classList.add('colab-df-spinner');\n",
              "      try {\n",
              "        const charts = await google.colab.kernel.invokeFunction(\n",
              "            'suggestCharts', [key], {});\n",
              "      } catch (error) {\n",
              "        console.error('Error during call to suggestCharts:', error);\n",
              "      }\n",
              "      quickchartButtonEl.classList.remove('colab-df-spinner');\n",
              "      quickchartButtonEl.classList.add('colab-df-quickchart-complete');\n",
              "    }\n",
              "    (() => {\n",
              "      let quickchartButtonEl =\n",
              "        document.querySelector('#df-d0bb7685-8741-4dec-b89b-6ecbe34041ba button');\n",
              "      quickchartButtonEl.style.display =\n",
              "        google.colab.kernel.accessAllowed ? 'block' : 'none';\n",
              "    })();\n",
              "  </script>\n",
              "</div>\n",
              "    </div>\n",
              "  </div>\n"
            ]
          },
          "metadata": {},
          "execution_count": 29
        }
      ],
      "source": [
        "planets.head(3)"
      ]
    },
    {
      "cell_type": "markdown",
      "metadata": {
        "id": "Omh-TBOc1eL3"
      },
      "source": [
        "This has some details on the 1,000+ extrasolar planets discovered up to 2014."
      ]
    },
    {
      "cell_type": "markdown",
      "metadata": {
        "id": "waruMJOG1eL4"
      },
      "source": [
        "## Simple Aggregation in Pandas"
      ]
    },
    {
      "cell_type": "markdown",
      "metadata": {
        "id": "c_UHsnzB1eL4"
      },
      "source": [
        "Before, we have explored some of the data aggregations available for NumPy arrays.\n",
        "As with a one-dimensional NumPy array, for a Pandas ``Series`` the aggregates return a single value:"
      ]
    },
    {
      "cell_type": "code",
      "execution_count": 30,
      "metadata": {
        "jupyter": {
          "outputs_hidden": false
        },
        "id": "44NRD6aO1eL4",
        "colab": {
          "base_uri": "https://localhost:8080/"
        },
        "outputId": "a2414797-e924-448c-d876-20cc37e7ac67"
      },
      "outputs": [
        {
          "output_type": "execute_result",
          "data": {
            "text/plain": [
              "0    0.374540\n",
              "1    0.950714\n",
              "2    0.731994\n",
              "3    0.598658\n",
              "4    0.156019\n",
              "dtype: float64"
            ]
          },
          "metadata": {},
          "execution_count": 30
        }
      ],
      "source": [
        "rng = np.random.RandomState(42)\n",
        "ser = pd.Series(rng.rand(5))\n",
        "ser"
      ]
    },
    {
      "cell_type": "code",
      "execution_count": 31,
      "metadata": {
        "jupyter": {
          "outputs_hidden": false
        },
        "id": "4L0UayZO1eL5",
        "colab": {
          "base_uri": "https://localhost:8080/"
        },
        "outputId": "36001205-4fc2-45cf-f359-026d0bd38d6d"
      },
      "outputs": [
        {
          "output_type": "execute_result",
          "data": {
            "text/plain": [
              "2.811925491708157"
            ]
          },
          "metadata": {},
          "execution_count": 31
        }
      ],
      "source": [
        "ser.sum()"
      ]
    },
    {
      "cell_type": "code",
      "execution_count": 32,
      "metadata": {
        "jupyter": {
          "outputs_hidden": false
        },
        "id": "vWi_Qu871eL5",
        "colab": {
          "base_uri": "https://localhost:8080/"
        },
        "outputId": "64d56df3-f049-4c77-d4b4-0b153bf29241"
      },
      "outputs": [
        {
          "output_type": "execute_result",
          "data": {
            "text/plain": [
              "0.5623850983416314"
            ]
          },
          "metadata": {},
          "execution_count": 32
        }
      ],
      "source": [
        "ser.mean()"
      ]
    },
    {
      "cell_type": "code",
      "source": [
        "ser.std()"
      ],
      "metadata": {
        "colab": {
          "base_uri": "https://localhost:8080/"
        },
        "id": "GInIEKOWqbt_",
        "outputId": "c829058b-9d6a-4dde-c231-c975f96894f2"
      },
      "execution_count": 33,
      "outputs": [
        {
          "output_type": "execute_result",
          "data": {
            "text/plain": [
              "0.30874824961862174"
            ]
          },
          "metadata": {},
          "execution_count": 33
        }
      ]
    },
    {
      "cell_type": "markdown",
      "metadata": {
        "id": "_ZGQE8O01eL5"
      },
      "source": [
        "For a `DataFrame`, by default the aggregates return results within each column:"
      ]
    },
    {
      "cell_type": "code",
      "execution_count": 34,
      "metadata": {
        "jupyter": {
          "outputs_hidden": false
        },
        "id": "C2Zxtpzg1eL6",
        "colab": {
          "base_uri": "https://localhost:8080/",
          "height": 206
        },
        "outputId": "a771baa0-f354-43c8-c7be-751092f83472"
      },
      "outputs": [
        {
          "output_type": "execute_result",
          "data": {
            "text/plain": [
              "          A         B\n",
              "0  0.155995  0.020584\n",
              "1  0.058084  0.969910\n",
              "2  0.866176  0.832443\n",
              "3  0.601115  0.212339\n",
              "4  0.708073  0.181825"
            ],
            "text/html": [
              "\n",
              "  <div id=\"df-1f43e6f2-1d6f-43ae-9e19-11804bc49e40\" class=\"colab-df-container\">\n",
              "    <div>\n",
              "<style scoped>\n",
              "    .dataframe tbody tr th:only-of-type {\n",
              "        vertical-align: middle;\n",
              "    }\n",
              "\n",
              "    .dataframe tbody tr th {\n",
              "        vertical-align: top;\n",
              "    }\n",
              "\n",
              "    .dataframe thead th {\n",
              "        text-align: right;\n",
              "    }\n",
              "</style>\n",
              "<table border=\"1\" class=\"dataframe\">\n",
              "  <thead>\n",
              "    <tr style=\"text-align: right;\">\n",
              "      <th></th>\n",
              "      <th>A</th>\n",
              "      <th>B</th>\n",
              "    </tr>\n",
              "  </thead>\n",
              "  <tbody>\n",
              "    <tr>\n",
              "      <th>0</th>\n",
              "      <td>0.155995</td>\n",
              "      <td>0.020584</td>\n",
              "    </tr>\n",
              "    <tr>\n",
              "      <th>1</th>\n",
              "      <td>0.058084</td>\n",
              "      <td>0.969910</td>\n",
              "    </tr>\n",
              "    <tr>\n",
              "      <th>2</th>\n",
              "      <td>0.866176</td>\n",
              "      <td>0.832443</td>\n",
              "    </tr>\n",
              "    <tr>\n",
              "      <th>3</th>\n",
              "      <td>0.601115</td>\n",
              "      <td>0.212339</td>\n",
              "    </tr>\n",
              "    <tr>\n",
              "      <th>4</th>\n",
              "      <td>0.708073</td>\n",
              "      <td>0.181825</td>\n",
              "    </tr>\n",
              "  </tbody>\n",
              "</table>\n",
              "</div>\n",
              "    <div class=\"colab-df-buttons\">\n",
              "\n",
              "  <div class=\"colab-df-container\">\n",
              "    <button class=\"colab-df-convert\" onclick=\"convertToInteractive('df-1f43e6f2-1d6f-43ae-9e19-11804bc49e40')\"\n",
              "            title=\"Convert this dataframe to an interactive table.\"\n",
              "            style=\"display:none;\">\n",
              "\n",
              "  <svg xmlns=\"http://www.w3.org/2000/svg\" height=\"24px\" viewBox=\"0 -960 960 960\">\n",
              "    <path d=\"M120-120v-720h720v720H120Zm60-500h600v-160H180v160Zm220 220h160v-160H400v160Zm0 220h160v-160H400v160ZM180-400h160v-160H180v160Zm440 0h160v-160H620v160ZM180-180h160v-160H180v160Zm440 0h160v-160H620v160Z\"/>\n",
              "  </svg>\n",
              "    </button>\n",
              "\n",
              "  <style>\n",
              "    .colab-df-container {\n",
              "      display:flex;\n",
              "      gap: 12px;\n",
              "    }\n",
              "\n",
              "    .colab-df-convert {\n",
              "      background-color: #E8F0FE;\n",
              "      border: none;\n",
              "      border-radius: 50%;\n",
              "      cursor: pointer;\n",
              "      display: none;\n",
              "      fill: #1967D2;\n",
              "      height: 32px;\n",
              "      padding: 0 0 0 0;\n",
              "      width: 32px;\n",
              "    }\n",
              "\n",
              "    .colab-df-convert:hover {\n",
              "      background-color: #E2EBFA;\n",
              "      box-shadow: 0px 1px 2px rgba(60, 64, 67, 0.3), 0px 1px 3px 1px rgba(60, 64, 67, 0.15);\n",
              "      fill: #174EA6;\n",
              "    }\n",
              "\n",
              "    .colab-df-buttons div {\n",
              "      margin-bottom: 4px;\n",
              "    }\n",
              "\n",
              "    [theme=dark] .colab-df-convert {\n",
              "      background-color: #3B4455;\n",
              "      fill: #D2E3FC;\n",
              "    }\n",
              "\n",
              "    [theme=dark] .colab-df-convert:hover {\n",
              "      background-color: #434B5C;\n",
              "      box-shadow: 0px 1px 3px 1px rgba(0, 0, 0, 0.15);\n",
              "      filter: drop-shadow(0px 1px 2px rgba(0, 0, 0, 0.3));\n",
              "      fill: #FFFFFF;\n",
              "    }\n",
              "  </style>\n",
              "\n",
              "    <script>\n",
              "      const buttonEl =\n",
              "        document.querySelector('#df-1f43e6f2-1d6f-43ae-9e19-11804bc49e40 button.colab-df-convert');\n",
              "      buttonEl.style.display =\n",
              "        google.colab.kernel.accessAllowed ? 'block' : 'none';\n",
              "\n",
              "      async function convertToInteractive(key) {\n",
              "        const element = document.querySelector('#df-1f43e6f2-1d6f-43ae-9e19-11804bc49e40');\n",
              "        const dataTable =\n",
              "          await google.colab.kernel.invokeFunction('convertToInteractive',\n",
              "                                                    [key], {});\n",
              "        if (!dataTable) return;\n",
              "\n",
              "        const docLinkHtml = 'Like what you see? Visit the ' +\n",
              "          '<a target=\"_blank\" href=https://colab.research.google.com/notebooks/data_table.ipynb>data table notebook</a>'\n",
              "          + ' to learn more about interactive tables.';\n",
              "        element.innerHTML = '';\n",
              "        dataTable['output_type'] = 'display_data';\n",
              "        await google.colab.output.renderOutput(dataTable, element);\n",
              "        const docLink = document.createElement('div');\n",
              "        docLink.innerHTML = docLinkHtml;\n",
              "        element.appendChild(docLink);\n",
              "      }\n",
              "    </script>\n",
              "  </div>\n",
              "\n",
              "\n",
              "<div id=\"df-a0fff2b6-2c2b-4a5b-a61a-89556cf59efd\">\n",
              "  <button class=\"colab-df-quickchart\" onclick=\"quickchart('df-a0fff2b6-2c2b-4a5b-a61a-89556cf59efd')\"\n",
              "            title=\"Suggest charts.\"\n",
              "            style=\"display:none;\">\n",
              "\n",
              "<svg xmlns=\"http://www.w3.org/2000/svg\" height=\"24px\"viewBox=\"0 0 24 24\"\n",
              "     width=\"24px\">\n",
              "    <g>\n",
              "        <path d=\"M19 3H5c-1.1 0-2 .9-2 2v14c0 1.1.9 2 2 2h14c1.1 0 2-.9 2-2V5c0-1.1-.9-2-2-2zM9 17H7v-7h2v7zm4 0h-2V7h2v10zm4 0h-2v-4h2v4z\"/>\n",
              "    </g>\n",
              "</svg>\n",
              "  </button>\n",
              "\n",
              "<style>\n",
              "  .colab-df-quickchart {\n",
              "      --bg-color: #E8F0FE;\n",
              "      --fill-color: #1967D2;\n",
              "      --hover-bg-color: #E2EBFA;\n",
              "      --hover-fill-color: #174EA6;\n",
              "      --disabled-fill-color: #AAA;\n",
              "      --disabled-bg-color: #DDD;\n",
              "  }\n",
              "\n",
              "  [theme=dark] .colab-df-quickchart {\n",
              "      --bg-color: #3B4455;\n",
              "      --fill-color: #D2E3FC;\n",
              "      --hover-bg-color: #434B5C;\n",
              "      --hover-fill-color: #FFFFFF;\n",
              "      --disabled-bg-color: #3B4455;\n",
              "      --disabled-fill-color: #666;\n",
              "  }\n",
              "\n",
              "  .colab-df-quickchart {\n",
              "    background-color: var(--bg-color);\n",
              "    border: none;\n",
              "    border-radius: 50%;\n",
              "    cursor: pointer;\n",
              "    display: none;\n",
              "    fill: var(--fill-color);\n",
              "    height: 32px;\n",
              "    padding: 0;\n",
              "    width: 32px;\n",
              "  }\n",
              "\n",
              "  .colab-df-quickchart:hover {\n",
              "    background-color: var(--hover-bg-color);\n",
              "    box-shadow: 0 1px 2px rgba(60, 64, 67, 0.3), 0 1px 3px 1px rgba(60, 64, 67, 0.15);\n",
              "    fill: var(--button-hover-fill-color);\n",
              "  }\n",
              "\n",
              "  .colab-df-quickchart-complete:disabled,\n",
              "  .colab-df-quickchart-complete:disabled:hover {\n",
              "    background-color: var(--disabled-bg-color);\n",
              "    fill: var(--disabled-fill-color);\n",
              "    box-shadow: none;\n",
              "  }\n",
              "\n",
              "  .colab-df-spinner {\n",
              "    border: 2px solid var(--fill-color);\n",
              "    border-color: transparent;\n",
              "    border-bottom-color: var(--fill-color);\n",
              "    animation:\n",
              "      spin 1s steps(1) infinite;\n",
              "  }\n",
              "\n",
              "  @keyframes spin {\n",
              "    0% {\n",
              "      border-color: transparent;\n",
              "      border-bottom-color: var(--fill-color);\n",
              "      border-left-color: var(--fill-color);\n",
              "    }\n",
              "    20% {\n",
              "      border-color: transparent;\n",
              "      border-left-color: var(--fill-color);\n",
              "      border-top-color: var(--fill-color);\n",
              "    }\n",
              "    30% {\n",
              "      border-color: transparent;\n",
              "      border-left-color: var(--fill-color);\n",
              "      border-top-color: var(--fill-color);\n",
              "      border-right-color: var(--fill-color);\n",
              "    }\n",
              "    40% {\n",
              "      border-color: transparent;\n",
              "      border-right-color: var(--fill-color);\n",
              "      border-top-color: var(--fill-color);\n",
              "    }\n",
              "    60% {\n",
              "      border-color: transparent;\n",
              "      border-right-color: var(--fill-color);\n",
              "    }\n",
              "    80% {\n",
              "      border-color: transparent;\n",
              "      border-right-color: var(--fill-color);\n",
              "      border-bottom-color: var(--fill-color);\n",
              "    }\n",
              "    90% {\n",
              "      border-color: transparent;\n",
              "      border-bottom-color: var(--fill-color);\n",
              "    }\n",
              "  }\n",
              "</style>\n",
              "\n",
              "  <script>\n",
              "    async function quickchart(key) {\n",
              "      const quickchartButtonEl =\n",
              "        document.querySelector('#' + key + ' button');\n",
              "      quickchartButtonEl.disabled = true;  // To prevent multiple clicks.\n",
              "      quickchartButtonEl.classList.add('colab-df-spinner');\n",
              "      try {\n",
              "        const charts = await google.colab.kernel.invokeFunction(\n",
              "            'suggestCharts', [key], {});\n",
              "      } catch (error) {\n",
              "        console.error('Error during call to suggestCharts:', error);\n",
              "      }\n",
              "      quickchartButtonEl.classList.remove('colab-df-spinner');\n",
              "      quickchartButtonEl.classList.add('colab-df-quickchart-complete');\n",
              "    }\n",
              "    (() => {\n",
              "      let quickchartButtonEl =\n",
              "        document.querySelector('#df-a0fff2b6-2c2b-4a5b-a61a-89556cf59efd button');\n",
              "      quickchartButtonEl.style.display =\n",
              "        google.colab.kernel.accessAllowed ? 'block' : 'none';\n",
              "    })();\n",
              "  </script>\n",
              "</div>\n",
              "    </div>\n",
              "  </div>\n"
            ]
          },
          "metadata": {},
          "execution_count": 34
        }
      ],
      "source": [
        "df = pd.DataFrame({'A': rng.rand(5),\n",
        "                   'B': rng.rand(5)})\n",
        "df"
      ]
    },
    {
      "cell_type": "code",
      "execution_count": 38,
      "metadata": {
        "jupyter": {
          "outputs_hidden": false
        },
        "id": "iDGK799s1eL6",
        "colab": {
          "base_uri": "https://localhost:8080/"
        },
        "outputId": "3a9fa38e-cab3-4433-e668-e52f757fc7be"
      },
      "outputs": [
        {
          "output_type": "execute_result",
          "data": {
            "text/plain": [
              "A    0.477888\n",
              "B    0.443420\n",
              "dtype: float64"
            ]
          },
          "metadata": {},
          "execution_count": 38
        }
      ],
      "source": [
        "df.mean()"
      ]
    },
    {
      "cell_type": "markdown",
      "metadata": {
        "id": "b-Twjcy81eL6"
      },
      "source": [
        "By specifying the `axis` argument, you can instead aggregate within each row:"
      ]
    },
    {
      "cell_type": "code",
      "execution_count": 37,
      "metadata": {
        "jupyter": {
          "outputs_hidden": false
        },
        "id": "ivlHVsXu1eL6",
        "colab": {
          "base_uri": "https://localhost:8080/"
        },
        "outputId": "337ac5d5-dd96-44a2-e34a-7ea3a4c95cea"
      },
      "outputs": [
        {
          "output_type": "execute_result",
          "data": {
            "text/plain": [
              "0    2\n",
              "1    2\n",
              "2    2\n",
              "3    2\n",
              "4    2\n",
              "dtype: int64"
            ]
          },
          "metadata": {},
          "execution_count": 37
        }
      ],
      "source": [
        "df.count(axis=1)"
      ]
    },
    {
      "cell_type": "markdown",
      "metadata": {
        "id": "kmtbYk6m1eL7"
      },
      "source": [
        "Pandas `Series` and `DataFrame` objects include all of the common aggregates mentioned before (min, max, sum, prod, var, median, etc); in addition, there is a convenience method, `describe`, that computes several common aggregates for each column and returns the result.\n",
        "Let's use this on the Planets data, for now dropping rows with missing values:"
      ]
    },
    {
      "cell_type": "code",
      "source": [
        "planets.describe()"
      ],
      "metadata": {
        "id": "Z3FLCk6_8JKs",
        "colab": {
          "base_uri": "https://localhost:8080/",
          "height": 300
        },
        "outputId": "974fc4f9-1eeb-4eaa-ebe6-962ea0c9aa2f"
      },
      "execution_count": 40,
      "outputs": [
        {
          "output_type": "execute_result",
          "data": {
            "text/plain": [
              "            number  orbital_period        mass     distance         year\n",
              "count  1035.000000      992.000000  513.000000   808.000000  1035.000000\n",
              "mean      1.785507     2002.917596    2.638161   264.069282  2009.070531\n",
              "std       1.240976    26014.728304    3.818617   733.116493     3.972567\n",
              "min       1.000000        0.090706    0.003600     1.350000  1989.000000\n",
              "25%       1.000000        5.442540    0.229000    32.560000  2007.000000\n",
              "50%       1.000000       39.979500    1.260000    55.250000  2010.000000\n",
              "75%       2.000000      526.005000    3.040000   178.500000  2012.000000\n",
              "max       7.000000   730000.000000   25.000000  8500.000000  2014.000000"
            ],
            "text/html": [
              "\n",
              "  <div id=\"df-1cc42f52-9091-4c67-8ba4-43eb1d3a3ca6\" class=\"colab-df-container\">\n",
              "    <div>\n",
              "<style scoped>\n",
              "    .dataframe tbody tr th:only-of-type {\n",
              "        vertical-align: middle;\n",
              "    }\n",
              "\n",
              "    .dataframe tbody tr th {\n",
              "        vertical-align: top;\n",
              "    }\n",
              "\n",
              "    .dataframe thead th {\n",
              "        text-align: right;\n",
              "    }\n",
              "</style>\n",
              "<table border=\"1\" class=\"dataframe\">\n",
              "  <thead>\n",
              "    <tr style=\"text-align: right;\">\n",
              "      <th></th>\n",
              "      <th>number</th>\n",
              "      <th>orbital_period</th>\n",
              "      <th>mass</th>\n",
              "      <th>distance</th>\n",
              "      <th>year</th>\n",
              "    </tr>\n",
              "  </thead>\n",
              "  <tbody>\n",
              "    <tr>\n",
              "      <th>count</th>\n",
              "      <td>1035.000000</td>\n",
              "      <td>992.000000</td>\n",
              "      <td>513.000000</td>\n",
              "      <td>808.000000</td>\n",
              "      <td>1035.000000</td>\n",
              "    </tr>\n",
              "    <tr>\n",
              "      <th>mean</th>\n",
              "      <td>1.785507</td>\n",
              "      <td>2002.917596</td>\n",
              "      <td>2.638161</td>\n",
              "      <td>264.069282</td>\n",
              "      <td>2009.070531</td>\n",
              "    </tr>\n",
              "    <tr>\n",
              "      <th>std</th>\n",
              "      <td>1.240976</td>\n",
              "      <td>26014.728304</td>\n",
              "      <td>3.818617</td>\n",
              "      <td>733.116493</td>\n",
              "      <td>3.972567</td>\n",
              "    </tr>\n",
              "    <tr>\n",
              "      <th>min</th>\n",
              "      <td>1.000000</td>\n",
              "      <td>0.090706</td>\n",
              "      <td>0.003600</td>\n",
              "      <td>1.350000</td>\n",
              "      <td>1989.000000</td>\n",
              "    </tr>\n",
              "    <tr>\n",
              "      <th>25%</th>\n",
              "      <td>1.000000</td>\n",
              "      <td>5.442540</td>\n",
              "      <td>0.229000</td>\n",
              "      <td>32.560000</td>\n",
              "      <td>2007.000000</td>\n",
              "    </tr>\n",
              "    <tr>\n",
              "      <th>50%</th>\n",
              "      <td>1.000000</td>\n",
              "      <td>39.979500</td>\n",
              "      <td>1.260000</td>\n",
              "      <td>55.250000</td>\n",
              "      <td>2010.000000</td>\n",
              "    </tr>\n",
              "    <tr>\n",
              "      <th>75%</th>\n",
              "      <td>2.000000</td>\n",
              "      <td>526.005000</td>\n",
              "      <td>3.040000</td>\n",
              "      <td>178.500000</td>\n",
              "      <td>2012.000000</td>\n",
              "    </tr>\n",
              "    <tr>\n",
              "      <th>max</th>\n",
              "      <td>7.000000</td>\n",
              "      <td>730000.000000</td>\n",
              "      <td>25.000000</td>\n",
              "      <td>8500.000000</td>\n",
              "      <td>2014.000000</td>\n",
              "    </tr>\n",
              "  </tbody>\n",
              "</table>\n",
              "</div>\n",
              "    <div class=\"colab-df-buttons\">\n",
              "\n",
              "  <div class=\"colab-df-container\">\n",
              "    <button class=\"colab-df-convert\" onclick=\"convertToInteractive('df-1cc42f52-9091-4c67-8ba4-43eb1d3a3ca6')\"\n",
              "            title=\"Convert this dataframe to an interactive table.\"\n",
              "            style=\"display:none;\">\n",
              "\n",
              "  <svg xmlns=\"http://www.w3.org/2000/svg\" height=\"24px\" viewBox=\"0 -960 960 960\">\n",
              "    <path d=\"M120-120v-720h720v720H120Zm60-500h600v-160H180v160Zm220 220h160v-160H400v160Zm0 220h160v-160H400v160ZM180-400h160v-160H180v160Zm440 0h160v-160H620v160ZM180-180h160v-160H180v160Zm440 0h160v-160H620v160Z\"/>\n",
              "  </svg>\n",
              "    </button>\n",
              "\n",
              "  <style>\n",
              "    .colab-df-container {\n",
              "      display:flex;\n",
              "      gap: 12px;\n",
              "    }\n",
              "\n",
              "    .colab-df-convert {\n",
              "      background-color: #E8F0FE;\n",
              "      border: none;\n",
              "      border-radius: 50%;\n",
              "      cursor: pointer;\n",
              "      display: none;\n",
              "      fill: #1967D2;\n",
              "      height: 32px;\n",
              "      padding: 0 0 0 0;\n",
              "      width: 32px;\n",
              "    }\n",
              "\n",
              "    .colab-df-convert:hover {\n",
              "      background-color: #E2EBFA;\n",
              "      box-shadow: 0px 1px 2px rgba(60, 64, 67, 0.3), 0px 1px 3px 1px rgba(60, 64, 67, 0.15);\n",
              "      fill: #174EA6;\n",
              "    }\n",
              "\n",
              "    .colab-df-buttons div {\n",
              "      margin-bottom: 4px;\n",
              "    }\n",
              "\n",
              "    [theme=dark] .colab-df-convert {\n",
              "      background-color: #3B4455;\n",
              "      fill: #D2E3FC;\n",
              "    }\n",
              "\n",
              "    [theme=dark] .colab-df-convert:hover {\n",
              "      background-color: #434B5C;\n",
              "      box-shadow: 0px 1px 3px 1px rgba(0, 0, 0, 0.15);\n",
              "      filter: drop-shadow(0px 1px 2px rgba(0, 0, 0, 0.3));\n",
              "      fill: #FFFFFF;\n",
              "    }\n",
              "  </style>\n",
              "\n",
              "    <script>\n",
              "      const buttonEl =\n",
              "        document.querySelector('#df-1cc42f52-9091-4c67-8ba4-43eb1d3a3ca6 button.colab-df-convert');\n",
              "      buttonEl.style.display =\n",
              "        google.colab.kernel.accessAllowed ? 'block' : 'none';\n",
              "\n",
              "      async function convertToInteractive(key) {\n",
              "        const element = document.querySelector('#df-1cc42f52-9091-4c67-8ba4-43eb1d3a3ca6');\n",
              "        const dataTable =\n",
              "          await google.colab.kernel.invokeFunction('convertToInteractive',\n",
              "                                                    [key], {});\n",
              "        if (!dataTable) return;\n",
              "\n",
              "        const docLinkHtml = 'Like what you see? Visit the ' +\n",
              "          '<a target=\"_blank\" href=https://colab.research.google.com/notebooks/data_table.ipynb>data table notebook</a>'\n",
              "          + ' to learn more about interactive tables.';\n",
              "        element.innerHTML = '';\n",
              "        dataTable['output_type'] = 'display_data';\n",
              "        await google.colab.output.renderOutput(dataTable, element);\n",
              "        const docLink = document.createElement('div');\n",
              "        docLink.innerHTML = docLinkHtml;\n",
              "        element.appendChild(docLink);\n",
              "      }\n",
              "    </script>\n",
              "  </div>\n",
              "\n",
              "\n",
              "<div id=\"df-aed5e0f4-0972-4281-9dca-237b643cf144\">\n",
              "  <button class=\"colab-df-quickchart\" onclick=\"quickchart('df-aed5e0f4-0972-4281-9dca-237b643cf144')\"\n",
              "            title=\"Suggest charts.\"\n",
              "            style=\"display:none;\">\n",
              "\n",
              "<svg xmlns=\"http://www.w3.org/2000/svg\" height=\"24px\"viewBox=\"0 0 24 24\"\n",
              "     width=\"24px\">\n",
              "    <g>\n",
              "        <path d=\"M19 3H5c-1.1 0-2 .9-2 2v14c0 1.1.9 2 2 2h14c1.1 0 2-.9 2-2V5c0-1.1-.9-2-2-2zM9 17H7v-7h2v7zm4 0h-2V7h2v10zm4 0h-2v-4h2v4z\"/>\n",
              "    </g>\n",
              "</svg>\n",
              "  </button>\n",
              "\n",
              "<style>\n",
              "  .colab-df-quickchart {\n",
              "      --bg-color: #E8F0FE;\n",
              "      --fill-color: #1967D2;\n",
              "      --hover-bg-color: #E2EBFA;\n",
              "      --hover-fill-color: #174EA6;\n",
              "      --disabled-fill-color: #AAA;\n",
              "      --disabled-bg-color: #DDD;\n",
              "  }\n",
              "\n",
              "  [theme=dark] .colab-df-quickchart {\n",
              "      --bg-color: #3B4455;\n",
              "      --fill-color: #D2E3FC;\n",
              "      --hover-bg-color: #434B5C;\n",
              "      --hover-fill-color: #FFFFFF;\n",
              "      --disabled-bg-color: #3B4455;\n",
              "      --disabled-fill-color: #666;\n",
              "  }\n",
              "\n",
              "  .colab-df-quickchart {\n",
              "    background-color: var(--bg-color);\n",
              "    border: none;\n",
              "    border-radius: 50%;\n",
              "    cursor: pointer;\n",
              "    display: none;\n",
              "    fill: var(--fill-color);\n",
              "    height: 32px;\n",
              "    padding: 0;\n",
              "    width: 32px;\n",
              "  }\n",
              "\n",
              "  .colab-df-quickchart:hover {\n",
              "    background-color: var(--hover-bg-color);\n",
              "    box-shadow: 0 1px 2px rgba(60, 64, 67, 0.3), 0 1px 3px 1px rgba(60, 64, 67, 0.15);\n",
              "    fill: var(--button-hover-fill-color);\n",
              "  }\n",
              "\n",
              "  .colab-df-quickchart-complete:disabled,\n",
              "  .colab-df-quickchart-complete:disabled:hover {\n",
              "    background-color: var(--disabled-bg-color);\n",
              "    fill: var(--disabled-fill-color);\n",
              "    box-shadow: none;\n",
              "  }\n",
              "\n",
              "  .colab-df-spinner {\n",
              "    border: 2px solid var(--fill-color);\n",
              "    border-color: transparent;\n",
              "    border-bottom-color: var(--fill-color);\n",
              "    animation:\n",
              "      spin 1s steps(1) infinite;\n",
              "  }\n",
              "\n",
              "  @keyframes spin {\n",
              "    0% {\n",
              "      border-color: transparent;\n",
              "      border-bottom-color: var(--fill-color);\n",
              "      border-left-color: var(--fill-color);\n",
              "    }\n",
              "    20% {\n",
              "      border-color: transparent;\n",
              "      border-left-color: var(--fill-color);\n",
              "      border-top-color: var(--fill-color);\n",
              "    }\n",
              "    30% {\n",
              "      border-color: transparent;\n",
              "      border-left-color: var(--fill-color);\n",
              "      border-top-color: var(--fill-color);\n",
              "      border-right-color: var(--fill-color);\n",
              "    }\n",
              "    40% {\n",
              "      border-color: transparent;\n",
              "      border-right-color: var(--fill-color);\n",
              "      border-top-color: var(--fill-color);\n",
              "    }\n",
              "    60% {\n",
              "      border-color: transparent;\n",
              "      border-right-color: var(--fill-color);\n",
              "    }\n",
              "    80% {\n",
              "      border-color: transparent;\n",
              "      border-right-color: var(--fill-color);\n",
              "      border-bottom-color: var(--fill-color);\n",
              "    }\n",
              "    90% {\n",
              "      border-color: transparent;\n",
              "      border-bottom-color: var(--fill-color);\n",
              "    }\n",
              "  }\n",
              "</style>\n",
              "\n",
              "  <script>\n",
              "    async function quickchart(key) {\n",
              "      const quickchartButtonEl =\n",
              "        document.querySelector('#' + key + ' button');\n",
              "      quickchartButtonEl.disabled = true;  // To prevent multiple clicks.\n",
              "      quickchartButtonEl.classList.add('colab-df-spinner');\n",
              "      try {\n",
              "        const charts = await google.colab.kernel.invokeFunction(\n",
              "            'suggestCharts', [key], {});\n",
              "      } catch (error) {\n",
              "        console.error('Error during call to suggestCharts:', error);\n",
              "      }\n",
              "      quickchartButtonEl.classList.remove('colab-df-spinner');\n",
              "      quickchartButtonEl.classList.add('colab-df-quickchart-complete');\n",
              "    }\n",
              "    (() => {\n",
              "      let quickchartButtonEl =\n",
              "        document.querySelector('#df-aed5e0f4-0972-4281-9dca-237b643cf144 button');\n",
              "      quickchartButtonEl.style.display =\n",
              "        google.colab.kernel.accessAllowed ? 'block' : 'none';\n",
              "    })();\n",
              "  </script>\n",
              "</div>\n",
              "    </div>\n",
              "  </div>\n"
            ]
          },
          "metadata": {},
          "execution_count": 40
        }
      ]
    },
    {
      "cell_type": "code",
      "source": [
        "planets.info()"
      ],
      "metadata": {
        "id": "N9ifVv7R791E",
        "colab": {
          "base_uri": "https://localhost:8080/"
        },
        "outputId": "06f7edbe-cf45-49db-c31b-103a4f6508b3"
      },
      "execution_count": 41,
      "outputs": [
        {
          "output_type": "stream",
          "name": "stdout",
          "text": [
            "<class 'pandas.core.frame.DataFrame'>\n",
            "RangeIndex: 1035 entries, 0 to 1034\n",
            "Data columns (total 6 columns):\n",
            " #   Column          Non-Null Count  Dtype  \n",
            "---  ------          --------------  -----  \n",
            " 0   method          1035 non-null   object \n",
            " 1   number          1035 non-null   int64  \n",
            " 2   orbital_period  992 non-null    float64\n",
            " 3   mass            513 non-null    float64\n",
            " 4   distance        808 non-null    float64\n",
            " 5   year            1035 non-null   int64  \n",
            "dtypes: float64(3), int64(2), object(1)\n",
            "memory usage: 48.6+ KB\n"
          ]
        }
      ]
    },
    {
      "cell_type": "code",
      "execution_count": 42,
      "metadata": {
        "jupyter": {
          "outputs_hidden": false
        },
        "id": "P3U46NUs1eL7",
        "colab": {
          "base_uri": "https://localhost:8080/",
          "height": 300
        },
        "outputId": "2fb03e19-a6e8-4356-c387-b94e9e407516"
      },
      "outputs": [
        {
          "output_type": "execute_result",
          "data": {
            "text/plain": [
              "          number  orbital_period        mass    distance         year\n",
              "count  498.00000      498.000000  498.000000  498.000000   498.000000\n",
              "mean     1.73494      835.778671    2.509320   52.068213  2007.377510\n",
              "std      1.17572     1469.128259    3.636274   46.596041     4.167284\n",
              "min      1.00000        1.328300    0.003600    1.350000  1989.000000\n",
              "25%      1.00000       38.272250    0.212500   24.497500  2005.000000\n",
              "50%      1.00000      357.000000    1.245000   39.940000  2009.000000\n",
              "75%      2.00000      999.600000    2.867500   59.332500  2011.000000\n",
              "max      6.00000    17337.500000   25.000000  354.000000  2014.000000"
            ],
            "text/html": [
              "\n",
              "  <div id=\"df-45812d28-f7b8-47a2-b5a3-e4c95dab2a7f\" class=\"colab-df-container\">\n",
              "    <div>\n",
              "<style scoped>\n",
              "    .dataframe tbody tr th:only-of-type {\n",
              "        vertical-align: middle;\n",
              "    }\n",
              "\n",
              "    .dataframe tbody tr th {\n",
              "        vertical-align: top;\n",
              "    }\n",
              "\n",
              "    .dataframe thead th {\n",
              "        text-align: right;\n",
              "    }\n",
              "</style>\n",
              "<table border=\"1\" class=\"dataframe\">\n",
              "  <thead>\n",
              "    <tr style=\"text-align: right;\">\n",
              "      <th></th>\n",
              "      <th>number</th>\n",
              "      <th>orbital_period</th>\n",
              "      <th>mass</th>\n",
              "      <th>distance</th>\n",
              "      <th>year</th>\n",
              "    </tr>\n",
              "  </thead>\n",
              "  <tbody>\n",
              "    <tr>\n",
              "      <th>count</th>\n",
              "      <td>498.00000</td>\n",
              "      <td>498.000000</td>\n",
              "      <td>498.000000</td>\n",
              "      <td>498.000000</td>\n",
              "      <td>498.000000</td>\n",
              "    </tr>\n",
              "    <tr>\n",
              "      <th>mean</th>\n",
              "      <td>1.73494</td>\n",
              "      <td>835.778671</td>\n",
              "      <td>2.509320</td>\n",
              "      <td>52.068213</td>\n",
              "      <td>2007.377510</td>\n",
              "    </tr>\n",
              "    <tr>\n",
              "      <th>std</th>\n",
              "      <td>1.17572</td>\n",
              "      <td>1469.128259</td>\n",
              "      <td>3.636274</td>\n",
              "      <td>46.596041</td>\n",
              "      <td>4.167284</td>\n",
              "    </tr>\n",
              "    <tr>\n",
              "      <th>min</th>\n",
              "      <td>1.00000</td>\n",
              "      <td>1.328300</td>\n",
              "      <td>0.003600</td>\n",
              "      <td>1.350000</td>\n",
              "      <td>1989.000000</td>\n",
              "    </tr>\n",
              "    <tr>\n",
              "      <th>25%</th>\n",
              "      <td>1.00000</td>\n",
              "      <td>38.272250</td>\n",
              "      <td>0.212500</td>\n",
              "      <td>24.497500</td>\n",
              "      <td>2005.000000</td>\n",
              "    </tr>\n",
              "    <tr>\n",
              "      <th>50%</th>\n",
              "      <td>1.00000</td>\n",
              "      <td>357.000000</td>\n",
              "      <td>1.245000</td>\n",
              "      <td>39.940000</td>\n",
              "      <td>2009.000000</td>\n",
              "    </tr>\n",
              "    <tr>\n",
              "      <th>75%</th>\n",
              "      <td>2.00000</td>\n",
              "      <td>999.600000</td>\n",
              "      <td>2.867500</td>\n",
              "      <td>59.332500</td>\n",
              "      <td>2011.000000</td>\n",
              "    </tr>\n",
              "    <tr>\n",
              "      <th>max</th>\n",
              "      <td>6.00000</td>\n",
              "      <td>17337.500000</td>\n",
              "      <td>25.000000</td>\n",
              "      <td>354.000000</td>\n",
              "      <td>2014.000000</td>\n",
              "    </tr>\n",
              "  </tbody>\n",
              "</table>\n",
              "</div>\n",
              "    <div class=\"colab-df-buttons\">\n",
              "\n",
              "  <div class=\"colab-df-container\">\n",
              "    <button class=\"colab-df-convert\" onclick=\"convertToInteractive('df-45812d28-f7b8-47a2-b5a3-e4c95dab2a7f')\"\n",
              "            title=\"Convert this dataframe to an interactive table.\"\n",
              "            style=\"display:none;\">\n",
              "\n",
              "  <svg xmlns=\"http://www.w3.org/2000/svg\" height=\"24px\" viewBox=\"0 -960 960 960\">\n",
              "    <path d=\"M120-120v-720h720v720H120Zm60-500h600v-160H180v160Zm220 220h160v-160H400v160Zm0 220h160v-160H400v160ZM180-400h160v-160H180v160Zm440 0h160v-160H620v160ZM180-180h160v-160H180v160Zm440 0h160v-160H620v160Z\"/>\n",
              "  </svg>\n",
              "    </button>\n",
              "\n",
              "  <style>\n",
              "    .colab-df-container {\n",
              "      display:flex;\n",
              "      gap: 12px;\n",
              "    }\n",
              "\n",
              "    .colab-df-convert {\n",
              "      background-color: #E8F0FE;\n",
              "      border: none;\n",
              "      border-radius: 50%;\n",
              "      cursor: pointer;\n",
              "      display: none;\n",
              "      fill: #1967D2;\n",
              "      height: 32px;\n",
              "      padding: 0 0 0 0;\n",
              "      width: 32px;\n",
              "    }\n",
              "\n",
              "    .colab-df-convert:hover {\n",
              "      background-color: #E2EBFA;\n",
              "      box-shadow: 0px 1px 2px rgba(60, 64, 67, 0.3), 0px 1px 3px 1px rgba(60, 64, 67, 0.15);\n",
              "      fill: #174EA6;\n",
              "    }\n",
              "\n",
              "    .colab-df-buttons div {\n",
              "      margin-bottom: 4px;\n",
              "    }\n",
              "\n",
              "    [theme=dark] .colab-df-convert {\n",
              "      background-color: #3B4455;\n",
              "      fill: #D2E3FC;\n",
              "    }\n",
              "\n",
              "    [theme=dark] .colab-df-convert:hover {\n",
              "      background-color: #434B5C;\n",
              "      box-shadow: 0px 1px 3px 1px rgba(0, 0, 0, 0.15);\n",
              "      filter: drop-shadow(0px 1px 2px rgba(0, 0, 0, 0.3));\n",
              "      fill: #FFFFFF;\n",
              "    }\n",
              "  </style>\n",
              "\n",
              "    <script>\n",
              "      const buttonEl =\n",
              "        document.querySelector('#df-45812d28-f7b8-47a2-b5a3-e4c95dab2a7f button.colab-df-convert');\n",
              "      buttonEl.style.display =\n",
              "        google.colab.kernel.accessAllowed ? 'block' : 'none';\n",
              "\n",
              "      async function convertToInteractive(key) {\n",
              "        const element = document.querySelector('#df-45812d28-f7b8-47a2-b5a3-e4c95dab2a7f');\n",
              "        const dataTable =\n",
              "          await google.colab.kernel.invokeFunction('convertToInteractive',\n",
              "                                                    [key], {});\n",
              "        if (!dataTable) return;\n",
              "\n",
              "        const docLinkHtml = 'Like what you see? Visit the ' +\n",
              "          '<a target=\"_blank\" href=https://colab.research.google.com/notebooks/data_table.ipynb>data table notebook</a>'\n",
              "          + ' to learn more about interactive tables.';\n",
              "        element.innerHTML = '';\n",
              "        dataTable['output_type'] = 'display_data';\n",
              "        await google.colab.output.renderOutput(dataTable, element);\n",
              "        const docLink = document.createElement('div');\n",
              "        docLink.innerHTML = docLinkHtml;\n",
              "        element.appendChild(docLink);\n",
              "      }\n",
              "    </script>\n",
              "  </div>\n",
              "\n",
              "\n",
              "<div id=\"df-0f2c7f00-e9d8-486a-b737-0fc8578e801e\">\n",
              "  <button class=\"colab-df-quickchart\" onclick=\"quickchart('df-0f2c7f00-e9d8-486a-b737-0fc8578e801e')\"\n",
              "            title=\"Suggest charts.\"\n",
              "            style=\"display:none;\">\n",
              "\n",
              "<svg xmlns=\"http://www.w3.org/2000/svg\" height=\"24px\"viewBox=\"0 0 24 24\"\n",
              "     width=\"24px\">\n",
              "    <g>\n",
              "        <path d=\"M19 3H5c-1.1 0-2 .9-2 2v14c0 1.1.9 2 2 2h14c1.1 0 2-.9 2-2V5c0-1.1-.9-2-2-2zM9 17H7v-7h2v7zm4 0h-2V7h2v10zm4 0h-2v-4h2v4z\"/>\n",
              "    </g>\n",
              "</svg>\n",
              "  </button>\n",
              "\n",
              "<style>\n",
              "  .colab-df-quickchart {\n",
              "      --bg-color: #E8F0FE;\n",
              "      --fill-color: #1967D2;\n",
              "      --hover-bg-color: #E2EBFA;\n",
              "      --hover-fill-color: #174EA6;\n",
              "      --disabled-fill-color: #AAA;\n",
              "      --disabled-bg-color: #DDD;\n",
              "  }\n",
              "\n",
              "  [theme=dark] .colab-df-quickchart {\n",
              "      --bg-color: #3B4455;\n",
              "      --fill-color: #D2E3FC;\n",
              "      --hover-bg-color: #434B5C;\n",
              "      --hover-fill-color: #FFFFFF;\n",
              "      --disabled-bg-color: #3B4455;\n",
              "      --disabled-fill-color: #666;\n",
              "  }\n",
              "\n",
              "  .colab-df-quickchart {\n",
              "    background-color: var(--bg-color);\n",
              "    border: none;\n",
              "    border-radius: 50%;\n",
              "    cursor: pointer;\n",
              "    display: none;\n",
              "    fill: var(--fill-color);\n",
              "    height: 32px;\n",
              "    padding: 0;\n",
              "    width: 32px;\n",
              "  }\n",
              "\n",
              "  .colab-df-quickchart:hover {\n",
              "    background-color: var(--hover-bg-color);\n",
              "    box-shadow: 0 1px 2px rgba(60, 64, 67, 0.3), 0 1px 3px 1px rgba(60, 64, 67, 0.15);\n",
              "    fill: var(--button-hover-fill-color);\n",
              "  }\n",
              "\n",
              "  .colab-df-quickchart-complete:disabled,\n",
              "  .colab-df-quickchart-complete:disabled:hover {\n",
              "    background-color: var(--disabled-bg-color);\n",
              "    fill: var(--disabled-fill-color);\n",
              "    box-shadow: none;\n",
              "  }\n",
              "\n",
              "  .colab-df-spinner {\n",
              "    border: 2px solid var(--fill-color);\n",
              "    border-color: transparent;\n",
              "    border-bottom-color: var(--fill-color);\n",
              "    animation:\n",
              "      spin 1s steps(1) infinite;\n",
              "  }\n",
              "\n",
              "  @keyframes spin {\n",
              "    0% {\n",
              "      border-color: transparent;\n",
              "      border-bottom-color: var(--fill-color);\n",
              "      border-left-color: var(--fill-color);\n",
              "    }\n",
              "    20% {\n",
              "      border-color: transparent;\n",
              "      border-left-color: var(--fill-color);\n",
              "      border-top-color: var(--fill-color);\n",
              "    }\n",
              "    30% {\n",
              "      border-color: transparent;\n",
              "      border-left-color: var(--fill-color);\n",
              "      border-top-color: var(--fill-color);\n",
              "      border-right-color: var(--fill-color);\n",
              "    }\n",
              "    40% {\n",
              "      border-color: transparent;\n",
              "      border-right-color: var(--fill-color);\n",
              "      border-top-color: var(--fill-color);\n",
              "    }\n",
              "    60% {\n",
              "      border-color: transparent;\n",
              "      border-right-color: var(--fill-color);\n",
              "    }\n",
              "    80% {\n",
              "      border-color: transparent;\n",
              "      border-right-color: var(--fill-color);\n",
              "      border-bottom-color: var(--fill-color);\n",
              "    }\n",
              "    90% {\n",
              "      border-color: transparent;\n",
              "      border-bottom-color: var(--fill-color);\n",
              "    }\n",
              "  }\n",
              "</style>\n",
              "\n",
              "  <script>\n",
              "    async function quickchart(key) {\n",
              "      const quickchartButtonEl =\n",
              "        document.querySelector('#' + key + ' button');\n",
              "      quickchartButtonEl.disabled = true;  // To prevent multiple clicks.\n",
              "      quickchartButtonEl.classList.add('colab-df-spinner');\n",
              "      try {\n",
              "        const charts = await google.colab.kernel.invokeFunction(\n",
              "            'suggestCharts', [key], {});\n",
              "      } catch (error) {\n",
              "        console.error('Error during call to suggestCharts:', error);\n",
              "      }\n",
              "      quickchartButtonEl.classList.remove('colab-df-spinner');\n",
              "      quickchartButtonEl.classList.add('colab-df-quickchart-complete');\n",
              "    }\n",
              "    (() => {\n",
              "      let quickchartButtonEl =\n",
              "        document.querySelector('#df-0f2c7f00-e9d8-486a-b737-0fc8578e801e button');\n",
              "      quickchartButtonEl.style.display =\n",
              "        google.colab.kernel.accessAllowed ? 'block' : 'none';\n",
              "    })();\n",
              "  </script>\n",
              "</div>\n",
              "    </div>\n",
              "  </div>\n"
            ]
          },
          "metadata": {},
          "execution_count": 42
        }
      ],
      "source": [
        "a=planets.dropna()\n",
        "a.describe()"
      ]
    },
    {
      "cell_type": "code",
      "source": [
        "planets.dropna().describe()"
      ],
      "metadata": {
        "colab": {
          "base_uri": "https://localhost:8080/",
          "height": 300
        },
        "id": "jjg24hEFsuHg",
        "outputId": "ea276304-7ff9-4c6c-fd40-bb09a6941020"
      },
      "execution_count": 43,
      "outputs": [
        {
          "output_type": "execute_result",
          "data": {
            "text/plain": [
              "          number  orbital_period        mass    distance         year\n",
              "count  498.00000      498.000000  498.000000  498.000000   498.000000\n",
              "mean     1.73494      835.778671    2.509320   52.068213  2007.377510\n",
              "std      1.17572     1469.128259    3.636274   46.596041     4.167284\n",
              "min      1.00000        1.328300    0.003600    1.350000  1989.000000\n",
              "25%      1.00000       38.272250    0.212500   24.497500  2005.000000\n",
              "50%      1.00000      357.000000    1.245000   39.940000  2009.000000\n",
              "75%      2.00000      999.600000    2.867500   59.332500  2011.000000\n",
              "max      6.00000    17337.500000   25.000000  354.000000  2014.000000"
            ],
            "text/html": [
              "\n",
              "  <div id=\"df-2eca0604-d540-4f79-abef-54b512cf8ecf\" class=\"colab-df-container\">\n",
              "    <div>\n",
              "<style scoped>\n",
              "    .dataframe tbody tr th:only-of-type {\n",
              "        vertical-align: middle;\n",
              "    }\n",
              "\n",
              "    .dataframe tbody tr th {\n",
              "        vertical-align: top;\n",
              "    }\n",
              "\n",
              "    .dataframe thead th {\n",
              "        text-align: right;\n",
              "    }\n",
              "</style>\n",
              "<table border=\"1\" class=\"dataframe\">\n",
              "  <thead>\n",
              "    <tr style=\"text-align: right;\">\n",
              "      <th></th>\n",
              "      <th>number</th>\n",
              "      <th>orbital_period</th>\n",
              "      <th>mass</th>\n",
              "      <th>distance</th>\n",
              "      <th>year</th>\n",
              "    </tr>\n",
              "  </thead>\n",
              "  <tbody>\n",
              "    <tr>\n",
              "      <th>count</th>\n",
              "      <td>498.00000</td>\n",
              "      <td>498.000000</td>\n",
              "      <td>498.000000</td>\n",
              "      <td>498.000000</td>\n",
              "      <td>498.000000</td>\n",
              "    </tr>\n",
              "    <tr>\n",
              "      <th>mean</th>\n",
              "      <td>1.73494</td>\n",
              "      <td>835.778671</td>\n",
              "      <td>2.509320</td>\n",
              "      <td>52.068213</td>\n",
              "      <td>2007.377510</td>\n",
              "    </tr>\n",
              "    <tr>\n",
              "      <th>std</th>\n",
              "      <td>1.17572</td>\n",
              "      <td>1469.128259</td>\n",
              "      <td>3.636274</td>\n",
              "      <td>46.596041</td>\n",
              "      <td>4.167284</td>\n",
              "    </tr>\n",
              "    <tr>\n",
              "      <th>min</th>\n",
              "      <td>1.00000</td>\n",
              "      <td>1.328300</td>\n",
              "      <td>0.003600</td>\n",
              "      <td>1.350000</td>\n",
              "      <td>1989.000000</td>\n",
              "    </tr>\n",
              "    <tr>\n",
              "      <th>25%</th>\n",
              "      <td>1.00000</td>\n",
              "      <td>38.272250</td>\n",
              "      <td>0.212500</td>\n",
              "      <td>24.497500</td>\n",
              "      <td>2005.000000</td>\n",
              "    </tr>\n",
              "    <tr>\n",
              "      <th>50%</th>\n",
              "      <td>1.00000</td>\n",
              "      <td>357.000000</td>\n",
              "      <td>1.245000</td>\n",
              "      <td>39.940000</td>\n",
              "      <td>2009.000000</td>\n",
              "    </tr>\n",
              "    <tr>\n",
              "      <th>75%</th>\n",
              "      <td>2.00000</td>\n",
              "      <td>999.600000</td>\n",
              "      <td>2.867500</td>\n",
              "      <td>59.332500</td>\n",
              "      <td>2011.000000</td>\n",
              "    </tr>\n",
              "    <tr>\n",
              "      <th>max</th>\n",
              "      <td>6.00000</td>\n",
              "      <td>17337.500000</td>\n",
              "      <td>25.000000</td>\n",
              "      <td>354.000000</td>\n",
              "      <td>2014.000000</td>\n",
              "    </tr>\n",
              "  </tbody>\n",
              "</table>\n",
              "</div>\n",
              "    <div class=\"colab-df-buttons\">\n",
              "\n",
              "  <div class=\"colab-df-container\">\n",
              "    <button class=\"colab-df-convert\" onclick=\"convertToInteractive('df-2eca0604-d540-4f79-abef-54b512cf8ecf')\"\n",
              "            title=\"Convert this dataframe to an interactive table.\"\n",
              "            style=\"display:none;\">\n",
              "\n",
              "  <svg xmlns=\"http://www.w3.org/2000/svg\" height=\"24px\" viewBox=\"0 -960 960 960\">\n",
              "    <path d=\"M120-120v-720h720v720H120Zm60-500h600v-160H180v160Zm220 220h160v-160H400v160Zm0 220h160v-160H400v160ZM180-400h160v-160H180v160Zm440 0h160v-160H620v160ZM180-180h160v-160H180v160Zm440 0h160v-160H620v160Z\"/>\n",
              "  </svg>\n",
              "    </button>\n",
              "\n",
              "  <style>\n",
              "    .colab-df-container {\n",
              "      display:flex;\n",
              "      gap: 12px;\n",
              "    }\n",
              "\n",
              "    .colab-df-convert {\n",
              "      background-color: #E8F0FE;\n",
              "      border: none;\n",
              "      border-radius: 50%;\n",
              "      cursor: pointer;\n",
              "      display: none;\n",
              "      fill: #1967D2;\n",
              "      height: 32px;\n",
              "      padding: 0 0 0 0;\n",
              "      width: 32px;\n",
              "    }\n",
              "\n",
              "    .colab-df-convert:hover {\n",
              "      background-color: #E2EBFA;\n",
              "      box-shadow: 0px 1px 2px rgba(60, 64, 67, 0.3), 0px 1px 3px 1px rgba(60, 64, 67, 0.15);\n",
              "      fill: #174EA6;\n",
              "    }\n",
              "\n",
              "    .colab-df-buttons div {\n",
              "      margin-bottom: 4px;\n",
              "    }\n",
              "\n",
              "    [theme=dark] .colab-df-convert {\n",
              "      background-color: #3B4455;\n",
              "      fill: #D2E3FC;\n",
              "    }\n",
              "\n",
              "    [theme=dark] .colab-df-convert:hover {\n",
              "      background-color: #434B5C;\n",
              "      box-shadow: 0px 1px 3px 1px rgba(0, 0, 0, 0.15);\n",
              "      filter: drop-shadow(0px 1px 2px rgba(0, 0, 0, 0.3));\n",
              "      fill: #FFFFFF;\n",
              "    }\n",
              "  </style>\n",
              "\n",
              "    <script>\n",
              "      const buttonEl =\n",
              "        document.querySelector('#df-2eca0604-d540-4f79-abef-54b512cf8ecf button.colab-df-convert');\n",
              "      buttonEl.style.display =\n",
              "        google.colab.kernel.accessAllowed ? 'block' : 'none';\n",
              "\n",
              "      async function convertToInteractive(key) {\n",
              "        const element = document.querySelector('#df-2eca0604-d540-4f79-abef-54b512cf8ecf');\n",
              "        const dataTable =\n",
              "          await google.colab.kernel.invokeFunction('convertToInteractive',\n",
              "                                                    [key], {});\n",
              "        if (!dataTable) return;\n",
              "\n",
              "        const docLinkHtml = 'Like what you see? Visit the ' +\n",
              "          '<a target=\"_blank\" href=https://colab.research.google.com/notebooks/data_table.ipynb>data table notebook</a>'\n",
              "          + ' to learn more about interactive tables.';\n",
              "        element.innerHTML = '';\n",
              "        dataTable['output_type'] = 'display_data';\n",
              "        await google.colab.output.renderOutput(dataTable, element);\n",
              "        const docLink = document.createElement('div');\n",
              "        docLink.innerHTML = docLinkHtml;\n",
              "        element.appendChild(docLink);\n",
              "      }\n",
              "    </script>\n",
              "  </div>\n",
              "\n",
              "\n",
              "<div id=\"df-c7c4647c-cf6b-4c8d-8c47-e1098bbe6f83\">\n",
              "  <button class=\"colab-df-quickchart\" onclick=\"quickchart('df-c7c4647c-cf6b-4c8d-8c47-e1098bbe6f83')\"\n",
              "            title=\"Suggest charts.\"\n",
              "            style=\"display:none;\">\n",
              "\n",
              "<svg xmlns=\"http://www.w3.org/2000/svg\" height=\"24px\"viewBox=\"0 0 24 24\"\n",
              "     width=\"24px\">\n",
              "    <g>\n",
              "        <path d=\"M19 3H5c-1.1 0-2 .9-2 2v14c0 1.1.9 2 2 2h14c1.1 0 2-.9 2-2V5c0-1.1-.9-2-2-2zM9 17H7v-7h2v7zm4 0h-2V7h2v10zm4 0h-2v-4h2v4z\"/>\n",
              "    </g>\n",
              "</svg>\n",
              "  </button>\n",
              "\n",
              "<style>\n",
              "  .colab-df-quickchart {\n",
              "      --bg-color: #E8F0FE;\n",
              "      --fill-color: #1967D2;\n",
              "      --hover-bg-color: #E2EBFA;\n",
              "      --hover-fill-color: #174EA6;\n",
              "      --disabled-fill-color: #AAA;\n",
              "      --disabled-bg-color: #DDD;\n",
              "  }\n",
              "\n",
              "  [theme=dark] .colab-df-quickchart {\n",
              "      --bg-color: #3B4455;\n",
              "      --fill-color: #D2E3FC;\n",
              "      --hover-bg-color: #434B5C;\n",
              "      --hover-fill-color: #FFFFFF;\n",
              "      --disabled-bg-color: #3B4455;\n",
              "      --disabled-fill-color: #666;\n",
              "  }\n",
              "\n",
              "  .colab-df-quickchart {\n",
              "    background-color: var(--bg-color);\n",
              "    border: none;\n",
              "    border-radius: 50%;\n",
              "    cursor: pointer;\n",
              "    display: none;\n",
              "    fill: var(--fill-color);\n",
              "    height: 32px;\n",
              "    padding: 0;\n",
              "    width: 32px;\n",
              "  }\n",
              "\n",
              "  .colab-df-quickchart:hover {\n",
              "    background-color: var(--hover-bg-color);\n",
              "    box-shadow: 0 1px 2px rgba(60, 64, 67, 0.3), 0 1px 3px 1px rgba(60, 64, 67, 0.15);\n",
              "    fill: var(--button-hover-fill-color);\n",
              "  }\n",
              "\n",
              "  .colab-df-quickchart-complete:disabled,\n",
              "  .colab-df-quickchart-complete:disabled:hover {\n",
              "    background-color: var(--disabled-bg-color);\n",
              "    fill: var(--disabled-fill-color);\n",
              "    box-shadow: none;\n",
              "  }\n",
              "\n",
              "  .colab-df-spinner {\n",
              "    border: 2px solid var(--fill-color);\n",
              "    border-color: transparent;\n",
              "    border-bottom-color: var(--fill-color);\n",
              "    animation:\n",
              "      spin 1s steps(1) infinite;\n",
              "  }\n",
              "\n",
              "  @keyframes spin {\n",
              "    0% {\n",
              "      border-color: transparent;\n",
              "      border-bottom-color: var(--fill-color);\n",
              "      border-left-color: var(--fill-color);\n",
              "    }\n",
              "    20% {\n",
              "      border-color: transparent;\n",
              "      border-left-color: var(--fill-color);\n",
              "      border-top-color: var(--fill-color);\n",
              "    }\n",
              "    30% {\n",
              "      border-color: transparent;\n",
              "      border-left-color: var(--fill-color);\n",
              "      border-top-color: var(--fill-color);\n",
              "      border-right-color: var(--fill-color);\n",
              "    }\n",
              "    40% {\n",
              "      border-color: transparent;\n",
              "      border-right-color: var(--fill-color);\n",
              "      border-top-color: var(--fill-color);\n",
              "    }\n",
              "    60% {\n",
              "      border-color: transparent;\n",
              "      border-right-color: var(--fill-color);\n",
              "    }\n",
              "    80% {\n",
              "      border-color: transparent;\n",
              "      border-right-color: var(--fill-color);\n",
              "      border-bottom-color: var(--fill-color);\n",
              "    }\n",
              "    90% {\n",
              "      border-color: transparent;\n",
              "      border-bottom-color: var(--fill-color);\n",
              "    }\n",
              "  }\n",
              "</style>\n",
              "\n",
              "  <script>\n",
              "    async function quickchart(key) {\n",
              "      const quickchartButtonEl =\n",
              "        document.querySelector('#' + key + ' button');\n",
              "      quickchartButtonEl.disabled = true;  // To prevent multiple clicks.\n",
              "      quickchartButtonEl.classList.add('colab-df-spinner');\n",
              "      try {\n",
              "        const charts = await google.colab.kernel.invokeFunction(\n",
              "            'suggestCharts', [key], {});\n",
              "      } catch (error) {\n",
              "        console.error('Error during call to suggestCharts:', error);\n",
              "      }\n",
              "      quickchartButtonEl.classList.remove('colab-df-spinner');\n",
              "      quickchartButtonEl.classList.add('colab-df-quickchart-complete');\n",
              "    }\n",
              "    (() => {\n",
              "      let quickchartButtonEl =\n",
              "        document.querySelector('#df-c7c4647c-cf6b-4c8d-8c47-e1098bbe6f83 button');\n",
              "      quickchartButtonEl.style.display =\n",
              "        google.colab.kernel.accessAllowed ? 'block' : 'none';\n",
              "    })();\n",
              "  </script>\n",
              "</div>\n",
              "    </div>\n",
              "  </div>\n"
            ]
          },
          "metadata": {},
          "execution_count": 43
        }
      ]
    },
    {
      "cell_type": "code",
      "source": [
        "planets.dropna().info()"
      ],
      "metadata": {
        "colab": {
          "base_uri": "https://localhost:8080/"
        },
        "id": "w52E5a4Is4Vv",
        "outputId": "671ed7cc-62fe-472e-f109-c9c45a56e752"
      },
      "execution_count": 44,
      "outputs": [
        {
          "output_type": "stream",
          "name": "stdout",
          "text": [
            "<class 'pandas.core.frame.DataFrame'>\n",
            "Int64Index: 498 entries, 0 to 784\n",
            "Data columns (total 6 columns):\n",
            " #   Column          Non-Null Count  Dtype  \n",
            "---  ------          --------------  -----  \n",
            " 0   method          498 non-null    object \n",
            " 1   number          498 non-null    int64  \n",
            " 2   orbital_period  498 non-null    float64\n",
            " 3   mass            498 non-null    float64\n",
            " 4   distance        498 non-null    float64\n",
            " 5   year            498 non-null    int64  \n",
            "dtypes: float64(3), int64(2), object(1)\n",
            "memory usage: 27.2+ KB\n"
          ]
        }
      ]
    },
    {
      "cell_type": "markdown",
      "metadata": {
        "id": "qgm6pDCb1eL7"
      },
      "source": [
        "This method helps us understand the overall properties of a dataset.\n",
        "For example, we see in the `year` column that although exoplanets were discovered as far back as 1989, half of all planets in the dataset were not discovered until 2010 or after.\n",
        "This is largely thanks to the *Kepler* mission, which aimed to find eclipsing planets around other stars using a specially designed space telescope."
      ]
    },
    {
      "cell_type": "markdown",
      "metadata": {
        "id": "Hywkj1P31eL7"
      },
      "source": [
        "The following table summarizes some other built-in Pandas aggregations:\n",
        "\n",
        "| Aggregation              | Returns                         |\n",
        "|--------------------------|---------------------------------|\n",
        "| ``count``                | Total number of items           |\n",
        "| ``first``, ``last``      | First and last item             |\n",
        "| ``mean``, ``median``     | Mean and median                 |\n",
        "| ``min``, ``max``         | Minimum and maximum             |\n",
        "| ``std``, ``var``         | Standard deviation and variance |\n",
        "| ``mad``                  | Mean absolute deviation         |\n",
        "| ``prod``                 | Product of all items            |\n",
        "| ``sum``                  | Sum of all items                |\n",
        "\n",
        "These are all methods of `DataFrame` and `Series` objects."
      ]
    },
    {
      "cell_type": "markdown",
      "source": [
        "Let's explore some of those functions!"
      ],
      "metadata": {
        "id": "SpDZHUQp8d_H"
      }
    },
    {
      "cell_type": "code",
      "source": [],
      "metadata": {
        "id": "aTmrr86f8cvD"
      },
      "execution_count": null,
      "outputs": []
    },
    {
      "cell_type": "code",
      "source": [],
      "metadata": {
        "id": "MtG5haq68h8H"
      },
      "execution_count": null,
      "outputs": []
    },
    {
      "cell_type": "code",
      "source": [],
      "metadata": {
        "id": "T4evMSLF8iAK"
      },
      "execution_count": null,
      "outputs": []
    },
    {
      "cell_type": "markdown",
      "metadata": {
        "id": "3RIyHo8j1eL8"
      },
      "source": [
        "To go deeper into the data, however, simple aggregates are often not enough.\n",
        "The next level of data summarization is the `groupby` operation, which allows you to quickly and efficiently compute aggregates on subsets of data."
      ]
    },
    {
      "cell_type": "markdown",
      "metadata": {
        "id": "hRaD9f0b1eL8"
      },
      "source": [
        "## groupby: Split, Apply, Combine\n",
        "\n",
        "Simple aggregations can give you a flavor of your dataset, but often we would prefer to aggregate conditionally on some label or index: this is implemented in the so-called `groupby` operation.\n",
        "The name \"group by\" comes from a command in the SQL database language, but it is perhaps more illuminative to think of it in the terms first coined by Hadley Wickham of Rstats fame: *split, apply, combine*."
      ]
    },
    {
      "cell_type": "markdown",
      "metadata": {
        "id": "HnjSBUUk1eL8"
      },
      "source": [
        "### Split, Apply, Combine\n",
        "\n",
        "A canonical example of this split-apply-combine operation, where the \"apply\" is a summation aggregation, is illustrated in this figure:"
      ]
    },
    {
      "cell_type": "markdown",
      "metadata": {
        "id": "7rmA-orp1eL8"
      },
      "source": [
        "![image.png](data:image/png;base64,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)"
      ]
    },
    {
      "cell_type": "markdown",
      "metadata": {
        "id": "lsHTjZ6E1eL8"
      },
      "source": [
        "This illustrates what the `groupby` operation accomplishes:\n",
        "\n",
        "- The *split* step involves breaking up and grouping a `DataFrame` depending on the value of the specified key.\n",
        "- The *apply* step involves computing some function, usually an aggregate, transformation, or filtering, within the individual groups.\n",
        "- The *combine* step merges the results of these operations into an output array.\n",
        "\n",
        "While this could certainly be done manually using some combination of the masking, aggregation, and merging commands covered earlier, an important realization is that *the intermediate splits do not need to be explicitly instantiated*. Rather, the `groupby` can (often) do this in a single pass over the data, updating the sum, mean, count, min, or other aggregate for each group along the way.\n",
        "The power of the `groupby` is that it abstracts away these steps: the user need not think about *how* the computation is done under the hood, but rather can think about the *operation as a whole*.\n",
        "\n",
        "As a concrete example, let's take a look at using Pandas for the computation shown in the following figure.\n",
        "We'll start by creating the input `DataFrame`:"
      ]
    },
    {
      "cell_type": "code",
      "execution_count": null,
      "metadata": {
        "jupyter": {
          "outputs_hidden": false
        },
        "id": "T6RBTlW11eL9"
      },
      "outputs": [],
      "source": [
        "df = pd.DataFrame({'key': ['A', 'B', 'C', 'A', 'B', 'C'],\n",
        "                   'data': range(6)}, columns=['key', 'data'])\n",
        "df"
      ]
    },
    {
      "cell_type": "markdown",
      "metadata": {
        "id": "DIl4O4zP1eL9"
      },
      "source": [
        "The most basic split-apply-combine operation can be computed with the `groupby` method of the `DataFrame`, passing the name of the desired key column:"
      ]
    },
    {
      "cell_type": "code",
      "execution_count": null,
      "metadata": {
        "jupyter": {
          "outputs_hidden": false
        },
        "id": "Av691di81eL9"
      },
      "outputs": [],
      "source": []
    },
    {
      "cell_type": "markdown",
      "metadata": {
        "id": "RuiOj0zS1eL9"
      },
      "source": [
        "Notice that what is returned is a `DataFrameGroupBy` object, not a set of `DataFrame` objects.\n",
        "This object is where the magic is: you can think of it as a special view of the `DataFrame`, which is poised to dig into the groups but does no actual computation until the aggregation is applied.\n",
        "This \"lazy evaluation\" approach means that common aggregates can be implemented efficiently in a way that is almost transparent to the user.\n",
        "\n",
        "To produce a result, we can apply an aggregate to this `DataFrameGroupBy` object, which will perform the appropriate apply/combine steps to produce the desired result:"
      ]
    },
    {
      "cell_type": "code",
      "execution_count": null,
      "metadata": {
        "jupyter": {
          "outputs_hidden": false
        },
        "id": "jz7ITMEA1eL9"
      },
      "outputs": [],
      "source": []
    },
    {
      "cell_type": "markdown",
      "metadata": {
        "id": "t6-wpYT01eL9"
      },
      "source": [
        "The `sum` method is just one possibility here; you can apply most Pandas or NumPy aggregation functions, as well as most `DataFrame` operations, as you will see in the following discussion."
      ]
    },
    {
      "cell_type": "markdown",
      "metadata": {
        "id": "w309BxrK1eL-"
      },
      "source": [
        "### The GroupBy Object\n",
        "\n",
        "The `GroupBy` object is a flexible abstraction: in many ways, it can be treated as simply a collection of ``DataFrame``s, though it is doing more sophisticated things under the hood. Let's see some examples using the Planets data.\n",
        "\n",
        "Perhaps the most important operations made available by a `GroupBy` are *aggregate*, *filter*, *transform*, and *apply*.\n",
        "We'll discuss each of these more fully in the next section, but before that let's take a look at some of the other functionality that can be used with the basic `GroupBy` operation."
      ]
    },
    {
      "cell_type": "markdown",
      "metadata": {
        "id": "p8AbugqB1eL-"
      },
      "source": [
        "#### Column indexing\n",
        "\n",
        "The `GroupBy` object supports column indexing in the same way as the `DataFrame`, and returns a modified `GroupBy` object.\n",
        "For example:"
      ]
    },
    {
      "cell_type": "code",
      "source": [],
      "metadata": {
        "id": "418PLmVL9oFw"
      },
      "execution_count": null,
      "outputs": []
    },
    {
      "cell_type": "code",
      "source": [],
      "metadata": {
        "id": "mnoOAe8o9rEj"
      },
      "execution_count": null,
      "outputs": []
    },
    {
      "cell_type": "code",
      "execution_count": null,
      "metadata": {
        "jupyter": {
          "outputs_hidden": false
        },
        "id": "XxIkCX-p1eL-"
      },
      "outputs": [],
      "source": []
    },
    {
      "cell_type": "code",
      "execution_count": null,
      "metadata": {
        "jupyter": {
          "outputs_hidden": false
        },
        "id": "QkTYNhvF1eL-"
      },
      "outputs": [],
      "source": []
    },
    {
      "cell_type": "markdown",
      "metadata": {
        "id": "VZGgwa8N1eL_"
      },
      "source": [
        "Here we've selected a particular `Series` group from the original `DataFrame` group by reference to its column name.\n",
        "As with the `GroupBy` object, no computation is done until we call some aggregate on the object:"
      ]
    },
    {
      "cell_type": "code",
      "execution_count": null,
      "metadata": {
        "jupyter": {
          "outputs_hidden": false
        },
        "id": "WDbGxnoU1eL_"
      },
      "outputs": [],
      "source": []
    },
    {
      "cell_type": "markdown",
      "metadata": {
        "id": "mHmD0j5v1eMA"
      },
      "source": [
        "This gives an idea of the general scale of orbital periods (in days) that each method is sensitive to."
      ]
    },
    {
      "cell_type": "markdown",
      "metadata": {
        "id": "1-aaULpg1eMA"
      },
      "source": [
        "#### Iteration over groups\n",
        "\n",
        "The `GroupBy` object supports direct iteration over the groups, returning each group as a `Series` or `DataFrame`:"
      ]
    },
    {
      "cell_type": "code",
      "execution_count": null,
      "metadata": {
        "jupyter": {
          "outputs_hidden": false
        },
        "id": "Ap1LGQR91eMA"
      },
      "outputs": [],
      "source": []
    },
    {
      "cell_type": "markdown",
      "metadata": {
        "id": "4DH_Z86_1eMB"
      },
      "source": [
        "This can be useful for manual inspection of groups for the sake of debugging, but it is often much faster to use the built-in `apply` functionality, which we will discuss momentarily."
      ]
    },
    {
      "cell_type": "markdown",
      "metadata": {
        "id": "5p94YBr-1eMB"
      },
      "source": [
        "### Aggregate, Filter, Transform, Apply\n",
        "\n",
        "The preceding discussion focused on aggregation for the combine operation, but there are more options available.\n",
        "In particular, `GroupBy` objects have `aggregate`, `filter`, `transform`, and `apply` methods that efficiently implement a variety of useful operations before combining the grouped data.\n",
        "\n",
        "For the purpose of the following subsections, we'll use this ``DataFrame``:"
      ]
    },
    {
      "cell_type": "code",
      "execution_count": null,
      "metadata": {
        "jupyter": {
          "outputs_hidden": false
        },
        "id": "-B7Oe-Lv1eMC"
      },
      "outputs": [],
      "source": [
        "rng = np.random.RandomState(0)\n",
        "df = pd.DataFrame({'key': ['A', 'B', 'C', 'A', 'B', 'C'],\n",
        "                   'data1': range(6),\n",
        "                   'data2': rng.randint(0, 10, 6)},\n",
        "                   columns = ['key', 'data1', 'data2'])\n",
        "df"
      ]
    },
    {
      "cell_type": "markdown",
      "metadata": {
        "id": "kAitykhB1eMC"
      },
      "source": [
        "#### Aggregation\n",
        "\n",
        "You're now familiar with `GroupBy` aggregations with `sum`, `median`, and the like, but the `aggregate` method allows for even more flexibility.\n",
        "It can take a string, a function, or a list thereof, and compute all the aggregates at once.\n",
        "Here is a quick example combining all of these:"
      ]
    },
    {
      "cell_type": "code",
      "execution_count": null,
      "metadata": {
        "jupyter": {
          "outputs_hidden": false
        },
        "id": "LVvyaEzS1eMC"
      },
      "outputs": [],
      "source": []
    },
    {
      "cell_type": "markdown",
      "metadata": {
        "id": "JdOnCtKa1eMC"
      },
      "source": [
        "Another common pattern is to pass a dictionary mapping column names to operations to be applied on that column:"
      ]
    },
    {
      "cell_type": "code",
      "execution_count": null,
      "metadata": {
        "jupyter": {
          "outputs_hidden": false
        },
        "id": "iER9CMi91eMC"
      },
      "outputs": [],
      "source": []
    },
    {
      "cell_type": "code",
      "source": [],
      "metadata": {
        "id": "u796DIym_twR"
      },
      "execution_count": null,
      "outputs": []
    },
    {
      "cell_type": "markdown",
      "metadata": {
        "id": "fGrgV_oW1eMC"
      },
      "source": [
        "#### Filtering\n",
        "\n",
        "A filtering operation allows you to drop data based on the group properties.\n",
        "For example, we might want to keep all groups in which the standard deviation is larger than some critical value:"
      ]
    },
    {
      "cell_type": "code",
      "source": [
        "def filter_func(x):\n",
        "    return x['data2'].std() > 4"
      ],
      "metadata": {
        "id": "7HgwaTp2_1ou"
      },
      "execution_count": null,
      "outputs": []
    },
    {
      "cell_type": "code",
      "execution_count": null,
      "metadata": {
        "jupyter": {
          "outputs_hidden": false
        },
        "id": "fnQ-N6o_1eMC"
      },
      "outputs": [],
      "source": []
    },
    {
      "cell_type": "code",
      "source": [],
      "metadata": {
        "id": "ZY0rmHSGAQZk"
      },
      "execution_count": null,
      "outputs": []
    },
    {
      "cell_type": "code",
      "source": [],
      "metadata": {
        "id": "_Oy_uE9_BJbB"
      },
      "execution_count": null,
      "outputs": []
    },
    {
      "cell_type": "markdown",
      "metadata": {
        "id": "xcUwpNDp1eMD"
      },
      "source": [
        "The filter function should return a Boolean value specifying whether the group passes the filtering. Here, because group A does not have a standard deviation greater than 4, it is dropped from the result."
      ]
    },
    {
      "cell_type": "markdown",
      "metadata": {
        "id": "7Y0ET65Q1eMD"
      },
      "source": [
        "#### Transformation\n",
        "\n",
        "While aggregation must return a reduced version of the data, transformation can return some transformed version of the full data to recombine.\n",
        "For such a transformation, the output is the same shape as the input.\n",
        "A common example is to center the data by subtracting the group-wise mean:"
      ]
    },
    {
      "cell_type": "code",
      "source": [
        "def center(x):\n",
        "    return x - x.mean()"
      ],
      "metadata": {
        "id": "-5Or0i4_Bfhn"
      },
      "execution_count": null,
      "outputs": []
    },
    {
      "cell_type": "code",
      "source": [],
      "metadata": {
        "id": "7EFqUbYLBkNl"
      },
      "execution_count": null,
      "outputs": []
    },
    {
      "cell_type": "code",
      "execution_count": null,
      "metadata": {
        "jupyter": {
          "outputs_hidden": false
        },
        "id": "ZgPmymnl1eMD"
      },
      "outputs": [],
      "source": []
    },
    {
      "cell_type": "markdown",
      "metadata": {
        "id": "MjB6T2GU1eME"
      },
      "source": [
        "#### The apply method\n",
        "\n",
        "The `apply` method lets you apply an arbitrary function to the group results.\n",
        "The function should take a `DataFrame` and returns either a Pandas object (e.g., `DataFrame`, `Series`) or a scalar; the behavior of the combine step will be tailored to the type of output returned.\n",
        "\n",
        "For example, here is an `apply` operation that normalizes the first column by the sum of the second:"
      ]
    },
    {
      "cell_type": "code",
      "source": [
        "def norm_by_data2(x):\n",
        "    # x is a DataFrame of group values\n",
        "    x['data1'] /= x['data2'].sum()\n",
        "    return x\n"
      ],
      "metadata": {
        "id": "EoY7UccJBqgq"
      },
      "execution_count": null,
      "outputs": []
    },
    {
      "cell_type": "code",
      "execution_count": null,
      "metadata": {
        "jupyter": {
          "outputs_hidden": false
        },
        "id": "rdxSlqaF1eME"
      },
      "outputs": [],
      "source": []
    },
    {
      "cell_type": "markdown",
      "metadata": {
        "id": "zHW0E_n71eME"
      },
      "source": [
        "`apply` within a `GroupBy` is flexible: the only criterion is that the function takes a `DataFrame` and returns a Pandas object or scalar. What you do in between is up to you!"
      ]
    },
    {
      "cell_type": "markdown",
      "metadata": {
        "id": "NY7w3uop1eME"
      },
      "source": [
        "### Specifying the Split Key\n",
        "\n",
        "In the simple examples presented before, we split the `DataFrame` on a single column name.\n",
        "This is just one of many options by which the groups can be defined, and we'll go through some other options for group specification here."
      ]
    },
    {
      "cell_type": "markdown",
      "metadata": {
        "id": "QO0b8U9s1eMF"
      },
      "source": [
        "#### A list, array, series, or index providing the grouping keys\n",
        "\n",
        "The key can be any series or list with a length matching that of the `DataFrame`. For example:"
      ]
    },
    {
      "cell_type": "code",
      "execution_count": null,
      "metadata": {
        "jupyter": {
          "outputs_hidden": false
        },
        "id": "mmHsgZrR1eMF"
      },
      "outputs": [],
      "source": [
        "L = [0, 1, 0, 1, 2, 0]\n"
      ]
    },
    {
      "cell_type": "markdown",
      "metadata": {
        "id": "-duTaWv71eMF"
      },
      "source": [
        "Of course, this means there's another, more verbose way of accomplishing the `df.groupby('key')` from before:"
      ]
    },
    {
      "cell_type": "code",
      "execution_count": null,
      "metadata": {
        "jupyter": {
          "outputs_hidden": false
        },
        "id": "iYXYKWj91eMF"
      },
      "outputs": [],
      "source": []
    },
    {
      "cell_type": "markdown",
      "metadata": {
        "id": "DtylR0rx1eMG"
      },
      "source": [
        "#### A dictionary or series mapping index to group\n",
        "\n",
        "Another method is to provide a dictionary that maps index values to the group keys:"
      ]
    },
    {
      "cell_type": "code",
      "execution_count": null,
      "metadata": {
        "jupyter": {
          "outputs_hidden": false
        },
        "id": "qVqsuVDe1eMG"
      },
      "outputs": [],
      "source": [
        "df2 = df.set_index('key')\n",
        "mapping = {'A': 'vowel', 'B': 'consonant', 'C': 'consonant'}\n"
      ]
    },
    {
      "cell_type": "markdown",
      "metadata": {
        "id": "7JxvmaxD1eMG"
      },
      "source": [
        "#### Any Python function\n",
        "\n",
        "Similar to mapping, you can pass any Python function that will input the index value and output the group:"
      ]
    },
    {
      "cell_type": "code",
      "execution_count": null,
      "metadata": {
        "jupyter": {
          "outputs_hidden": false
        },
        "id": "aHqS_jIo1eMG"
      },
      "outputs": [],
      "source": []
    },
    {
      "cell_type": "markdown",
      "metadata": {
        "id": "e1nAcgIX1eMG"
      },
      "source": [
        "#### A list of valid keys\n",
        "\n",
        "Further, any of the preceding key choices can be combined to group on a multi-index:"
      ]
    },
    {
      "cell_type": "code",
      "execution_count": null,
      "metadata": {
        "jupyter": {
          "outputs_hidden": false
        },
        "id": "xXlkUDvG1eMG"
      },
      "outputs": [],
      "source": []
    },
    {
      "cell_type": "markdown",
      "metadata": {
        "id": "gE52mbDJ1eMH"
      },
      "source": [
        "### Grouping Example\n",
        "\n",
        "As an example of this, let's find the count of discovered planets by method and by decade:"
      ]
    },
    {
      "cell_type": "code",
      "execution_count": null,
      "metadata": {
        "jupyter": {
          "outputs_hidden": false
        },
        "id": "D4hzxG5q1eMH"
      },
      "outputs": [],
      "source": [
        "decade = 10 * (planets['year'] // 10)\n"
      ]
    },
    {
      "cell_type": "code",
      "source": [],
      "metadata": {
        "id": "PcFNf_46DYZA"
      },
      "execution_count": null,
      "outputs": []
    },
    {
      "cell_type": "markdown",
      "metadata": {
        "id": "s9RvXcjV1eMH"
      },
      "source": [
        "This shows the power of combining many of the operations we've discussed up to this point when looking at realistic datasets: we quickly gain a coarse understanding of when and how extrasolar planets were detected in the years after the first discovery.\n",
        "\n",
        "I would suggest digging into these few lines of code and evaluating the individual steps to make sure you understand exactly what they are doing to the result.\n",
        "It's certainly a somewhat complicated example, but understanding these pieces will give you the means to similarly explore your own data."
      ]
    },
    {
      "cell_type": "markdown",
      "metadata": {
        "id": "pLE0olRW1fS2"
      },
      "source": [
        "# Pivot Tables"
      ]
    },
    {
      "cell_type": "markdown",
      "metadata": {
        "id": "Srj6_n4c1fS4"
      },
      "source": [
        "We have seen how the `groupby` abstraction lets us explore relationships within a dataset.\n",
        "A *pivot table* is a similar operation that is commonly seen in spreadsheets and other programs that operate on tabular data.\n",
        "The pivot table takes simple column-wise data as input, and groups the entries into a two-dimensional table that provides a multidimensional summarization of the data.\n",
        "The difference between pivot tables and `groupby` can sometimes cause confusion; it helps me to think of pivot tables as essentially a *multidimensional* version of `groupby` aggregation.\n",
        "That is, you split-apply-combine, but both the split and the combine happen across not a one-dimensional index, but across a two-dimensional grid."
      ]
    },
    {
      "cell_type": "markdown",
      "metadata": {
        "tags": [],
        "id": "Uj7wHvH31fS5"
      },
      "source": [
        "## Motivating Pivot Tables\n",
        "\n",
        "For the examples in this section, we'll use the database of passengers on the *Titanic*, available through the Seaborn library."
      ]
    },
    {
      "cell_type": "code",
      "execution_count": null,
      "metadata": {
        "jupyter": {
          "outputs_hidden": false
        },
        "id": "Cg5raTqF1fS5"
      },
      "outputs": [],
      "source": []
    },
    {
      "cell_type": "code",
      "execution_count": null,
      "metadata": {
        "jupyter": {
          "outputs_hidden": false
        },
        "id": "Oim4Y5u41fS7"
      },
      "outputs": [],
      "source": []
    },
    {
      "cell_type": "markdown",
      "metadata": {
        "id": "TKLd8Cct1fS8"
      },
      "source": [
        "As the output shows, this contains a number of data points on each passenger on that ill-fated voyage, including sex, age, class, fare paid, and much more."
      ]
    },
    {
      "cell_type": "markdown",
      "metadata": {
        "id": "-dLQGtV61fS8"
      },
      "source": [
        "## Pivot Tables by Hand\n",
        "\n",
        "To start learning more about this data, we might begin by grouping according to sex, survival status, or some combination thereof.\n",
        "If you read the previous chapter, you might be tempted to apply a `groupby` operation—for example, let's look at survival rate by sex:"
      ]
    },
    {
      "cell_type": "code",
      "execution_count": null,
      "metadata": {
        "jupyter": {
          "outputs_hidden": false
        },
        "id": "sekBPsuY1fS9"
      },
      "outputs": [],
      "source": []
    },
    {
      "cell_type": "markdown",
      "metadata": {
        "id": "IEjfToKA1fS9"
      },
      "source": [
        "This gives us some initial insight: overall, three of every four females on board survived, while only one in five males survived!\n",
        "\n",
        "This is useful, but we might like to go one step deeper and look at survival rates by both sex and, say, class.\n",
        "Using the vocabulary of `groupby`, we might proceed using a process like this:\n",
        "we first *group by* class and sex, then *select* survival, *apply* a mean aggregate, *combine* the resulting groups, and finally *unstack* the hierarchical index to reveal the hidden multidimensionality. In code:"
      ]
    },
    {
      "cell_type": "code",
      "execution_count": null,
      "metadata": {
        "jupyter": {
          "outputs_hidden": false
        },
        "id": "2d5ciUy31fS9"
      },
      "outputs": [],
      "source": []
    },
    {
      "cell_type": "markdown",
      "metadata": {
        "id": "PgHWNI5C1fS-"
      },
      "source": [
        "This gives us a better idea of how both sex and class affected survival, but the code is starting to look a bit garbled.\n",
        "While each step of this pipeline makes sense in light of the tools we've previously discussed, the long string of code is not particularly easy to read or use.\n",
        "This two-dimensional `groupby` is common enough that Pandas includes a convenience routine, `pivot_table`, which succinctly handles this type of multidimensional aggregation."
      ]
    },
    {
      "cell_type": "markdown",
      "metadata": {
        "id": "Byi_jMfN1fS-"
      },
      "source": [
        "## Pivot Table Syntax\n",
        "\n",
        "Here is the equivalent to the preceding operation using the `DataFrame.pivot_table` method:"
      ]
    },
    {
      "cell_type": "code",
      "source": [],
      "metadata": {
        "id": "yB3ZXBqDGNWo"
      },
      "execution_count": null,
      "outputs": []
    },
    {
      "cell_type": "code",
      "source": [],
      "metadata": {
        "id": "BruPHoFQGUTt"
      },
      "execution_count": null,
      "outputs": []
    },
    {
      "cell_type": "code",
      "execution_count": null,
      "metadata": {
        "jupyter": {
          "outputs_hidden": false
        },
        "id": "OYg56Sjr1fS-"
      },
      "outputs": [],
      "source": []
    },
    {
      "cell_type": "code",
      "source": [],
      "metadata": {
        "id": "hf68rMEIG0Uk"
      },
      "execution_count": null,
      "outputs": []
    },
    {
      "cell_type": "code",
      "source": [],
      "metadata": {
        "id": "H32vc_VNGjIb"
      },
      "execution_count": null,
      "outputs": []
    },
    {
      "cell_type": "markdown",
      "metadata": {
        "id": "-F4WEWbm1fS-"
      },
      "source": [
        "This is eminently more readable than the manual `groupby` approach, and produces the same result.\n",
        "As you might expect of an early 20th-century transatlantic cruise, the survival gradient favors both higher classes and people recorded as females in the\n",
        "data. First-class females survived with near certainty (hi, Rose!), while only one in eight or so third-class males survived (sorry, Jack!)."
      ]
    },
    {
      "cell_type": "markdown",
      "metadata": {
        "id": "ve7zpFca1fS-"
      },
      "source": [
        "### Multilevel Pivot Tables\n",
        "\n",
        "Just as in a `groupby`, the grouping in pivot tables can be specified with multiple levels and via a number of options.\n",
        "For example, we might be interested in looking at age as a third dimension.\n",
        "We'll bin the age using the `pd.cut` function:"
      ]
    },
    {
      "cell_type": "code",
      "source": [
        "age = pd.cut(titanic['age'], [0, 18, 80])\n",
        "age"
      ],
      "metadata": {
        "id": "B-Au0wpBHYRj"
      },
      "execution_count": null,
      "outputs": []
    },
    {
      "cell_type": "code",
      "execution_count": null,
      "metadata": {
        "jupyter": {
          "outputs_hidden": false
        },
        "id": "rJZnV4_G1fS_"
      },
      "outputs": [],
      "source": []
    },
    {
      "cell_type": "markdown",
      "metadata": {
        "id": "YlcHabHW1fS_"
      },
      "source": [
        "### Additional Pivot Table Options\n",
        "\n",
        "The full call signature of the `DataFrame.pivot_table` method is as follows:\n",
        "\n",
        "```python\n",
        "# call signature as of Pandas 1.3.5\n",
        "DataFrame.pivot_table(data, values=None, index=None, columns=None,\n",
        "                      aggfunc='mean', fill_value=None, margins=False,\n",
        "                      dropna=True, margins_name='All', observed=False,\n",
        "                      sort=True)\n",
        "```\n",
        "\n",
        "We've already seen examples of the first three arguments; here we'll take a quick look at some of the remaining ones.\n",
        "Two of the options, `fill_value` and `dropna`, have to do with missing data and are fairly straightforward; I will not show examples of them here.\n",
        "\n",
        "The `aggfunc` keyword controls what type of aggregation is applied, which is a mean by default.\n",
        "As with `groupby`, the aggregation specification can be a string representing one of several common choices (`'sum'`, `'mean'`, `'count'`, `'min'`, `'max'`, etc.) or a function that implements an aggregation (e.g., `np.sum()`, `min()`, `sum()`, etc.).\n",
        "Additionally, it can be specified as a dictionary mapping a column to any of the desired options:"
      ]
    },
    {
      "cell_type": "code",
      "execution_count": null,
      "metadata": {
        "jupyter": {
          "outputs_hidden": false
        },
        "id": "d5zrhtkP1fS_"
      },
      "outputs": [],
      "source": []
    },
    {
      "cell_type": "markdown",
      "metadata": {
        "id": "qOLa3Eqh1fTA"
      },
      "source": [
        "Notice also here that we've omitted the `values` keyword; when specifying a mapping for `aggfunc`, this is determined automatically."
      ]
    },
    {
      "cell_type": "markdown",
      "metadata": {
        "id": "6MVB8WLn1fTA"
      },
      "source": [
        "At times it's useful to compute totals along each grouping.\n",
        "This can be done via the ``margins`` keyword:"
      ]
    },
    {
      "cell_type": "code",
      "execution_count": null,
      "metadata": {
        "jupyter": {
          "outputs_hidden": false
        },
        "id": "PknRUzmL1fTA"
      },
      "outputs": [],
      "source": []
    },
    {
      "cell_type": "markdown",
      "metadata": {
        "id": "PqohVg2d1fTA"
      },
      "source": [
        "Here, this automatically gives us information about the class-agnostic survival rate by sex, the sex-agnostic survival rate by class, and the overall survival rate of 38%.\n",
        "The margin label can be specified with the `margins_name` keyword; it defaults to `\"All\"`."
      ]
    },
    {
      "cell_type": "markdown",
      "metadata": {
        "id": "8jF_j7xG1fTA"
      },
      "source": [
        "## Example: Birthrate Data\n",
        "\n",
        "As another example, let's take a look at the freely available data on births in the United States, provided by the Centers for Disease Control (CDC).\n",
        "This data can be found at https://raw.githubusercontent.com/jakevdp/data-CDCbirths/master/births.csv\n",
        "(this dataset has been analyzed rather extensively by Andrew Gelman and his group; see, for example, the [blog post on signal processing using Gaussian processes](http://andrewgelman.com/2012/06/14/cool-ass-signal-processing-using-gaussian-processes/)):\n",
        "\n",
        "[^1]: The CDC dataset used in this section uses the sex assigned at birth, which it calls \"gender,\" and limits the data to male and female. While gender is a spectrum independent of biology, I will be using the same terminology while discussing this dataset for consistency and clarity."
      ]
    },
    {
      "cell_type": "code",
      "execution_count": null,
      "metadata": {
        "jupyter": {
          "outputs_hidden": false
        },
        "id": "nK5G7PwN1fTA"
      },
      "outputs": [],
      "source": [
        "# shell command to download the data:\n",
        "!cd sample_data && curl -O \\\n",
        "https://raw.githubusercontent.com/jakevdp/data-CDCbirths/master/births.csv"
      ]
    },
    {
      "cell_type": "code",
      "execution_count": null,
      "metadata": {
        "tags": [],
        "id": "Z7jWikst1fTA"
      },
      "outputs": [],
      "source": []
    },
    {
      "cell_type": "markdown",
      "metadata": {
        "id": "9vXsy74Z1fTB"
      },
      "source": [
        "Taking a look at the data, we see that it's relatively simple—it contains the number of births grouped by date and gender:"
      ]
    },
    {
      "cell_type": "code",
      "execution_count": null,
      "metadata": {
        "jupyter": {
          "outputs_hidden": false
        },
        "id": "yh46Yluk1fTB"
      },
      "outputs": [],
      "source": []
    },
    {
      "cell_type": "markdown",
      "metadata": {
        "id": "UPXxu9fL1fTB"
      },
      "source": [
        "We can start to understand this data a bit more by using a pivot table.\n",
        "Let's add a `decade` column, and take a look at male and female births as a function of decade:"
      ]
    },
    {
      "cell_type": "code",
      "source": [],
      "metadata": {
        "id": "H3LCrE4YISNB"
      },
      "execution_count": null,
      "outputs": []
    },
    {
      "cell_type": "code",
      "execution_count": null,
      "metadata": {
        "jupyter": {
          "outputs_hidden": false
        },
        "id": "z_cuxMoo1fTB"
      },
      "outputs": [],
      "source": []
    },
    {
      "cell_type": "markdown",
      "metadata": {
        "id": "n-ZxZRJD1fTB"
      },
      "source": [
        "We see that male births outnumber female births in every decade.\n",
        "To see this trend a bit more clearly, we can use the built-in plotting tools in Pandas to visualize the total number of births by year, as shown in the following figure. (We will study more in detail visualization libraries in the following classes):"
      ]
    },
    {
      "cell_type": "code",
      "execution_count": null,
      "metadata": {
        "jupyter": {
          "outputs_hidden": false
        },
        "id": "AswAYkpN1fTB"
      },
      "outputs": [],
      "source": []
    },
    {
      "cell_type": "markdown",
      "metadata": {
        "id": "raq506ZU1fTD"
      },
      "source": [
        "With a simple pivot table and the `plot` method, we can immediately see the annual trend in births by gender. By eye, it appears that over the past 50 years male births have outnumbered female births by around 5%."
      ]
    }
  ]
}